{
 "cells": [
  {
   "cell_type": "markdown",
   "metadata": {
    "collapsed": true
   },
   "source": [
    "# &#x1F4D1; &nbsp; P2: Image Classification\n",
    "\n",
    "In this project, you'll classify images from the [CIFAR-10 dataset](https://www.cs.toronto.edu/~kriz/cifar.html).  The dataset consists of airplanes, dogs, cats, and other objects. You'll preprocess the images, then train a convolutional neural network on all the samples. The images need to be normalized and the labels need to be one-hot encoded.  You'll get to apply what you learned and build a convolutional, max pooling, dropout, and fully connected layers.  At the end, you'll get to see your neural network's predictions on the sample images.\n",
    "\n",
    "## Code Tools and Links"
   ]
  },
  {
   "cell_type": "code",
   "execution_count": 9,
   "metadata": {
    "collapsed": false
   },
   "outputs": [
    {
     "data": {
      "text/html": [
       "<style>\n",
       "@import url('https://fonts.googleapis.com/css?family=Orbitron');\n",
       "body {background-color: mintcream;}\n",
       "a {color: #458b74; font-family: Orbitron;}\n",
       "h1, h2 {color: #3CB371; font-family: Orbitron; text-shadow: 4px 4px 4px #aaa;}\n",
       "h3, h4 {color: #458b74; font-family: Orbitron; text-shadow: 4px 4px 4px #aaa;}\n",
       "</style>\n",
       "<script>\n",
       "code_show = true; \n",
       "function code_display() {\n",
       "    if (code_show) {\n",
       "        $('div.input').each(function(id) {\n",
       "            if (id == 0 || $(this).html().indexOf('hide_code') > -1) {$(this).hide();}\n",
       "        });\n",
       "        $('div.output_prompt').css('opacity', 0);\n",
       "    } else {\n",
       "        $('div.input').each(function(id) {$(this).show();});\n",
       "        $('div.output_prompt').css('opacity', 1);\n",
       "    };\n",
       "    code_show = !code_show;\n",
       "} \n",
       "$(document).ready(code_display);\n",
       "</script>\n",
       "<form action=\"javascript: code_display()\">\n",
       "<input style=\"color: #458b74; background: mintcream; opacity: 0.8;\" \\ \n",
       "type=\"submit\" value=\"Click to display or hide code cells\">\n",
       "</form>"
      ],
      "text/plain": [
       "<IPython.core.display.HTML object>"
      ]
     },
     "metadata": {},
     "output_type": "display_data"
    }
   ],
   "source": [
    "%%html\n",
    "<style>\n",
    "@import url('https://fonts.googleapis.com/css?family=Orbitron');\n",
    "body {background-color: mintcream;}\n",
    "a {color: #458b74; font-family: Orbitron;}\n",
    "h1, h2 {color: #3CB371; font-family: Orbitron; text-shadow: 4px 4px 4px #aaa;}\n",
    "h3, h4 {color: #458b74; font-family: Orbitron; text-shadow: 4px 4px 4px #aaa;}\n",
    "</style>\n",
    "<script>\n",
    "code_show = true; \n",
    "function code_display() {\n",
    "    if (code_show) {\n",
    "        $('div.input').each(function(id) {\n",
    "            if (id == 0 || $(this).html().indexOf('hide_code') > -1) {$(this).hide();}\n",
    "        });\n",
    "        $('div.output_prompt').css('opacity', 0);\n",
    "    } else {\n",
    "        $('div.input').each(function(id) {$(this).show();});\n",
    "        $('div.output_prompt').css('opacity', 1);\n",
    "    };\n",
    "    code_show = !code_show;\n",
    "} \n",
    "$(document).ready(code_display);\n",
    "</script>\n",
    "<form action=\"javascript: code_display()\">\n",
    "<input style=\"color: #458b74; background: mintcream; opacity: 0.8;\" \\ \n",
    "type=\"submit\" value=\"Click to display or hide code cells\">\n",
    "</form>"
   ]
  },
  {
   "cell_type": "code",
   "execution_count": 7,
   "metadata": {
    "collapsed": false
   },
   "outputs": [
    {
     "name": "stderr",
     "output_type": "stream",
     "text": [
      "Using TensorFlow backend.\n"
     ]
    }
   ],
   "source": [
    "hide_code=''\n",
    "%matplotlib inline\n",
    "%config InlineBackend.figure_format = 'retina'\n",
    "\n",
    "import numpy as np\n",
    "import pickle\n",
    "from urllib.request import urlretrieve\n",
    "from os.path import isfile, isdir\n",
    "from tqdm import tqdm\n",
    "\n",
    "import os\n",
    "import tensorflow as tf\n",
    "import random\n",
    "from unittest.mock import MagicMock\n",
    "\n",
    "import tarfile\n",
    "import matplotlib.pyplot as plt\n",
    "from sklearn.preprocessing import LabelBinarizer\n",
    "from keras.utils import to_categorical"
   ]
  },
  {
   "cell_type": "code",
   "execution_count": 13,
   "metadata": {
    "collapsed": false
   },
   "outputs": [],
   "source": [
    "hide_code\n",
    "# https://github.com/udacity/deep-learning/blob/master/image-classification/problem_unittests.py\n",
    "def _print_success_message():\n",
    "    print('Tests Passed')\n",
    "\n",
    "def test_folder_path(cifar10_dataset_folder_path):\n",
    "    assert cifar10_dataset_folder_path is not None,\\\n",
    "        'Cifar-10 data folder not set.'\n",
    "    assert cifar10_dataset_folder_path[-1] != '/',\\\n",
    "        'The \"/\" shouldn\\'t be added to the end of the path.'\n",
    "    assert os.path.exists(cifar10_dataset_folder_path),\\\n",
    "        'Path not found.'\n",
    "    assert os.path.isdir(cifar10_dataset_folder_path),\\\n",
    "        '{} is not a folder.'.format(os.path.basename(cifar10_dataset_folder_path))\n",
    "\n",
    "    train_files = [cifar10_dataset_folder_path + '/data_batch_' + str(batch_id) for batch_id in range(1, 6)]\n",
    "    other_files = [cifar10_dataset_folder_path + '/batches.meta', cifar10_dataset_folder_path + '/test_batch']\n",
    "    missing_files = [path for path in train_files + other_files if not os.path.exists(path)]\n",
    "\n",
    "    assert not missing_files,\\\n",
    "        'Missing files in directory: {}'.format(missing_files)\n",
    "\n",
    "    print('All files found!')\n",
    "\n",
    "def test_normalize(normalize):\n",
    "    test_shape = (np.random.choice(range(1000)), 32, 32, 3)\n",
    "    test_numbers = np.random.choice(range(256), test_shape)\n",
    "    normalize_out = normalize(test_numbers)\n",
    "\n",
    "    assert type(normalize_out).__module__ == np.__name__,\\\n",
    "        'Not Numpy Object'\n",
    "\n",
    "    assert normalize_out.shape == test_shape,\\\n",
    "        'Incorrect Shape. {} shape found'.format(normalize_out.shape)\n",
    "\n",
    "    assert normalize_out.max() <= 1 and normalize_out.min() >= 0,\\\n",
    "        'Incorect Range. {} to {} found'.format(normalize_out.min(), normalize_out.max())\n",
    "\n",
    "    _print_success_message()\n",
    "\n",
    "def test_one_hot_encode(one_hot_encode):\n",
    "    test_shape = np.random.choice(range(1000))\n",
    "    test_numbers = np.random.choice(range(10), test_shape)\n",
    "    one_hot_out = one_hot_encode(test_numbers)\n",
    "\n",
    "    assert type(one_hot_out).__module__ == np.__name__,\\\n",
    "        'Not Numpy Object'\n",
    "\n",
    "    assert one_hot_out.shape == (test_shape, 10),\\\n",
    "        'Incorrect Shape. {} shape found'.format(one_hot_out.shape)\n",
    "\n",
    "    n_encode_tests = 5\n",
    "    test_pairs = list(zip(test_numbers, one_hot_out))\n",
    "    test_indices = np.random.choice(len(test_numbers), n_encode_tests)\n",
    "    labels = [test_pairs[test_i][0] for test_i in test_indices]\n",
    "    enc_labels = np.array([test_pairs[test_i][1] for test_i in test_indices])\n",
    "    new_enc_labels = one_hot_encode(labels)\n",
    "\n",
    "    assert np.array_equal(enc_labels, new_enc_labels),\\\n",
    "        'Encodings returned different results for the same numbers.\\n' \\\n",
    "        'For the first call it returned:\\n' \\\n",
    "        '{}\\n' \\\n",
    "        'For the second call it returned\\n' \\\n",
    "        '{}\\n' \\\n",
    "        'Make sure you save the map of labels to encodings outside of the function.'\\\n",
    "        .format(enc_labels, new_enc_labels)\n",
    "\n",
    "    for one_hot in new_enc_labels:\n",
    "        assert (one_hot==1).sum() == 1,\\\n",
    "            'Each one-hot-encoded value should include the number 1 exactly once.\\n' \\\n",
    "            'Found {}\\n'.format(one_hot)\n",
    "        assert (one_hot==0).sum() == len(one_hot)-1,\\\n",
    "            'Each one-hot-encoded value should include zeros in all but one position.\\n' \\\n",
    "            'Found {}\\n'.format(one_hot)\n",
    "\n",
    "    _print_success_message()\n",
    "\n",
    "def test_nn_image_inputs(neural_net_image_input):\n",
    "    image_shape = (32, 32, 3)\n",
    "    nn_inputs_out_x = neural_net_image_input(image_shape)\n",
    "\n",
    "    assert nn_inputs_out_x.get_shape().as_list() == [None, image_shape[0], image_shape[1], image_shape[2]],\\\n",
    "        'Incorrect Image Shape.  Found {} shape'.format(nn_inputs_out_x.get_shape().as_list())\n",
    "\n",
    "    assert nn_inputs_out_x.op.type == 'Placeholder',\\\n",
    "        'Incorrect Image Type.  Found {} type'.format(nn_inputs_out_x.op.type)\n",
    "\n",
    "    assert nn_inputs_out_x.name == 'x:0', \\\n",
    "        'Incorrect Name.  Found {}'.format(nn_inputs_out_x.name)\n",
    "\n",
    "    print('Image Input Tests Passed.')\n",
    "\n",
    "def test_nn_label_inputs(neural_net_label_input):\n",
    "    n_classes = 10\n",
    "    nn_inputs_out_y = neural_net_label_input(n_classes)\n",
    "\n",
    "    assert nn_inputs_out_y.get_shape().as_list() == [None, n_classes],\\\n",
    "        'Incorrect Label Shape.  Found {} shape'.format(nn_inputs_out_y.get_shape().as_list())\n",
    "\n",
    "    assert nn_inputs_out_y.op.type == 'Placeholder',\\\n",
    "        'Incorrect Label Type.  Found {} type'.format(nn_inputs_out_y.op.type)\n",
    "\n",
    "    assert nn_inputs_out_y.name == 'y:0', \\\n",
    "        'Incorrect Name.  Found {}'.format(nn_inputs_out_y.name)\n",
    "\n",
    "    print('Label Input Tests Passed.')\n",
    "\n",
    "def test_nn_keep_prob_inputs(neural_net_keep_prob_input):\n",
    "    nn_inputs_out_k = neural_net_keep_prob_input()\n",
    "\n",
    "    assert nn_inputs_out_k.get_shape().ndims is None,\\\n",
    "    'Too many dimensions found for keep prob.  Found {} dimensions.It should be a scalar (0-Dimension Tensor).'\\\n",
    "    .format(nn_inputs_out_k.get_shape().ndims)\n",
    "\n",
    "    assert nn_inputs_out_k.op.type == 'Placeholder',\\\n",
    "        'Incorrect keep prob Type.  Found {} type'.format(nn_inputs_out_k.op.type)\n",
    "\n",
    "    assert nn_inputs_out_k.name == 'keep_prob:0', \\\n",
    "        'Incorrect Name.  Found {}'.format(nn_inputs_out_k.name)\n",
    "\n",
    "    print('Keep Prob Tests Passed.')\n",
    "\n",
    "def test_con_pool(conv2d_maxpool):\n",
    "    test_x = tf.placeholder(tf.float32, [None, 32, 32, 5])\n",
    "    test_num_outputs = 10\n",
    "    test_con_k = (2, 2)\n",
    "    test_con_s = (4, 4)\n",
    "    test_pool_k = (2, 2)\n",
    "    test_pool_s = (2, 2)\n",
    "\n",
    "    conv2d_maxpool_out = conv2d_maxpool(test_x, test_num_outputs, test_con_k, \n",
    "                                        test_con_s, test_pool_k, test_pool_s)\n",
    "\n",
    "    assert conv2d_maxpool_out.get_shape().as_list() == [None, 4, 4, 10],\\\n",
    "        'Incorrect Shape.  Found {} shape'.format(conv2d_maxpool_out.get_shape().as_list())\n",
    "\n",
    "    _print_success_message()\n",
    "\n",
    "def test_flatten(flatten):\n",
    "    test_x = tf.placeholder(tf.float32, [None, 10, 30, 6])\n",
    "    flat_out = flatten(test_x)\n",
    "\n",
    "    assert flat_out.get_shape().as_list() == [None, 10*30*6],\\\n",
    "        'Incorrect Shape.  Found {} shape'.format(flat_out.get_shape().as_list())\n",
    "\n",
    "    _print_success_message()\n",
    "\n",
    "def test_fully_conn(fully_conn):\n",
    "    test_x = tf.placeholder(tf.float32, [None, 128])\n",
    "    test_num_outputs = 40\n",
    "\n",
    "    fc_out = fully_conn(test_x, test_num_outputs)\n",
    "\n",
    "    assert fc_out.get_shape().as_list() == [None, 40],\\\n",
    "        'Incorrect Shape.  Found {} shape'.format(fc_out.get_shape().as_list())\n",
    "\n",
    "    _print_success_message()\n",
    "\n",
    "def test_output(output):\n",
    "    test_x = tf.placeholder(tf.float32, [None, 128])\n",
    "    test_num_outputs = 40\n",
    "\n",
    "    output_out = output(test_x, test_num_outputs)\n",
    "\n",
    "    assert output_out.get_shape().as_list() == [None, 40],\\\n",
    "        'Incorrect Shape.  Found {} shape'.format(output_out.get_shape().as_list())\n",
    "\n",
    "    _print_success_message()\n",
    "\n",
    "def test_conv_net(conv_net):\n",
    "    test_x = tf.placeholder(tf.float32, [None, 32, 32, 3])\n",
    "    test_k = tf.placeholder(tf.float32)\n",
    "\n",
    "    logits_out = conv_net(test_x, test_k)\n",
    "\n",
    "    assert logits_out.get_shape().as_list() == [None, 10],\\\n",
    "        'Incorrect Model Output.  Found {}'.format(logits_out.get_shape().as_list())\n",
    "\n",
    "    print('Neural Network Built!')\n",
    "\n",
    "def test_train_nn(train_neural_network):\n",
    "    mock_session = tf.Session()\n",
    "    test_x = np.random.rand(128, 32, 32, 3)\n",
    "    test_y = np.random.rand(128, 10)\n",
    "    test_k = np.random.rand(1)\n",
    "    test_optimizer = tf.train.AdamOptimizer()\n",
    "\n",
    "    mock_session.run = MagicMock()\n",
    "    train_neural_network(mock_session, test_optimizer, test_k, test_x, test_y)\n",
    "\n",
    "    assert mock_session.run.called, 'Session not used'\n",
    "\n",
    "    _print_success_message()"
   ]
  },
  {
   "cell_type": "code",
   "execution_count": 14,
   "metadata": {
    "collapsed": true
   },
   "outputs": [],
   "source": [
    "hide_code\n",
    "# https://github.com/udacity/deep-learning/blob/master/image-classification/helper.py\n",
    "def _load_label_names():\n",
    "    \"\"\"\n",
    "    Load the label names from file\n",
    "    \"\"\"\n",
    "    return ['airplane', 'automobile', 'bird', 'cat', 'deer', 'dog', 'frog', 'horse', 'ship', 'truck']\n",
    "\n",
    "def load_cfar10_batch(cifar10_dataset_folder_path, batch_id):\n",
    "    \"\"\"\n",
    "    Load a batch of the dataset\n",
    "    \"\"\"\n",
    "    with open(cifar10_dataset_folder_path + '/data_batch_' + str(batch_id), mode='rb') as file:\n",
    "        batch = pickle.load(file, encoding='latin1')\n",
    "\n",
    "    features = batch['data'].reshape((len(batch['data']), 3, 32, 32)).transpose(0, 2, 3, 1)\n",
    "    labels = batch['labels']\n",
    "\n",
    "    return features, labels\n",
    "\n",
    "def display_stats(cifar10_dataset_folder_path, batch_id, sample_id):\n",
    "    \"\"\"\n",
    "    Display Stats of the the dataset\n",
    "    \"\"\"\n",
    "    batch_ids = list(range(1, 6))\n",
    "\n",
    "    if batch_id not in batch_ids:\n",
    "        print('Batch Id out of Range. Possible Batch Ids: {}'.format(batch_ids))\n",
    "        return None\n",
    "\n",
    "    features, labels = load_cfar10_batch(cifar10_dataset_folder_path, batch_id)\n",
    "\n",
    "    if not (0 <= sample_id < len(features)):\n",
    "        print('{} samples in batch {}.  {} is out of range.'.format(len(features), batch_id, sample_id))\n",
    "        return None\n",
    "\n",
    "    print('\\nStats of batch {}:'.format(batch_id))\n",
    "    print('Samples: {}'.format(len(features)))\n",
    "    print('Label Counts: {}'.format(dict(zip(*np.unique(labels, return_counts=True)))))\n",
    "    print('First 20 Labels: {}'.format(labels[:20]))\n",
    "\n",
    "    sample_image = features[sample_id]\n",
    "    sample_label = labels[sample_id]\n",
    "    label_names = _load_label_names()\n",
    "\n",
    "    print('\\nExample of Image {}:'.format(sample_id))\n",
    "    print('Image - Min Value: {} Max Value: {}'.format(sample_image.min(), sample_image.max()))\n",
    "    print('Image - Shape: {}'.format(sample_image.shape))\n",
    "    print('Label - Label Id: {} Name: {}'.format(sample_label, label_names[sample_label]))\n",
    "    plt.axis('off')\n",
    "    plt.imshow(sample_image)\n",
    "\n",
    "def _preprocess_and_save(normalize, one_hot_encode, features, labels, filename):\n",
    "    \"\"\"\n",
    "    Preprocess data and save it to file\n",
    "    \"\"\"\n",
    "    features = normalize(features)\n",
    "    labels = one_hot_encode(labels)\n",
    "\n",
    "    pickle.dump((features, labels), open(filename, 'wb'))\n",
    "\n",
    "def preprocess_and_save_data(cifar10_dataset_folder_path, normalize, one_hot_encode):\n",
    "    \"\"\"\n",
    "    Preprocess Training and Validation Data\n",
    "    \"\"\"\n",
    "    n_batches = 5\n",
    "    valid_features = []\n",
    "    valid_labels = []\n",
    "\n",
    "    for batch_i in range(1, n_batches + 1):\n",
    "        features, labels = load_cfar10_batch(cifar10_dataset_folder_path, batch_i)\n",
    "        validation_count = int(len(features) * 0.1)\n",
    "\n",
    "        # Prprocess and save a batch of training data\n",
    "        _preprocess_and_save(\n",
    "            normalize,\n",
    "            one_hot_encode,\n",
    "            features[:-validation_count],\n",
    "            labels[:-validation_count],\n",
    "            'preprocess_batch_' + str(batch_i) + '.p')\n",
    "\n",
    "        # Use a portion of training batch for validation\n",
    "        valid_features.extend(features[-validation_count:])\n",
    "        valid_labels.extend(labels[-validation_count:])\n",
    "\n",
    "    # Preprocess and Save all validation data\n",
    "    _preprocess_and_save(\n",
    "        normalize,\n",
    "        one_hot_encode,\n",
    "        np.array(valid_features),\n",
    "        np.array(valid_labels),\n",
    "        'preprocess_validation.p')\n",
    "\n",
    "    with open(cifar10_dataset_folder_path + '/test_batch', mode='rb') as file:\n",
    "        batch = pickle.load(file, encoding='latin1')\n",
    "\n",
    "    # load the test data\n",
    "    test_features = batch['data'].reshape((len(batch['data']), 3, 32, 32)).transpose(0, 2, 3, 1)\n",
    "    test_labels = batch['labels']\n",
    "\n",
    "    # Preprocess and Save all test data\n",
    "    _preprocess_and_save(\n",
    "        normalize,\n",
    "        one_hot_encode,\n",
    "        np.array(test_features),\n",
    "        np.array(test_labels),\n",
    "        'preprocess_test.p')\n",
    "\n",
    "def batch_features_labels(features, labels, batch_size):\n",
    "    \"\"\"\n",
    "    Split features and labels into batches\n",
    "    \"\"\"\n",
    "    for start in range(0, len(features), batch_size):\n",
    "        end = min(start + batch_size, len(features))\n",
    "        yield features[start:end], labels[start:end]\n",
    "\n",
    "def load_preprocess_training_batch(batch_id, batch_size):\n",
    "    \"\"\"\n",
    "    Load the Preprocessed Training data and return them in batches of <batch_size> or less\n",
    "    \"\"\"\n",
    "    filename = 'preprocess_batch_' + str(batch_id) + '.p'\n",
    "    features, labels = pickle.load(open(filename, mode='rb'))\n",
    "\n",
    "    # Return the training data in batches of size <batch_size> or less\n",
    "    return batch_features_labels(features, labels, batch_size)\n",
    "\n",
    "def display_image_predictions(features, labels, predictions):\n",
    "    n_classes = 10\n",
    "    label_names = _load_label_names()\n",
    "    label_binarizer = LabelBinarizer()\n",
    "    label_binarizer.fit(range(n_classes))\n",
    "    label_ids = label_binarizer.inverse_transform(np.array(labels))\n",
    "\n",
    "    fig, axies = plt.subplots(nrows=4, ncols=2)\n",
    "    fig.tight_layout()\n",
    "    fig.suptitle('Softmax Predictions', fontsize=20, y=1.1)\n",
    "\n",
    "    n_predictions = 3\n",
    "    margin = 0.05\n",
    "    ind = np.arange(n_predictions)\n",
    "    width = (1. - 2. * margin) / n_predictions\n",
    "\n",
    "    for image_i, (feature, label_id, pred_indicies, pred_values) in enumerate(zip(features, label_ids, \n",
    "                                                                                  predictions.indices, \n",
    "                                                                                  predictions.values)):\n",
    "        pred_names = [label_names[pred_i] for pred_i in pred_indicies]\n",
    "        correct_name = label_names[label_id]\n",
    "\n",
    "        axies[image_i][0].imshow(feature)\n",
    "        axies[image_i][0].set_title(correct_name)\n",
    "        axies[image_i][0].set_axis_off()\n",
    "\n",
    "        axies[image_i][1].barh(ind + margin, pred_values[::-1], width)\n",
    "        axies[image_i][1].set_yticks(ind + margin)\n",
    "        axies[image_i][1].set_yticklabels(pred_names[::-1])\n",
    "        axies[image_i][1].set_xticks([0, 0.5, 1.0])"
   ]
  },
  {
   "cell_type": "markdown",
   "metadata": {},
   "source": [
    "## Get  the  Data \n",
    "Run the following cell to download the [CIFAR-10 dataset for python](https://www.cs.toronto.edu/~kriz/cifar-10-python.tar.gz)."
   ]
  },
  {
   "cell_type": "code",
   "execution_count": 15,
   "metadata": {
    "collapsed": false
   },
   "outputs": [
    {
     "name": "stdout",
     "output_type": "stream",
     "text": [
      "All files found!\n"
     ]
    }
   ],
   "source": [
    "hide_code\n",
    "\"\"\"\n",
    "DON'T MODIFY ANYTHING IN THIS CELL THAT IS BELOW THIS LINE\n",
    "\"\"\"\n",
    "cifar10_dataset_folder_path = 'cifar-10-batches-py'\n",
    "\n",
    "# Use Floyd's cifar-10 dataset if present\n",
    "floyd_cifar10_location = 'cifar/cifar-10-python.tar.gz'\n",
    "if isfile(floyd_cifar10_location):\n",
    "    tar_gz_path = floyd_cifar10_location\n",
    "else:\n",
    "    tar_gz_path = 'cifar-10-python.tar.gz'\n",
    "\n",
    "class DLProgress(tqdm):\n",
    "    last_block = 0\n",
    "\n",
    "    def hook(self, block_num=1, block_size=1, total_size=None):\n",
    "        self.total = total_size\n",
    "        self.update((block_num - self.last_block) * block_size)\n",
    "        self.last_block = block_num\n",
    "\n",
    "if not isfile(tar_gz_path):\n",
    "    with DLProgress(unit='B', unit_scale=True, miniters=1, desc='CIFAR-10 Dataset') as pbar:\n",
    "        urlretrieve(\n",
    "            'https://www.cs.toronto.edu/~kriz/cifar-10-python.tar.gz',\n",
    "            tar_gz_path,\n",
    "            pbar.hook)\n",
    "\n",
    "if not isdir(cifar10_dataset_folder_path):\n",
    "    with tarfile.open(tar_gz_path) as tar:\n",
    "        tar.extractall()\n",
    "        tar.close()\n",
    "\n",
    "test_folder_path(cifar10_dataset_folder_path)"
   ]
  },
  {
   "cell_type": "markdown",
   "metadata": {},
   "source": [
    "## Explore the Data\n",
    "The dataset is broken into batches to prevent your machine from running out of memory.  The CIFAR-10 dataset consists of 5 batches, named `data_batch_1`, `data_batch_2`, etc.. Each batch contains the labels and images that are one of the following:\n",
    "* airplane\n",
    "* automobile\n",
    "* bird\n",
    "* cat\n",
    "* deer\n",
    "* dog\n",
    "* frog\n",
    "* horse\n",
    "* ship\n",
    "* truck\n",
    "\n",
    "Understanding a dataset is part of making predictions on the data.  Play around with the code cell below by changing the `batch_id` and `sample_id`. The `batch_id` is the id for a batch (1-5). The `sample_id` is the id for a image and label pair in the batch.\n",
    "\n",
    "Ask yourself \"What are all possible labels?\", \"What is the range of values for the image data?\", \"Are the labels in order or random?\".  Answers to questions like these will help you preprocess the data and end up with better predictions."
   ]
  },
  {
   "cell_type": "code",
   "execution_count": 16,
   "metadata": {
    "collapsed": false
   },
   "outputs": [
    {
     "name": "stdout",
     "output_type": "stream",
     "text": [
      "\n",
      "Stats of batch 2:\n",
      "Samples: 10000\n",
      "Label Counts: {0: 984, 1: 1007, 2: 1010, 3: 995, 4: 1010, 5: 988, 6: 1008, 7: 1026, 8: 987, 9: 985}\n",
      "First 20 Labels: [1, 6, 6, 8, 8, 3, 4, 6, 0, 6, 0, 3, 6, 6, 5, 4, 8, 3, 2, 6]\n",
      "\n",
      "Example of Image 10:\n",
      "Image - Min Value: 4 Max Value: 231\n",
      "Image - Shape: (32, 32, 3)\n",
      "Label - Label Id: 0 Name: airplane\n"
     ]
    },
    {
     "data": {
      "image/png": "[encoded data removed]",
      "text/plain": [
       "<matplotlib.figure.Figure at 0x104a92358>"
      ]
     },
     "metadata": {
      "image/png": {
       "height": 250,
       "width": 253
      }
     },
     "output_type": "display_data"
    }
   ],
   "source": [
    "hide_code\n",
    "# Explore the dataset\n",
    "batch_id = 2\n",
    "sample_id = 10\n",
    "display_stats(cifar10_dataset_folder_path, batch_id, sample_id)"
   ]
  },
  {
   "cell_type": "markdown",
   "metadata": {},
   "source": [
    "## Implement  Preprocess  Functions \n",
    "### Normalize\n",
    "In the cell below, implement the `normalize` function to take in image data, `x`, and return it as a normalized Numpy array. The values should be in the range of 0 to 1, inclusive.  The return object should be the same shape as `x`."
   ]
  },
  {
   "cell_type": "code",
   "execution_count": 17,
   "metadata": {
    "collapsed": false
   },
   "outputs": [
    {
     "name": "stdout",
     "output_type": "stream",
     "text": [
      "Tests Passed\n"
     ]
    }
   ],
   "source": [
    "hide_code\n",
    "def normalize(x):\n",
    "    \"\"\"\n",
    "    Normalize a list of sample image data in the range of 0 to 1\n",
    "    : x: List of image data.  The image shape is (32, 32, 3)\n",
    "    : return: Numpy array of normalize data\n",
    "    \"\"\"\n",
    "    # TODO: Implement Function\n",
    "    norm_x = x / 255\n",
    "    return norm_x\n",
    "\n",
    "\"\"\"\n",
    "DON'T MODIFY ANYTHING IN THIS CELL THAT IS BELOW THIS LINE\n",
    "\"\"\"\n",
    "test_normalize(normalize)"
   ]
  },
  {
   "cell_type": "markdown",
   "metadata": {},
   "source": [
    "### One-hot encode\n",
    "Just like the previous code cell, you'll be implementing a function for preprocessing.  This time, you'll implement the `one_hot_encode` function. The input, `x`, are a list of labels.  Implement the function to return the list of labels as One-Hot encoded Numpy array.  The possible values for labels are 0 to 9. The one-hot encoding function should return the same encoding for each value between each call to `one_hot_encode`.  Make sure to save the map of encodings outside the function.\n",
    "\n",
    "Hint: Don't reinvent the wheel."
   ]
  },
  {
   "cell_type": "code",
   "execution_count": 18,
   "metadata": {
    "collapsed": false
   },
   "outputs": [
    {
     "name": "stdout",
     "output_type": "stream",
     "text": [
      "Tests Passed\n"
     ]
    }
   ],
   "source": [
    "hide_code\n",
    "def one_hot_encode(x):\n",
    "    \"\"\"\n",
    "    One hot encode a list of sample labels. Return a one-hot encoded vector for each label.\n",
    "    : x: List of sample Labels\n",
    "    : return: Numpy array of one-hot encoded labels\n",
    "    \"\"\"\n",
    "    # TODO: Implement Function\n",
    "    x_categorical = to_categorical(x, num_classes=10)   \n",
    "    return x_categorical\n",
    "\n",
    "\"\"\"\n",
    "DON'T MODIFY ANYTHING IN THIS CELL THAT IS BELOW THIS LINE\n",
    "\"\"\"\n",
    "test_one_hot_encode(one_hot_encode)"
   ]
  },
  {
   "cell_type": "markdown",
   "metadata": {},
   "source": [
    "### Randomize Data\n",
    "As you saw from exploring the data above, the order of the samples are randomized.  It doesn't hurt to randomize it again, but you don't need to for this dataset."
   ]
  },
  {
   "cell_type": "markdown",
   "metadata": {},
   "source": [
    "### Preprocess All the Data and Save It\n",
    "Running the code cell below will preprocess all the CIFAR-10 data and save it to file. The code below also uses 10% of the training data for validation."
   ]
  },
  {
   "cell_type": "code",
   "execution_count": 19,
   "metadata": {
    "collapsed": true
   },
   "outputs": [],
   "source": [
    "hide_code\n",
    "\"\"\"\n",
    "DON'T MODIFY ANYTHING IN THIS CELL\n",
    "\"\"\"\n",
    "# Preprocess Training, Validation, and Testing Data\n",
    "preprocess_and_save_data(cifar10_dataset_folder_path, normalize, one_hot_encode)"
   ]
  },
  {
   "cell_type": "markdown",
   "metadata": {},
   "source": [
    "## Check Point\n",
    "This is your first checkpoint.  If you ever decide to come back to this notebook or have to restart the notebook, you can start from here.  The preprocessed data has been saved to disk."
   ]
  },
  {
   "cell_type": "code",
   "execution_count": 20,
   "metadata": {
    "collapsed": true
   },
   "outputs": [],
   "source": [
    "hide_code\n",
    "\"\"\"\n",
    "DON'T MODIFY ANYTHING IN THIS CELL\n",
    "\"\"\"\n",
    "# Load the Preprocessed Validation data\n",
    "valid_features, valid_labels = pickle.load(open('preprocess_validation.p', mode='rb'))"
   ]
  },
  {
   "cell_type": "markdown",
   "metadata": {},
   "source": [
    "## Build the Network\n",
    "For the neural network, you'll build each layer into a function.  Most of the code you've seen has been outside of functions. To test your code more thoroughly, we require that you put each layer in a function.  This allows us to give you better feedback and test for simple mistakes using our unittests before you submit your project.\n",
    "\n",
    ">**Note:** If you're finding it hard to dedicate enough time for this course each week, we've provided a small shortcut to this part of the project. In the next couple of problems, you'll have the option to use classes from the [TensorFlow Layers](https://www.tensorflow.org/api_docs/python/tf/layers) or [TensorFlow Layers (contrib)](https://www.tensorflow.org/api_guides/python/contrib.layers) packages to build each layer, except the layers you build in the \"Convolutional and Max Pooling Layer\" section.  TF Layers is similar to Keras's and TFLearn's abstraction to layers, so it's easy to pickup.\n",
    "\n",
    ">However, if you would like to get the most out of this course, try to solve all the problems _without_ using anything from the TF Layers packages. You **can** still use classes from other packages that happen to have the same name as ones you find in TF Layers! For example, instead of using the TF Layers version of the `conv2d` class, [tf.layers.conv2d](https://www.tensorflow.org/api_docs/python/tf/layers/conv2d), you would want to use the TF Neural Network version of `conv2d`, [tf.nn.conv2d](https://www.tensorflow.org/api_docs/python/tf/nn/conv2d). \n",
    "\n",
    "Let's begin!\n",
    "\n",
    "### Input\n",
    "The neural network needs to read the image data, one-hot encoded labels, and dropout keep probability. Implement the following functions\n",
    "* Implement `neural_net_image_input`\n",
    " * Return a [TF Placeholder](https://www.tensorflow.org/api_docs/python/tf/placeholder)\n",
    " * Set the shape using `image_shape` with batch size set to `None`.\n",
    " * Name the TensorFlow placeholder \"x\" using the TensorFlow `name` parameter in the [TF Placeholder](https://www.tensorflow.org/api_docs/python/tf/placeholder).\n",
    "* Implement `neural_net_label_input`\n",
    " * Return a [TF Placeholder](https://www.tensorflow.org/api_docs/python/tf/placeholder)\n",
    " * Set the shape using `n_classes` with batch size set to `None`.\n",
    " * Name the TensorFlow placeholder \"y\" using the TensorFlow `name` parameter in the [TF Placeholder](https://www.tensorflow.org/api_docs/python/tf/placeholder).\n",
    "* Implement `neural_net_keep_prob_input`\n",
    " * Return a [TF Placeholder](https://www.tensorflow.org/api_docs/python/tf/placeholder) for dropout keep probability.\n",
    " * Name the TensorFlow placeholder \"keep_prob\" using the TensorFlow `name` parameter in the [TF Placeholder](https://www.tensorflow.org/api_docs/python/tf/placeholder).\n",
    "\n",
    "These names will be used at the end of the project to load your saved model.\n",
    "\n",
    "Note: `None` for shapes in TensorFlow allow for a dynamic size."
   ]
  },
  {
   "cell_type": "code",
   "execution_count": 21,
   "metadata": {
    "collapsed": false
   },
   "outputs": [
    {
     "name": "stdout",
     "output_type": "stream",
     "text": [
      "Image Input Tests Passed.\n",
      "Label Input Tests Passed.\n",
      "Keep Prob Tests Passed.\n"
     ]
    }
   ],
   "source": [
    "hide_code\n",
    "def neural_net_image_input(image_shape):\n",
    "    \"\"\"\n",
    "    Return a Tensor for a batch of image input\n",
    "    : image_shape: Shape of the images\n",
    "    : return: Tensor for image input.\n",
    "    \"\"\"\n",
    "    # TODO: Implement Function    \n",
    "    return tf.placeholder(tf.float32, shape = [None, image_shape[0], image_shape[1], image_shape[2]], name = 'x')\n",
    "\n",
    "def neural_net_label_input(n_classes):\n",
    "    \"\"\"\n",
    "    Return a Tensor for a batch of label input\n",
    "    : n_classes: Number of classes\n",
    "    : return: Tensor for label input.\n",
    "    \"\"\"\n",
    "    # TODO: Implement Function\n",
    "    return tf.placeholder(tf.float32, shape=[None, n_classes], name = 'y')\n",
    "\n",
    "def neural_net_keep_prob_input():\n",
    "    \"\"\"\n",
    "    Return a Tensor for keep probability\n",
    "    : return: Tensor for keep probability.\n",
    "    \"\"\"\n",
    "    # TODO: Implement Function\n",
    "    return tf.placeholder(tf.float32, shape=None, name = 'keep_prob')\n",
    "\"\"\"\n",
    "DON'T MODIFY ANYTHING IN THIS CELL THAT IS BELOW THIS LINE\n",
    "\"\"\"\n",
    "tf.reset_default_graph()\n",
    "test_nn_image_inputs(neural_net_image_input)\n",
    "test_nn_label_inputs(neural_net_label_input)\n",
    "test_nn_keep_prob_inputs(neural_net_keep_prob_input)"
   ]
  },
  {
   "cell_type": "markdown",
   "metadata": {},
   "source": [
    "### Convolution and Max Pooling Layer\n",
    "Convolution layers have a lot of success with images. For this code cell, you should implement the function `conv2d_maxpool` to apply convolution then max pooling:\n",
    "* Create the weight and bias using `conv_ksize`, `conv_num_outputs` and the shape of `x_tensor`.\n",
    "* Apply a convolution to `x_tensor` using weight and `conv_strides`.\n",
    " * We recommend you use same padding, but you're welcome to use any padding.\n",
    "* Add bias\n",
    "* Add a nonlinear activation to the convolution.\n",
    "* Apply Max Pooling using `pool_ksize` and `pool_strides`.\n",
    " * We recommend you use same padding, but you're welcome to use any padding.\n",
    "\n",
    "**Note:** You **can't** use [TensorFlow Layers](https://www.tensorflow.org/api_docs/python/tf/layers) or [TensorFlow Layers (contrib)](https://www.tensorflow.org/api_guides/python/contrib.layers) for **this** layer, but you can still use TensorFlow's [Neural Network](https://www.tensorflow.org/api_docs/python/tf/nn) package. You may still use the shortcut option for all the **other** layers."
   ]
  },
  {
   "cell_type": "code",
   "execution_count": 30,
   "metadata": {
    "collapsed": false
   },
   "outputs": [
    {
     "name": "stdout",
     "output_type": "stream",
     "text": [
      "Tests Passed\n"
     ]
    }
   ],
   "source": [
    "hide_code\n",
    "def conv2d_maxpool(x_tensor, conv_num_outputs, conv_ksize, conv_strides, pool_ksize, pool_strides):\n",
    "    \"\"\"\n",
    "    Apply convolution then max pooling to x_tensor\n",
    "    :param x_tensor: TensorFlow Tensor\n",
    "    :param conv_num_outputs: Number of outputs for the convolutional layer\n",
    "    :param conv_ksize: kernal size 2-D Tuple for the convolutional layer\n",
    "    :param conv_strides: Stride 2-D Tuple for convolution\n",
    "    :param pool_ksize: kernal size 2-D Tuple for pool\n",
    "    :param pool_strides: Stride 2-D Tuple for pool\n",
    "    : return: A tensor that represents convolution and max pooling of x_tensor\n",
    "    \"\"\"\n",
    "    # TODO: Implement Function\n",
    "    def weight_variable(shape):\n",
    "        return tf.Variable(tf.truncated_normal(shape, stddev=0.04))\n",
    "\n",
    "    def bias_variable(shape):\n",
    "        return tf.Variable(tf.constant(0.04, shape=shape))   \n",
    "    \n",
    "    layer1_weights = weight_variable([conv_ksize[0], conv_ksize[1], x_tensor.shape[3].value, conv_num_outputs])\n",
    "    layer1_biases = bias_variable([conv_num_outputs])\n",
    "       \n",
    "#    layer2_weights = weight_variable([conv_ksize[0], conv_ksize[1], conv_num_outputs, conv_num_outputs])\n",
    "#    layer2_biases = bias_variable([conv_num_outputs])\n",
    "    \n",
    "#    layer3_weights = weight_variable([conv_ksize[0], conv_ksize[1], conv_num_outputs, conv_num_outputs])\n",
    "#    layer3_biases = bias_variable([conv_num_outputs])\n",
    "\n",
    "    def conv2d(x, W):\n",
    "        return tf.nn.conv2d(x, W, strides=[1, conv_strides[0], conv_strides[1], 1], padding='SAME')\n",
    "    def conv2d2(x, W):\n",
    "        return tf.nn.conv2d(x, W, strides=[1, conv_strides[0]//4, conv_strides[1]//4, 1], padding='SAME')\n",
    "    def max_pool(x):\n",
    "        return tf.nn.max_pool(x, ksize=[1, pool_ksize[0], pool_ksize[1], 1], \n",
    "                              strides=[1, pool_strides[0], pool_strides[1], 1], padding='SAME')\n",
    "    def max_pool2(x):\n",
    "        return tf.nn.max_pool(x, ksize=[1, pool_ksize[0], pool_ksize[1], 1], \n",
    "                              strides=[1, pool_strides[0]//2, pool_strides[1]//2, 1], padding='SAME')\n",
    "    \n",
    "    h_conv1 = tf.nn.relu(conv2d(x_tensor, layer1_weights) + layer1_biases)\n",
    "    h_pool1 = max_pool(h_conv1)\n",
    "    \n",
    "#    h_conv2 = tf.nn.relu(conv2d(h_pool1, layer2_weights) + layer2_biases)\n",
    "#    h_pool2 = max_pool2(h_conv2)\n",
    "    \n",
    "#    h_conv3 = tf.nn.relu(conv2d(h_pool2, layer3_weights) + layer3_biases)\n",
    "#    h_pool3 = max_pool(h_conv3)\n",
    "    \n",
    "    return h_pool1\n",
    "\"\"\"\n",
    "DON'T MODIFY ANYTHING IN THIS CELL THAT IS BELOW THIS LINE\n",
    "\"\"\"\n",
    "test_con_pool(conv2d_maxpool)"
   ]
  },
  {
   "cell_type": "markdown",
   "metadata": {},
   "source": [
    "### Flatten Layer\n",
    "Implement the `flatten` function to change the dimension of `x_tensor` from a 4-D tensor to a 2-D tensor.  The output should be the shape (*Batch Size*, *Flattened Image Size*). Shortcut option: you can use classes from the [TensorFlow Layers](https://www.tensorflow.org/api_docs/python/tf/layers) or [TensorFlow Layers (contrib)](https://www.tensorflow.org/api_guides/python/contrib.layers) packages for this layer. For more of a challenge, only use other TensorFlow packages."
   ]
  },
  {
   "cell_type": "code",
   "execution_count": 31,
   "metadata": {
    "collapsed": false
   },
   "outputs": [
    {
     "name": "stdout",
     "output_type": "stream",
     "text": [
      "Tests Passed\n"
     ]
    }
   ],
   "source": [
    "hide_code\n",
    "def flatten(x_tensor):\n",
    "    \"\"\"\n",
    "    Flatten x_tensor to (Batch Size, Flattened Image Size)\n",
    "    : x_tensor: A tensor of size (Batch Size, ...), where ... are the image dimensions.\n",
    "    : return: A tensor of size (Batch Size, Flattened Image Size).\n",
    "    \"\"\"\n",
    "    # TODO: Implement Function\n",
    "    shape = lambda i: x_tensor.shape[i].value\n",
    "    size = shape(1) * shape(2) * shape(3)\n",
    "    return tf.reshape(x_tensor, [-1, size])\n",
    "\n",
    "\"\"\"\n",
    "DON'T MODIFY ANYTHING IN THIS CELL THAT IS BELOW THIS LINE\n",
    "\"\"\"\n",
    "test_flatten(flatten)"
   ]
  },
  {
   "cell_type": "markdown",
   "metadata": {},
   "source": [
    "### Fully-Connected Layer\n",
    "Implement the `fully_conn` function to apply a fully connected layer to `x_tensor` with the shape (*Batch Size*, *num_outputs*). Shortcut option: you can use classes from the [TensorFlow Layers](https://www.tensorflow.org/api_docs/python/tf/layers) or [TensorFlow Layers (contrib)](https://www.tensorflow.org/api_guides/python/contrib.layers) packages for this layer. For more of a challenge, only use other TensorFlow packages."
   ]
  },
  {
   "cell_type": "code",
   "execution_count": 48,
   "metadata": {
    "collapsed": false
   },
   "outputs": [
    {
     "name": "stdout",
     "output_type": "stream",
     "text": [
      "Tests Passed\n"
     ]
    }
   ],
   "source": [
    "hide_code\n",
    "def fully_conn(x_tensor, num_outputs):\n",
    "    \"\"\"\n",
    "    Apply a fully connected layer to x_tensor using weight and bias\n",
    "    : x_tensor: A 2-D tensor where the first dimension is batch size.\n",
    "    : num_outputs: The number of output that the new tensor should be.\n",
    "    : return: A 2-D tensor where the second dimension is num_outputs.\n",
    "    \"\"\"\n",
    "    # TODO: Implement Function\n",
    "#    W = tf.Variable(tf.truncated_normal([x_tensor.shape[1].value, 64]))\n",
    "#    b = tf.Variable(tf.truncated_normal([64]))\n",
    "    W = tf.Variable(tf.truncated_normal([x_tensor.shape[1].value, num_outputs], stddev=0.04))\n",
    "    b = tf.Variable(tf.truncated_normal([num_outputs], stddev=0.04))\n",
    "    \n",
    "    hidden = tf.nn.relu(tf.add(tf.matmul(x_tensor, W), b))\n",
    "    return hidden\n",
    "\n",
    "\"\"\"\n",
    "DON'T MODIFY ANYTHING IN THIS CELL THAT IS BELOW THIS LINE\n",
    "\"\"\"\n",
    "test_fully_conn(fully_conn)"
   ]
  },
  {
   "cell_type": "markdown",
   "metadata": {},
   "source": [
    "### Output Layer\n",
    "Implement the `output` function to apply a fully connected layer to `x_tensor` with the shape (*Batch Size*, *num_outputs*). Shortcut option: you can use classes from the [TensorFlow Layers](https://www.tensorflow.org/api_docs/python/tf/layers) or [TensorFlow Layers (contrib)](https://www.tensorflow.org/api_guides/python/contrib.layers) packages for this layer. For more of a challenge, only use other TensorFlow packages.\n",
    "\n",
    "**Note:** Activation, softmax, or cross entropy should **not** be applied to this."
   ]
  },
  {
   "cell_type": "code",
   "execution_count": 41,
   "metadata": {
    "collapsed": false
   },
   "outputs": [
    {
     "name": "stdout",
     "output_type": "stream",
     "text": [
      "Tests Passed\n"
     ]
    }
   ],
   "source": [
    "hide_code\n",
    "def output(x_tensor, num_outputs):\n",
    "    \"\"\"\n",
    "    Apply a output layer to x_tensor using weight and bias\n",
    "    : x_tensor: A 2-D tensor where the first dimension is batch size.\n",
    "    : num_outputs: The number of output that the new tensor should be.\n",
    "    : return: A 2-D tensor where the second dimension is num_outputs.\n",
    "    \"\"\"\n",
    "    # TODO: Implement Function\n",
    "    W = tf.Variable(tf.truncated_normal([x_tensor.shape[1].value, num_outputs], stddev=0.04))\n",
    "    b = tf.Variable(tf.truncated_normal([num_outputs], stddev=0.04))\n",
    "    return tf.add(tf.matmul(x_tensor, W), b)\n",
    "\n",
    "\"\"\"\n",
    "DON'T MODIFY ANYTHING IN THIS CELL THAT IS BELOW THIS LINE\n",
    "\"\"\"\n",
    "test_output(output)"
   ]
  },
  {
   "cell_type": "markdown",
   "metadata": {},
   "source": [
    "### Create Convolutional Model\n",
    "Implement the function `conv_net` to create a convolutional neural network model. The function takes in a batch of images, `x`, and outputs logits.  Use the layers you created above to create this model:\n",
    "\n",
    "* Apply 1, 2, or 3 Convolution and Max Pool layers\n",
    "* Apply a Flatten Layer\n",
    "* Apply 1, 2, or 3 Fully Connected Layers\n",
    "* Apply an Output Layer\n",
    "* Return the output\n",
    "* Apply [TensorFlow's Dropout](https://www.tensorflow.org/api_docs/python/tf/nn/dropout) to one or more layers in the model using `keep_prob`. "
   ]
  },
  {
   "cell_type": "code",
   "execution_count": 96,
   "metadata": {
    "collapsed": true
   },
   "outputs": [],
   "source": [
    "hide_code\n",
    "def conv_net(x, keep_prob):\n",
    "    \"\"\"\n",
    "    Create a convolutional neural network model\n",
    "    : x: Placeholder tensor that holds image data.\n",
    "    : keep_prob: Placeholder tensor that hold dropout keep probability.\n",
    "    : return: Tensor that represents logits\n",
    "    \"\"\"\n",
    "    # TODO: Apply 1, 2, or 3 Convolution and Max Pool layers\n",
    "    #    Play around with different number of outputs, kernel size and stride\n",
    "    # Function Definition from Above:\n",
    "    #    conv2d_maxpool(x_tensor, conv_num_outputs, conv_ksize, conv_strides, pool_ksize, pool_strides)\n",
    "    x_tensor = conv2d_maxpool(x, conv_num_outputs=32, conv_ksize=(5, 5), conv_strides=(5, 5),\n",
    "                              pool_ksize=(2, 2), pool_strides=(2, 2))   \n",
    "#     x_tensor = conv2d_maxpool(x, conv_num_outputs=64, conv_ksize=(3, 3), conv_strides=(3, 3),\n",
    "#                               pool_ksize=(2, 2), pool_strides=(2, 2))  \n",
    "    \n",
    "    # TODO: Apply a Flatten Layer\n",
    "    # Function Definition from Above:\n",
    "    #   flatten(x_tensor)\n",
    "        \n",
    "    x_tensor = flatten(x_tensor)\n",
    " \n",
    "    # TODO: Apply 1, 2, or 3 Fully Connected Layers\n",
    "    #    Play around with different number of outputs\n",
    "    # Function Definition from Above:\n",
    "    #   fully_conn(x_tensor, num_outputs)\n",
    "       \n",
    "    x_tensor = fully_conn(x_tensor, 1024)\n",
    "    x_tensor = tf.nn.dropout(x_tensor, keep_prob)\n",
    "    x_tensor = fully_conn(x_tensor, 512)\n",
    "    x_tensor = tf.nn.dropout(x_tensor, keep_prob)\n",
    "\n",
    "    \n",
    "    # TODO: Apply an Output Layer\n",
    "    #    Set this to the number of classes\n",
    "    # Function Definition from Above:\n",
    "    #   output(x_tensor, num_outputs)\n",
    "    \n",
    "    x_tensor = output(x_tensor, 10)       \n",
    "    \n",
    "    # TODO: return output\n",
    "    return x_tensor"
   ]
  },
  {
   "cell_type": "code",
   "execution_count": 97,
   "metadata": {
    "collapsed": false
   },
   "outputs": [
    {
     "name": "stdout",
     "output_type": "stream",
     "text": [
      "Neural Network Built!\n"
     ]
    }
   ],
   "source": [
    "hide_code\n",
    "\"\"\"\n",
    "DON'T MODIFY ANYTHING IN THIS CELL THAT IS BELOW THIS LINE\n",
    "\"\"\"\n",
    "##############################\n",
    "## Build the Neural Network ##\n",
    "##############################\n",
    "# Remove previous weights, bias, inputs, etc..\n",
    "tf.reset_default_graph()\n",
    "\n",
    "# Inputs\n",
    "x = neural_net_image_input((32, 32, 3))\n",
    "y = neural_net_label_input(10)\n",
    "keep_prob = neural_net_keep_prob_input()\n",
    "\n",
    "# Model\n",
    "logits = conv_net(x, keep_prob)\n",
    "\n",
    "# Name logits Tensor, so that is can be loaded from disk after training\n",
    "logits = tf.identity(logits, name='logits')\n",
    "\n",
    "# Loss and Optimizer\n",
    "cost = tf.reduce_mean(tf.nn.softmax_cross_entropy_with_logits(logits=logits, labels=y))\n",
    "optimizer = tf.train.AdamOptimizer().minimize(cost)\n",
    "\n",
    "# Accuracy\n",
    "correct_pred = tf.equal(tf.argmax(logits, 1), tf.argmax(y, 1))\n",
    "accuracy = tf.reduce_mean(tf.cast(correct_pred, tf.float32), name='accuracy')\n",
    "\n",
    "test_conv_net(conv_net)"
   ]
  },
  {
   "cell_type": "markdown",
   "metadata": {},
   "source": [
    "## Train the  Neural  Network \n",
    "### Single Optimization\n",
    "Implement the function `train_neural_network` to do a single optimization.  The optimization should use `optimizer` to optimize in `session` with a `feed_dict` of the following:\n",
    "* `x` for image input\n",
    "* `y` for labels\n",
    "* `keep_prob` for keep probability for dropout\n",
    "\n",
    "This function will be called for each batch, so `tf.global_variables_initializer()` has already been called.\n",
    "\n",
    "Note: Nothing needs to be returned. This function is only optimizing the neural network."
   ]
  },
  {
   "cell_type": "code",
   "execution_count": 98,
   "metadata": {
    "collapsed": false
   },
   "outputs": [
    {
     "name": "stdout",
     "output_type": "stream",
     "text": [
      "Tests Passed\n"
     ]
    }
   ],
   "source": [
    "hide_code\n",
    "def train_neural_network(session, optimizer, keep_probability, feature_batch, label_batch):\n",
    "    \"\"\"\n",
    "    Optimize the session on a batch of images and labels\n",
    "    : session: Current TensorFlow session\n",
    "    : optimizer: TensorFlow optimizer function\n",
    "    : keep_probability: keep probability\n",
    "    : feature_batch: Batch of Numpy image data\n",
    "    : label_batch: Batch of Numpy label data\n",
    "    \"\"\"\n",
    "    # TODO: Implement Function\n",
    "    session.run(optimizer, feed_dict={x: feature_batch, y: label_batch, keep_prob: keep_probability})\n",
    "\n",
    "\"\"\"\n",
    "DON'T MODIFY ANYTHING IN THIS CELL THAT IS BELOW THIS LINE\n",
    "\"\"\"\n",
    "test_train_nn(train_neural_network)"
   ]
  },
  {
   "cell_type": "markdown",
   "metadata": {},
   "source": [
    "### Show Stats\n",
    "Implement the function `print_stats` to print loss and validation accuracy.  Use the global variables `valid_features` and `valid_labels` to calculate validation accuracy.  Use a keep probability of `1.0` to calculate the loss and validation accuracy."
   ]
  },
  {
   "cell_type": "code",
   "execution_count": 51,
   "metadata": {
    "collapsed": true
   },
   "outputs": [],
   "source": [
    "hide_code\n",
    "def print_stats(session, feature_batch, label_batch, cost, accuracy):\n",
    "    \"\"\"\n",
    "    Print information about loss and validation accuracy\n",
    "    : session: Current TensorFlow session\n",
    "    : feature_batch: Batch of Numpy image data\n",
    "    : label_batch: Batch of Numpy label data\n",
    "    : cost: TensorFlow cost function\n",
    "    : accuracy: TensorFlow accuracy function\n",
    "    \"\"\"\n",
    "    # TODO: Implement Function\n",
    "    cnn_cost = session.run(cost, feed_dict={x: feature_batch, y: label_batch, keep_prob: 1.0})\n",
    "    cnn_accuracy = session.run(accuracy, feed_dict={x: valid_features, y: valid_labels, keep_prob: 1.0})\n",
    "    \n",
    "    print('cost: {:.4f}, accuracy: {:.2f}%'.format(cnn_cost, cnn_accuracy * 100))"
   ]
  },
  {
   "cell_type": "markdown",
   "metadata": {},
   "source": [
    "### Hyperparameters\n",
    "Tune the following parameters:\n",
    "* Set `epochs` to the number of iterations until the network stops learning or start overfitting\n",
    "* Set `batch_size` to the highest number that your machine has memory for.  Most people set them to common sizes of memory:\n",
    " * 64\n",
    " * 128\n",
    " * 256\n",
    " * ...\n",
    "* Set `keep_probability` to the probability of keeping a node using dropout"
   ]
  },
  {
   "cell_type": "code",
   "execution_count": 99,
   "metadata": {
    "collapsed": true
   },
   "outputs": [],
   "source": [
    "hide_code\n",
    "# TODO: Tune Parameters\n",
    "epochs = 30\n",
    "batch_size = 64\n",
    "keep_probability = 0.5"
   ]
  },
  {
   "cell_type": "markdown",
   "metadata": {},
   "source": [
    "### Train on a Single CIFAR-10 Batch\n",
    "Instead of training the neural network on all the CIFAR-10 batches of data, let's use a single batch. This should save time while you iterate on the model to get a better accuracy.  Once the final validation accuracy is 50% or greater, run the model on all the data in the next section."
   ]
  },
  {
   "cell_type": "code",
   "execution_count": 100,
   "metadata": {
    "collapsed": false
   },
   "outputs": [
    {
     "name": "stdout",
     "output_type": "stream",
     "text": [
      "Checking the Training on a Single Batch...\n",
      "Epoch  1, CIFAR-10 Batch 1:  cost: 2.0315, accuracy: 30.74%\n",
      "Epoch  2, CIFAR-10 Batch 1:  cost: 1.8420, accuracy: 39.66%\n",
      "Epoch  3, CIFAR-10 Batch 1:  cost: 1.7322, accuracy: 43.78%\n",
      "Epoch  4, CIFAR-10 Batch 1:  cost: 1.6772, accuracy: 45.54%\n",
      "Epoch  5, CIFAR-10 Batch 1:  cost: 1.6411, accuracy: 46.94%\n",
      "Epoch  6, CIFAR-10 Batch 1:  cost: 1.4963, accuracy: 48.56%\n",
      "Epoch  7, CIFAR-10 Batch 1:  cost: 1.4055, accuracy: 48.42%\n",
      "Epoch  8, CIFAR-10 Batch 1:  cost: 1.3372, accuracy: 48.82%\n",
      "Epoch  9, CIFAR-10 Batch 1:  cost: 1.2114, accuracy: 49.94%\n",
      "Epoch 10, CIFAR-10 Batch 1:  cost: 1.1401, accuracy: 50.12%\n",
      "Epoch 11, CIFAR-10 Batch 1:  cost: 1.0796, accuracy: 51.60%\n",
      "Epoch 12, CIFAR-10 Batch 1:  cost: 1.0902, accuracy: 51.40%\n",
      "Epoch 13, CIFAR-10 Batch 1:  cost: 1.0166, accuracy: 50.50%\n",
      "Epoch 14, CIFAR-10 Batch 1:  cost: 0.9233, accuracy: 52.00%\n",
      "Epoch 15, CIFAR-10 Batch 1:  cost: 0.7882, accuracy: 51.76%\n",
      "Epoch 16, CIFAR-10 Batch 1:  cost: 0.7506, accuracy: 51.94%\n",
      "Epoch 17, CIFAR-10 Batch 1:  cost: 0.6623, accuracy: 51.42%\n",
      "Epoch 18, CIFAR-10 Batch 1:  cost: 0.5973, accuracy: 51.46%\n",
      "Epoch 19, CIFAR-10 Batch 1:  cost: 0.4675, accuracy: 51.56%\n",
      "Epoch 20, CIFAR-10 Batch 1:  cost: 0.4417, accuracy: 52.68%\n",
      "Epoch 21, CIFAR-10 Batch 1:  cost: 0.3935, accuracy: 52.22%\n",
      "Epoch 22, CIFAR-10 Batch 1:  cost: 0.4236, accuracy: 51.60%\n",
      "Epoch 23, CIFAR-10 Batch 1:  cost: 0.3588, accuracy: 53.90%\n",
      "Epoch 24, CIFAR-10 Batch 1:  cost: 0.3334, accuracy: 52.58%\n",
      "Epoch 25, CIFAR-10 Batch 1:  cost: 0.3080, accuracy: 52.62%\n",
      "Epoch 26, CIFAR-10 Batch 1:  cost: 0.2861, accuracy: 52.90%\n",
      "Epoch 27, CIFAR-10 Batch 1:  cost: 0.2942, accuracy: 51.96%\n",
      "Epoch 28, CIFAR-10 Batch 1:  cost: 0.1929, accuracy: 52.62%\n",
      "Epoch 29, CIFAR-10 Batch 1:  cost: 0.2140, accuracy: 52.04%\n",
      "Epoch 30, CIFAR-10 Batch 1:  cost: 0.1776, accuracy: 52.28%\n"
     ]
    }
   ],
   "source": [
    "hide_code\n",
    "\"\"\"\n",
    "DON'T MODIFY ANYTHING IN THIS CELL\n",
    "\"\"\"\n",
    "print('Checking the Training on a Single Batch...')\n",
    "with tf.Session() as sess:\n",
    "    # Initializing the variables\n",
    "    sess.run(tf.global_variables_initializer())\n",
    "    \n",
    "    # Training cycle\n",
    "    for epoch in range(epochs):\n",
    "        batch_i = 1\n",
    "        for batch_features, batch_labels in load_preprocess_training_batch(batch_i, batch_size):\n",
    "            train_neural_network(sess, optimizer, keep_probability, batch_features, batch_labels)\n",
    "        print('Epoch {:>2}, CIFAR-10 Batch {}:  '.format(epoch + 1, batch_i), end='')\n",
    "        print_stats(sess, batch_features, batch_labels, cost, accuracy)"
   ]
  },
  {
   "cell_type": "markdown",
   "metadata": {},
   "source": [
    "### Fully Train the Model\n",
    "Now that you got a good accuracy with a single CIFAR-10 batch, try it with all five batches."
   ]
  },
  {
   "cell_type": "code",
   "execution_count": 101,
   "metadata": {
    "collapsed": false
   },
   "outputs": [
    {
     "name": "stdout",
     "output_type": "stream",
     "text": [
      "Training...\n",
      "Epoch  1, CIFAR-10 Batch 1:  cost: 2.0041, accuracy: 31.38%\n",
      "Epoch  1, CIFAR-10 Batch 2:  cost: 1.6414, accuracy: 39.86%\n",
      "Epoch  1, CIFAR-10 Batch 3:  cost: 1.3425, accuracy: 43.52%\n",
      "Epoch  1, CIFAR-10 Batch 4:  cost: 1.3807, accuracy: 46.88%\n",
      "Epoch  1, CIFAR-10 Batch 5:  cost: 1.6591, accuracy: 47.62%\n",
      "Epoch  2, CIFAR-10 Batch 1:  cost: 1.6035, accuracy: 48.54%\n",
      "Epoch  2, CIFAR-10 Batch 2:  cost: 1.3128, accuracy: 49.16%\n",
      "Epoch  2, CIFAR-10 Batch 3:  cost: 1.2610, accuracy: 49.00%\n",
      "Epoch  2, CIFAR-10 Batch 4:  cost: 1.2189, accuracy: 50.98%\n",
      "Epoch  2, CIFAR-10 Batch 5:  cost: 1.4504, accuracy: 52.26%\n",
      "Epoch  3, CIFAR-10 Batch 1:  cost: 1.3746, accuracy: 51.78%\n",
      "Epoch  3, CIFAR-10 Batch 2:  cost: 1.2060, accuracy: 52.22%\n",
      "Epoch  3, CIFAR-10 Batch 3:  cost: 1.2160, accuracy: 51.18%\n",
      "Epoch  3, CIFAR-10 Batch 4:  cost: 1.1124, accuracy: 53.20%\n",
      "Epoch  3, CIFAR-10 Batch 5:  cost: 1.4624, accuracy: 52.78%\n",
      "Epoch  4, CIFAR-10 Batch 1:  cost: 1.3231, accuracy: 53.70%\n",
      "Epoch  4, CIFAR-10 Batch 2:  cost: 1.1382, accuracy: 53.68%\n",
      "Epoch  4, CIFAR-10 Batch 3:  cost: 1.1172, accuracy: 53.12%\n",
      "Epoch  4, CIFAR-10 Batch 4:  cost: 1.0921, accuracy: 54.56%\n",
      "Epoch  4, CIFAR-10 Batch 5:  cost: 1.3015, accuracy: 56.28%\n",
      "Epoch  5, CIFAR-10 Batch 1:  cost: 1.2256, accuracy: 55.02%\n",
      "Epoch  5, CIFAR-10 Batch 2:  cost: 1.0600, accuracy: 54.62%\n",
      "Epoch  5, CIFAR-10 Batch 3:  cost: 1.0806, accuracy: 55.20%\n",
      "Epoch  5, CIFAR-10 Batch 4:  cost: 1.0109, accuracy: 55.98%\n",
      "Epoch  5, CIFAR-10 Batch 5:  cost: 1.2223, accuracy: 56.34%\n",
      "Epoch  6, CIFAR-10 Batch 1:  cost: 1.2196, accuracy: 55.10%\n",
      "Epoch  6, CIFAR-10 Batch 2:  cost: 1.0445, accuracy: 56.82%\n",
      "Epoch  6, CIFAR-10 Batch 3:  cost: 0.9936, accuracy: 56.12%\n",
      "Epoch  6, CIFAR-10 Batch 4:  cost: 1.0220, accuracy: 56.40%\n",
      "Epoch  6, CIFAR-10 Batch 5:  cost: 1.2138, accuracy: 57.38%\n",
      "Epoch  7, CIFAR-10 Batch 1:  cost: 1.1183, accuracy: 57.72%\n",
      "Epoch  7, CIFAR-10 Batch 2:  cost: 1.0304, accuracy: 56.90%\n",
      "Epoch  7, CIFAR-10 Batch 3:  cost: 0.9519, accuracy: 57.98%\n",
      "Epoch  7, CIFAR-10 Batch 4:  cost: 1.0003, accuracy: 56.84%\n",
      "Epoch  7, CIFAR-10 Batch 5:  cost: 1.0990, accuracy: 58.62%\n",
      "Epoch  8, CIFAR-10 Batch 1:  cost: 1.1127, accuracy: 58.00%\n",
      "Epoch  8, CIFAR-10 Batch 2:  cost: 0.9933, accuracy: 57.48%\n",
      "Epoch  8, CIFAR-10 Batch 3:  cost: 0.8771, accuracy: 58.24%\n",
      "Epoch  8, CIFAR-10 Batch 4:  cost: 0.9244, accuracy: 58.04%\n",
      "Epoch  8, CIFAR-10 Batch 5:  cost: 1.0717, accuracy: 59.70%\n",
      "Epoch  9, CIFAR-10 Batch 1:  cost: 1.0393, accuracy: 58.46%\n",
      "Epoch  9, CIFAR-10 Batch 2:  cost: 1.0434, accuracy: 58.80%\n",
      "Epoch  9, CIFAR-10 Batch 3:  cost: 0.8233, accuracy: 58.84%\n",
      "Epoch  9, CIFAR-10 Batch 4:  cost: 0.9128, accuracy: 58.90%\n",
      "Epoch  9, CIFAR-10 Batch 5:  cost: 0.9426, accuracy: 58.80%\n",
      "Epoch 10, CIFAR-10 Batch 1:  cost: 0.9741, accuracy: 59.12%\n",
      "Epoch 10, CIFAR-10 Batch 2:  cost: 0.9130, accuracy: 59.38%\n",
      "Epoch 10, CIFAR-10 Batch 3:  cost: 0.7486, accuracy: 60.08%\n",
      "Epoch 10, CIFAR-10 Batch 4:  cost: 0.8166, accuracy: 59.16%\n",
      "Epoch 10, CIFAR-10 Batch 5:  cost: 0.9217, accuracy: 60.32%\n",
      "Epoch 11, CIFAR-10 Batch 1:  cost: 0.9537, accuracy: 59.98%\n",
      "Epoch 11, CIFAR-10 Batch 2:  cost: 0.9432, accuracy: 59.42%\n",
      "Epoch 11, CIFAR-10 Batch 3:  cost: 0.7156, accuracy: 59.82%\n",
      "Epoch 11, CIFAR-10 Batch 4:  cost: 0.7794, accuracy: 59.96%\n",
      "Epoch 11, CIFAR-10 Batch 5:  cost: 0.8824, accuracy: 59.02%\n",
      "Epoch 12, CIFAR-10 Batch 1:  cost: 0.8826, accuracy: 59.84%\n",
      "Epoch 12, CIFAR-10 Batch 2:  cost: 0.9045, accuracy: 60.56%\n",
      "Epoch 12, CIFAR-10 Batch 3:  cost: 0.6553, accuracy: 58.54%\n",
      "Epoch 12, CIFAR-10 Batch 4:  cost: 0.7516, accuracy: 59.92%\n",
      "Epoch 12, CIFAR-10 Batch 5:  cost: 0.7928, accuracy: 59.96%\n",
      "Epoch 13, CIFAR-10 Batch 1:  cost: 0.9011, accuracy: 60.06%\n",
      "Epoch 13, CIFAR-10 Batch 2:  cost: 0.8384, accuracy: 60.12%\n",
      "Epoch 13, CIFAR-10 Batch 3:  cost: 0.5764, accuracy: 60.32%\n",
      "Epoch 13, CIFAR-10 Batch 4:  cost: 0.8043, accuracy: 58.54%\n",
      "Epoch 13, CIFAR-10 Batch 5:  cost: 0.7771, accuracy: 58.98%\n",
      "Epoch 14, CIFAR-10 Batch 1:  cost: 0.8709, accuracy: 60.48%\n",
      "Epoch 14, CIFAR-10 Batch 2:  cost: 0.8445, accuracy: 59.56%\n",
      "Epoch 14, CIFAR-10 Batch 3:  cost: 0.5662, accuracy: 59.88%\n",
      "Epoch 14, CIFAR-10 Batch 4:  cost: 0.7239, accuracy: 59.18%\n",
      "Epoch 14, CIFAR-10 Batch 5:  cost: 0.7078, accuracy: 59.42%\n",
      "Epoch 15, CIFAR-10 Batch 1:  cost: 0.8986, accuracy: 59.46%\n",
      "Epoch 15, CIFAR-10 Batch 2:  cost: 0.8118, accuracy: 59.54%\n",
      "Epoch 15, CIFAR-10 Batch 3:  cost: 0.5719, accuracy: 60.50%\n",
      "Epoch 15, CIFAR-10 Batch 4:  cost: 0.6978, accuracy: 59.50%\n",
      "Epoch 15, CIFAR-10 Batch 5:  cost: 0.6415, accuracy: 59.98%\n",
      "Epoch 16, CIFAR-10 Batch 1:  cost: 0.8244, accuracy: 60.86%\n",
      "Epoch 16, CIFAR-10 Batch 2:  cost: 0.6912, accuracy: 61.12%\n",
      "Epoch 16, CIFAR-10 Batch 3:  cost: 0.5571, accuracy: 59.84%\n",
      "Epoch 16, CIFAR-10 Batch 4:  cost: 0.6854, accuracy: 58.74%\n",
      "Epoch 16, CIFAR-10 Batch 5:  cost: 0.5999, accuracy: 59.38%\n",
      "Epoch 17, CIFAR-10 Batch 1:  cost: 0.8062, accuracy: 61.24%\n",
      "Epoch 17, CIFAR-10 Batch 2:  cost: 0.7660, accuracy: 59.72%\n",
      "Epoch 17, CIFAR-10 Batch 3:  cost: 0.4664, accuracy: 60.82%\n",
      "Epoch 17, CIFAR-10 Batch 4:  cost: 0.6022, accuracy: 59.40%\n",
      "Epoch 17, CIFAR-10 Batch 5:  cost: 0.5620, accuracy: 59.38%\n",
      "Epoch 18, CIFAR-10 Batch 1:  cost: 0.7207, accuracy: 61.04%\n",
      "Epoch 18, CIFAR-10 Batch 2:  cost: 0.6204, accuracy: 61.14%\n",
      "Epoch 18, CIFAR-10 Batch 3:  cost: 0.4429, accuracy: 60.44%\n",
      "Epoch 18, CIFAR-10 Batch 4:  cost: 0.5924, accuracy: 60.54%\n",
      "Epoch 18, CIFAR-10 Batch 5:  cost: 0.5604, accuracy: 60.08%\n",
      "Epoch 19, CIFAR-10 Batch 1:  cost: 0.7141, accuracy: 61.32%\n",
      "Epoch 19, CIFAR-10 Batch 2:  cost: 0.6269, accuracy: 60.80%\n",
      "Epoch 19, CIFAR-10 Batch 3:  cost: 0.4364, accuracy: 59.72%\n",
      "Epoch 19, CIFAR-10 Batch 4:  cost: 0.5452, accuracy: 59.48%\n",
      "Epoch 19, CIFAR-10 Batch 5:  cost: 0.5313, accuracy: 60.60%\n",
      "Epoch 20, CIFAR-10 Batch 1:  cost: 0.6640, accuracy: 60.92%\n",
      "Epoch 20, CIFAR-10 Batch 2:  cost: 0.5836, accuracy: 60.78%\n",
      "Epoch 20, CIFAR-10 Batch 3:  cost: 0.4114, accuracy: 60.66%\n",
      "Epoch 20, CIFAR-10 Batch 4:  cost: 0.5109, accuracy: 61.26%\n",
      "Epoch 20, CIFAR-10 Batch 5:  cost: 0.5080, accuracy: 60.12%\n",
      "Epoch 21, CIFAR-10 Batch 1:  cost: 0.6240, accuracy: 61.40%\n",
      "Epoch 21, CIFAR-10 Batch 2:  cost: 0.6353, accuracy: 60.04%\n",
      "Epoch 21, CIFAR-10 Batch 3:  cost: 0.3641, accuracy: 60.68%\n",
      "Epoch 21, CIFAR-10 Batch 4:  cost: 0.4411, accuracy: 60.42%\n",
      "Epoch 21, CIFAR-10 Batch 5:  cost: 0.4636, accuracy: 59.94%\n",
      "Epoch 22, CIFAR-10 Batch 1:  cost: 0.5912, accuracy: 61.30%\n",
      "Epoch 22, CIFAR-10 Batch 2:  cost: 0.5839, accuracy: 59.88%\n",
      "Epoch 22, CIFAR-10 Batch 3:  cost: 0.3683, accuracy: 60.64%\n",
      "Epoch 22, CIFAR-10 Batch 4:  cost: 0.4613, accuracy: 60.74%\n",
      "Epoch 22, CIFAR-10 Batch 5:  cost: 0.4515, accuracy: 59.36%\n",
      "Epoch 23, CIFAR-10 Batch 1:  cost: 0.6028, accuracy: 60.40%\n",
      "Epoch 23, CIFAR-10 Batch 2:  cost: 0.5283, accuracy: 60.76%\n",
      "Epoch 23, CIFAR-10 Batch 3:  cost: 0.3586, accuracy: 59.70%\n",
      "Epoch 23, CIFAR-10 Batch 4:  cost: 0.4628, accuracy: 60.36%\n",
      "Epoch 23, CIFAR-10 Batch 5:  cost: 0.4071, accuracy: 60.62%\n",
      "Epoch 24, CIFAR-10 Batch 1:  cost: 0.5836, accuracy: 61.12%\n",
      "Epoch 24, CIFAR-10 Batch 2:  cost: 0.5240, accuracy: 59.98%\n",
      "Epoch 24, CIFAR-10 Batch 3:  cost: 0.3215, accuracy: 60.18%\n",
      "Epoch 24, CIFAR-10 Batch 4:  cost: 0.4019, accuracy: 60.62%\n",
      "Epoch 24, CIFAR-10 Batch 5:  cost: 0.3837, accuracy: 60.76%\n",
      "Epoch 25, CIFAR-10 Batch 1:  cost: 0.6131, accuracy: 61.46%\n",
      "Epoch 25, CIFAR-10 Batch 2:  cost: 0.3947, accuracy: 61.68%\n",
      "Epoch 25, CIFAR-10 Batch 3:  cost: 0.3114, accuracy: 59.88%\n",
      "Epoch 25, CIFAR-10 Batch 4:  cost: 0.3920, accuracy: 59.92%\n",
      "Epoch 25, CIFAR-10 Batch 5:  cost: 0.3872, accuracy: 60.34%\n",
      "Epoch 26, CIFAR-10 Batch 1:  cost: 0.4959, accuracy: 61.20%\n",
      "Epoch 26, CIFAR-10 Batch 2:  cost: 0.4899, accuracy: 60.90%\n",
      "Epoch 26, CIFAR-10 Batch 3:  cost: 0.3267, accuracy: 60.10%\n",
      "Epoch 26, CIFAR-10 Batch 4:  cost: 0.3631, accuracy: 60.96%\n",
      "Epoch 26, CIFAR-10 Batch 5:  cost: 0.3828, accuracy: 60.14%\n",
      "Epoch 27, CIFAR-10 Batch 1:  cost: 0.5482, accuracy: 60.50%\n",
      "Epoch 27, CIFAR-10 Batch 2:  cost: 0.4752, accuracy: 60.86%\n",
      "Epoch 27, CIFAR-10 Batch 3:  cost: 0.3165, accuracy: 60.92%\n",
      "Epoch 27, CIFAR-10 Batch 4:  cost: 0.3950, accuracy: 60.18%\n",
      "Epoch 27, CIFAR-10 Batch 5:  cost: 0.3652, accuracy: 60.48%\n",
      "Epoch 28, CIFAR-10 Batch 1:  cost: 0.5038, accuracy: 61.28%\n",
      "Epoch 28, CIFAR-10 Batch 2:  cost: 0.4339, accuracy: 61.10%\n",
      "Epoch 28, CIFAR-10 Batch 3:  cost: 0.3013, accuracy: 60.44%\n",
      "Epoch 28, CIFAR-10 Batch 4:  cost: 0.3315, accuracy: 61.32%\n",
      "Epoch 28, CIFAR-10 Batch 5:  cost: 0.3302, accuracy: 59.90%\n",
      "Epoch 29, CIFAR-10 Batch 1:  cost: 0.4332, accuracy: 61.32%\n",
      "Epoch 29, CIFAR-10 Batch 2:  cost: 0.3919, accuracy: 61.28%\n",
      "Epoch 29, CIFAR-10 Batch 3:  cost: 0.2898, accuracy: 61.58%\n",
      "Epoch 29, CIFAR-10 Batch 4:  cost: 0.3280, accuracy: 60.82%\n",
      "Epoch 29, CIFAR-10 Batch 5:  cost: 0.3405, accuracy: 60.18%\n",
      "Epoch 30, CIFAR-10 Batch 1:  cost: 0.4136, accuracy: 61.36%\n",
      "Epoch 30, CIFAR-10 Batch 2:  cost: 0.3978, accuracy: 60.56%\n",
      "Epoch 30, CIFAR-10 Batch 3:  cost: 0.2978, accuracy: 60.90%\n",
      "Epoch 30, CIFAR-10 Batch 4:  cost: 0.3201, accuracy: 61.20%\n",
      "Epoch 30, CIFAR-10 Batch 5:  cost: 0.3300, accuracy: 60.62%\n"
     ]
    }
   ],
   "source": [
    "hide_code\n",
    "\"\"\"\n",
    "DON'T MODIFY ANYTHING IN THIS CELL\n",
    "\"\"\"\n",
    "save_model_path = './image_classification'\n",
    "\n",
    "print('Training...')\n",
    "with tf.Session() as sess:\n",
    "    # Initializing the variables\n",
    "    sess.run(tf.global_variables_initializer())\n",
    "    \n",
    "    # Training cycle\n",
    "    for epoch in range(epochs):\n",
    "        # Loop over all batches\n",
    "        n_batches = 5\n",
    "        for batch_i in range(1, n_batches + 1):\n",
    "            for batch_features, batch_labels in load_preprocess_training_batch(batch_i, batch_size):\n",
    "                train_neural_network(sess, optimizer, keep_probability, batch_features, batch_labels)\n",
    "            print('Epoch {:>2}, CIFAR-10 Batch {}:  '.format(epoch + 1, batch_i), end='')\n",
    "            print_stats(sess, batch_features, batch_labels, cost, accuracy)\n",
    "            \n",
    "    # Save Model\n",
    "    saver = tf.train.Saver()\n",
    "    save_path = saver.save(sess, save_model_path)"
   ]
  },
  {
   "cell_type": "markdown",
   "metadata": {},
   "source": [
    "##  Checkpoint \n",
    "The model has been saved to disk.\n",
    "##  Test  Model \n",
    "Test your model against the test dataset.  This will be your final accuracy. You should have an accuracy greater than 50%. If you don't, keep tweaking the model architecture and parameters."
   ]
  },
  {
   "cell_type": "code",
   "execution_count": 102,
   "metadata": {
    "collapsed": false
   },
   "outputs": [
    {
     "name": "stdout",
     "output_type": "stream",
     "text": [
      "Testing Accuracy: 0.6089769108280255\n",
      "\n"
     ]
    },
    {
     "data": {
      "image/png": "[encoded data removed]",
      "text/plain": [
       "<matplotlib.figure.Figure at 0x117197358>"
      ]
     },
     "metadata": {
      "image/png": {
       "height": 319,
       "width": 355
      }
     },
     "output_type": "display_data"
    }
   ],
   "source": [
    "hide_code\n",
    "\"\"\"\n",
    "DON'T MODIFY ANYTHING IN THIS CELL\n",
    "\"\"\"\n",
    "# Set batch size if not already set\n",
    "try:\n",
    "    if batch_size:\n",
    "        pass\n",
    "except NameError:\n",
    "    batch_size = 64\n",
    "\n",
    "save_model_path = './image_classification'\n",
    "n_samples = 4\n",
    "top_n_predictions = 3\n",
    "\n",
    "def test_model():\n",
    "    \"\"\"\n",
    "    Test the saved model against the test dataset\n",
    "    \"\"\"\n",
    "\n",
    "    test_features, test_labels = pickle.load(open('preprocess_test.p', mode='rb'))\n",
    "    loaded_graph = tf.Graph()\n",
    "\n",
    "    with tf.Session(graph=loaded_graph) as sess:\n",
    "        # Load model\n",
    "        loader = tf.train.import_meta_graph(save_model_path + '.meta')\n",
    "        loader.restore(sess, save_model_path)\n",
    "\n",
    "        # Get Tensors from loaded model\n",
    "        loaded_x = loaded_graph.get_tensor_by_name('x:0')\n",
    "        loaded_y = loaded_graph.get_tensor_by_name('y:0')\n",
    "        loaded_keep_prob = loaded_graph.get_tensor_by_name('keep_prob:0')\n",
    "        loaded_logits = loaded_graph.get_tensor_by_name('logits:0')\n",
    "        loaded_acc = loaded_graph.get_tensor_by_name('accuracy:0')\n",
    "        \n",
    "        # Get accuracy in batches for memory limitations\n",
    "        test_batch_acc_total = 0\n",
    "        test_batch_count = 0\n",
    "        \n",
    "        for test_feature_batch, test_label_batch in batch_features_labels(test_features, test_labels, batch_size):\n",
    "            test_batch_acc_total += sess.run(\n",
    "                loaded_acc,\n",
    "                feed_dict={loaded_x: test_feature_batch, loaded_y: test_label_batch, loaded_keep_prob: 1.0})\n",
    "            test_batch_count += 1\n",
    "\n",
    "        print('Testing Accuracy: {}\\n'.format(test_batch_acc_total/test_batch_count))\n",
    "\n",
    "        # Print Random Samples\n",
    "        random_test_features, random_test_labels = tuple(zip(*random.sample(list(zip(test_features, test_labels)), \n",
    "                                                                            n_samples)))\n",
    "        random_test_predictions = sess.run(\n",
    "            tf.nn.top_k(tf.nn.softmax(loaded_logits), top_n_predictions),\n",
    "            feed_dict={loaded_x: random_test_features, loaded_y: random_test_labels, loaded_keep_prob: 1.0})\n",
    "        display_image_predictions(random_test_features, random_test_labels, random_test_predictions)\n",
    "\n",
    "test_model()"
   ]
  },
  {
   "cell_type": "markdown",
   "metadata": {},
   "source": [
    "## Why 50-80 Percent Accuracy?\n",
    "You might be wondering why you can't get an accuracy any higher. First things first, 50% isn't bad for a simple CNN.  Pure guessing would get you 10% accuracy. However, you might notice people are getting scores [well above 80%](http://rodrigob.github.io/are_we_there_yet/build/classification_datasets_results.html#43494641522d3130).  That's because we haven't taught you all there is to know about neural networks. We still need to cover a few more techniques."
   ]
  },
  {
   "cell_type": "markdown",
   "metadata": {},
   "source": [
    "## Submitting This Project\n",
    "When submitting this project, make sure to run all the cells before saving the notebook.  Save the notebook file as \"dlnd_image_classification.ipynb\" and save it as a HTML file under \"File\" -> \"Download as\".  Include the \"helper.py\" and \"problem_unittests.py\" files in your submission."
   ]
  }
 ],
 "metadata": {
  "hide_input": false,
  "kernelspec": {
   "display_name": "Python 3",
   "language": "python",
   "name": "python3"
  },
  "language_info": {
   "codemirror_mode": {
    "name": "ipython",
    "version": 3
   },
   "file_extension": ".py",
   "mimetype": "text/x-python",
   "name": "python",
   "nbconvert_exporter": "python",
   "pygments_lexer": "ipython3",
   "version": "3.6.1"
  },
  "latex_envs": {
   "bibliofile": "biblio.bib",
   "cite_by": "apalike",
   "current_citInitial": 1,
   "eqLabelWithNumbers": true,
   "eqNumInitial": 0
  }
 },
 "nbformat": 4,
 "nbformat_minor": 1
}

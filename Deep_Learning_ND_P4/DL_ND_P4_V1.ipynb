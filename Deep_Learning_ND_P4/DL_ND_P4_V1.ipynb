{
 "cells": [
  {
   "cell_type": "markdown",
   "metadata": {
    "collapsed": true
   },
   "source": [
    "# Language Translation\n",
    "In this project, you’re going to take a peek into the realm of neural network machine translation.  You’ll be training a sequence to sequence model on a dataset of English and French sentences that can translate new sentences from English to French.\n",
    "## Code Tools and Links"
   ]
  },
  {
   "cell_type": "code",
   "execution_count": 1,
   "metadata": {},
   "outputs": [
    {
     "data": {
      "text/html": [
       "<style>\n",
       "@import url('https://fonts.googleapis.com/css?family=Orbitron|Roboto');\n",
       "body {background-color: azure;}\n",
       "a {color: cadetblue; font-family: Roboto;}\n",
       "h1, h2 {color: #48D1CC; font-family: Orbitron; text-shadow: 4px 4px 4px #ccc;}\n",
       "h3, h4 {color: cadetblue; font-family: Roboto; text-shadow: 4px 4px 4px #ccc;}        \n",
       "span {text-shadow: 4px 4px 4px #ccc;}\n",
       "div.output_prompt, div.output_area pre {color: slategray;}\n",
       "div.input_prompt, div.output_subarea {color: cadetblue;}      \n",
       "div.output_stderr pre {background-color: azure;}  \n",
       "div.output_stderr {background-color: slategrey;}     \n",
       "</style>\n",
       "<script>\n",
       "code_show = true; \n",
       "function code_display() {\n",
       "    if (code_show) {\n",
       "        $('div.input').each(function(id) {\n",
       "            if (id == 0 || $(this).html().indexOf('hide_code') > -1) {$(this).hide();}\n",
       "        });\n",
       "        $('div.output_prompt').css('opacity', 0);\n",
       "    } else {\n",
       "        $('div.input').each(function(id) {$(this).show();});\n",
       "        $('div.output_prompt').css('opacity', 1);\n",
       "    };\n",
       "    code_show = !code_show;\n",
       "} \n",
       "$(document).ready(code_display);\n",
       "</script>\n",
       "<form action=\"javascript: code_display()\">\n",
       "<input style=\"color: cadetblue; background: azure; text-shadow: 4px 4px 4px #ccc;\" \\ \n",
       "type=\"submit\" value=\"Click to display or hide code cells\">\n",
       "</form>"
      ],
      "text/plain": [
       "<IPython.core.display.HTML object>"
      ]
     },
     "metadata": {},
     "output_type": "display_data"
    }
   ],
   "source": [
    "%%html\n",
    "<style>\n",
    "@import url('https://fonts.googleapis.com/css?family=Orbitron|Roboto');\n",
    "body {background-color: azure;}\n",
    "a {color: cadetblue; font-family: Roboto;}\n",
    "h1, h2 {color: #48D1CC; font-family: Orbitron; text-shadow: 4px 4px 4px #ccc;}\n",
    "h3, h4 {color: cadetblue; font-family: Roboto; text-shadow: 4px 4px 4px #ccc;}        \n",
    "span {text-shadow: 4px 4px 4px #ccc;}\n",
    "div.output_prompt, div.output_area pre {color: slategray;}\n",
    "div.input_prompt, div.output_subarea {color: cadetblue;}      \n",
    "div.output_stderr pre {background-color: azure;}  \n",
    "div.output_stderr {background-color: slategrey;}     \n",
    "</style>\n",
    "<script>\n",
    "code_show = true; \n",
    "function code_display() {\n",
    "    if (code_show) {\n",
    "        $('div.input').each(function(id) {\n",
    "            if (id == 0 || $(this).html().indexOf('hide_code') > -1) {$(this).hide();}\n",
    "        });\n",
    "        $('div.output_prompt').css('opacity', 0);\n",
    "    } else {\n",
    "        $('div.input').each(function(id) {$(this).show();});\n",
    "        $('div.output_prompt').css('opacity', 1);\n",
    "    };\n",
    "    code_show = !code_show;\n",
    "} \n",
    "$(document).ready(code_display);\n",
    "</script>\n",
    "<form action=\"javascript: code_display()\">\n",
    "<input style=\"color: cadetblue; background: azure; text-shadow: 4px 4px 4px #ccc;\" \\ \n",
    "type=\"submit\" value=\"Click to display or hide code cells\">\n",
    "</form>"
   ]
  },
  {
   "cell_type": "code",
   "execution_count": 44,
   "metadata": {
    "collapsed": true
   },
   "outputs": [],
   "source": [
    "hide_code = ''\n",
    "%matplotlib inline\n",
    "%config InlineBackend.figure_format = 'retina'\n",
    "\n",
    "import os\n",
    "import pickle\n",
    "import copy\n",
    "import numpy as np\n",
    "\n",
    "import tensorflow as tf\n",
    "from tensorflow.python.layers.core import Dense\n",
    "\n",
    "from distutils.version import LooseVersion\n",
    "import warnings\n",
    "import time\n",
    "\n",
    "import itertools\n",
    "import collections\n",
    "from matplotlib import pyplot"
   ]
  },
  {
   "cell_type": "code",
   "execution_count": 3,
   "metadata": {
    "collapsed": true
   },
   "outputs": [],
   "source": [
    "hide_code = ''\n",
    "# https://github.com/udacity/deep-learning/blob/master/language-translation/helper.py (old version)\n",
    "CODES = {'<PAD>': 0, '<EOS>': 1, '<UNK>': 2, '<GO>': 3 }\n",
    "\n",
    "def load_data(path):\n",
    "    \"\"\"Load Dataset from File\"\"\"\n",
    "    input_file = os.path.join(path)\n",
    "    with open(input_file, 'r', encoding='utf-8') as f:\n",
    "        data = f.read()\n",
    "    return data\n",
    "\n",
    "def preprocess_and_save_data(source_path, target_path, text_to_ids):\n",
    "    \"\"\"Preprocess Text Data.  Save to to file.\"\"\"\n",
    "    # Preprocess\n",
    "    source_text = load_data(source_path)\n",
    "    target_text = load_data(target_path)\n",
    "    \n",
    "    source_text = source_text.lower()\n",
    "    target_text = target_text.lower()\n",
    "\n",
    "    source_vocab_to_int, source_int_to_vocab = create_lookup_tables(source_text)\n",
    "    target_vocab_to_int, target_int_to_vocab = create_lookup_tables(target_text)\n",
    "\n",
    "    source_text, target_text = text_to_ids(source_text, target_text, \n",
    "                                           source_vocab_to_int, target_vocab_to_int)\n",
    "\n",
    "    # Save Data\n",
    "    pickle.dump((\n",
    "        (source_text, target_text),\n",
    "        (source_vocab_to_int, target_vocab_to_int),\n",
    "        (source_int_to_vocab, target_int_to_vocab)), open('preprocess.p', 'wb'))\n",
    "    \n",
    "def load_preprocess():\n",
    "    \"\"\"Load the Preprocessed Training data and return them in batches of <batch_size> or less\"\"\"\n",
    "    return pickle.load(open('preprocess.p', mode='rb'))\n",
    "\n",
    "def create_lookup_tables(text):\n",
    "    \"\"\" Create lookup tables for vocabulary\"\"\"\n",
    "    vocab = set(text.split())\n",
    "    vocab_to_int = copy.copy(CODES)\n",
    "\n",
    "    for v_i, v in enumerate(vocab, len(CODES)):\n",
    "        vocab_to_int[v] = v_i\n",
    "\n",
    "    int_to_vocab = {v_i: v for v, v_i in vocab_to_int.items()}\n",
    "    return vocab_to_int, int_to_vocab\n",
    "\n",
    "def save_params(params):\n",
    "    \"\"\"Save parameters to file\"\"\"\n",
    "    pickle.dump(params, open('params.p', 'wb'))\n",
    "\n",
    "def load_params():\n",
    "    \"\"\"Load parameters from file\"\"\"\n",
    "    return pickle.load(open('params.p', mode='rb'))\n",
    "\n",
    "def batch_data(source, target, batch_size):\n",
    "    \"\"\"Batch source and target together\"\"\"\n",
    "    for batch_i in range(0, len(source)//batch_size):\n",
    "        start_i = batch_i * batch_size\n",
    "        source_batch = source[start_i:start_i + batch_size]\n",
    "        target_batch = target[start_i:start_i + batch_size]\n",
    "        yield np.array(pad_sentence_batch(source_batch)), np.array(pad_sentence_batch(target_batch))\n",
    "\n",
    "def pad_sentence_batch(sentence_batch):\n",
    "    \"\"\"Pad sentence with <PAD> id\"\"\"\n",
    "    max_sentence = max([len(sentence) for sentence in sentence_batch])\n",
    "    return [sentence + [CODES['<PAD>']] * (max_sentence - len(sentence))\n",
    "            for sentence in sentence_batch]        "
   ]
  },
  {
   "cell_type": "code",
   "execution_count": 18,
   "metadata": {
    "collapsed": true
   },
   "outputs": [],
   "source": [
    "hide_code\n",
    "# https://github.com/udacity/deep-learning/blob/master/language-translation/problem_unittests.py (old version)\n",
    "def _print_success_message():\n",
    "    print('Tests Passed')\n",
    "\n",
    "def test_text_to_ids(text_to_ids):\n",
    "    test_source_text = \\\n",
    "    'new jersey is sometimes quiet during autumn , and it is snowy in april .\\nthe united states \\\n",
    "    is usually chilly during july , and it is usually freezing in november .\\ncalifornia is usually \\\n",
    "    quiet during march , and it is usually hot in june .\\nthe united states is sometimes mild \\\n",
    "    during june , and it is cold in september .'\n",
    "    test_target_text = \\\n",
    "    'new jersey est parfois calme pendant l\\' automne , et il est neigeux en \\\n",
    "    avril .\\nles états-unis est généralement froid en juillet , et il gèle habituellement \\\n",
    "    en novembre .\\ncalifornia est généralement calme en mars , et il est généralement chaud \\\n",
    "    en juin .\\nles états-unis est parfois légère en juin , et il fait froid en septembre .'\n",
    "\n",
    "    test_source_text = test_source_text.lower()\n",
    "    test_target_text = test_target_text.lower()\n",
    "\n",
    "    source_vocab_to_int, source_int_to_vocab = create_lookup_tables(test_source_text)\n",
    "    target_vocab_to_int, target_int_to_vocab = create_lookup_tables(test_target_text)\n",
    "\n",
    "    test_source_id_seq, test_target_id_seq = text_to_ids(test_source_text, test_target_text, \n",
    "                                                         source_vocab_to_int, target_vocab_to_int)\n",
    "\n",
    "    assert len(test_source_id_seq) == len(test_source_text.split('\\n')),\\\n",
    "        'source_id_text has wrong length, it should be {}.'.format(len(test_source_text.split('\\n')))\n",
    "    assert len(test_target_id_seq) == len(test_target_text.split('\\n')), \\\n",
    "        'target_id_text has wrong length, it should be {}.'.format(len(test_target_text.split('\\n')))\n",
    "\n",
    "    target_not_iter = [type(x) for x in test_source_id_seq if not isinstance(x, collections.Iterable)]\n",
    "    assert not target_not_iter,\\\n",
    "        'Element in source_id_text is not iteratable.  Found type {}'.format(target_not_iter[0])\n",
    "    target_not_iter = [type(x) for x in test_target_id_seq if not isinstance(x, collections.Iterable)]\n",
    "    assert not target_not_iter, \\\n",
    "        'Element in target_id_text is not iteratable.  Found type {}'.format(target_not_iter[0])\n",
    "\n",
    "    source_changed_length = [(words, word_ids)\n",
    "                             for words, word_ids in zip(test_source_text.split('\\n'), test_source_id_seq)\n",
    "                             if len(words.split()) != len(word_ids)]\n",
    "    assert not source_changed_length,\\\n",
    "        'Source text changed in size from {} word(s) to {} id(s): {}'\\\n",
    "        .format(len(source_changed_length[0][0].split()), len(source_changed_length[0][1]), \n",
    "                source_changed_length[0][1])\n",
    "\n",
    "    target_missing_end = [word_ids for word_ids in test_target_id_seq if \\\n",
    "                          word_ids[-1] != target_vocab_to_int['<EOS>']]\n",
    "    assert not target_missing_end,\\\n",
    "        'Missing <EOS> id at the end of {}'.format(target_missing_end[0])\n",
    "\n",
    "    target_bad_size = [(words.split(), word_ids)\n",
    "                       for words, word_ids in zip(test_target_text.split('\\n'), test_target_id_seq)\n",
    "                       if len(word_ids) != len(words.split()) + 1]\n",
    "    assert not target_bad_size,\\\n",
    "        'Target text incorrect size.  {} should be length {}'.format(\n",
    "            target_bad_size[0][1], len(target_bad_size[0][0]) + 1)\n",
    "\n",
    "    source_bad_id = [(word, word_id)\n",
    "                     for word, word_id in zip(\n",
    "                        [word for sentence in test_source_text.split('\\n') for word in sentence.split()],\n",
    "                        itertools.chain.from_iterable(test_source_id_seq))\n",
    "                     if source_vocab_to_int[word] != word_id]\n",
    "    assert not source_bad_id,\\\n",
    "        'Source word incorrectly converted from {} to id {}.'.format(source_bad_id[0][0], source_bad_id[0][1])\n",
    "\n",
    "    target_bad_id = [(word, word_id)\n",
    "                     for word, word_id in zip(\n",
    "                        [word for sentence in test_target_text.split('\\n') for word in sentence.split()],\n",
    "                        [word_id for word_ids in test_target_id_seq for word_id in word_ids[:-1]])\n",
    "                     if target_vocab_to_int[word] != word_id]\n",
    "    assert not target_bad_id,\\\n",
    "        'Target word incorrectly converted from {} to id {}.'.format(target_bad_id[0][0], target_bad_id[0][1])\n",
    "\n",
    "    _print_success_message()"
   ]
  },
  {
   "cell_type": "code",
   "execution_count": 5,
   "metadata": {
    "collapsed": true
   },
   "outputs": [],
   "source": [
    "hide_code\n",
    "# https://github.com/udacity/deep-learning/blob/master/language-translation/problem_unittests.py (old version)\n",
    "def test_model_inputs(model_inputs):\n",
    "    with tf.Graph().as_default():\n",
    "        input_data, targets, lr, keep_prob = model_inputs()\n",
    "\n",
    "        # Check type\n",
    "        assert input_data.op.type == 'Placeholder',\\\n",
    "            'Input is not a Placeholder.'\n",
    "        assert targets.op.type == 'Placeholder',\\\n",
    "            'Targets is not a Placeholder.'\n",
    "        assert lr.op.type == 'Placeholder',\\\n",
    "            'Learning Rate is not a Placeholder.'\n",
    "        assert keep_prob.op.type == 'Placeholder', \\\n",
    "            'Keep Probability is not a Placeholder.'\n",
    "\n",
    "        # Check name\n",
    "        assert input_data.name == 'input:0',\\\n",
    "            'Input has bad name.  Found name {}'.format(input_data.name)\n",
    "        assert keep_prob.name == 'keep_prob:0', \\\n",
    "            'Keep Probability has bad name.  Found name {}'.format(keep_prob.name)\n",
    "\n",
    "        assert tf.assert_rank(input_data, 2, message='Input data has wrong rank')\n",
    "        assert tf.assert_rank(targets, 2, message='Targets has wrong rank')\n",
    "        assert tf.assert_rank(lr, 0, message='Learning Rate has wrong rank')\n",
    "        assert tf.assert_rank(keep_prob, 0, message='Keep Probability has wrong rank')\n",
    "\n",
    "    _print_success_message()"
   ]
  },
  {
   "cell_type": "code",
   "execution_count": 6,
   "metadata": {
    "collapsed": true
   },
   "outputs": [],
   "source": [
    "hide_code\n",
    "# https://github.com/udacity/deep-learning/blob/master/language-translation/problem_unittests.py (old version)\n",
    "def test_encoding_layer(encoding_layer):\n",
    "    rnn_size = 512\n",
    "    batch_size = 64\n",
    "    num_layers = 3\n",
    "\n",
    "    with tf.Graph().as_default():\n",
    "        rnn_inputs = tf.placeholder(tf.float32, [batch_size, 22, 1000])\n",
    "        keep_prob = tf.placeholder(tf.float32)\n",
    "        states = encoding_layer(rnn_inputs, rnn_size, num_layers, keep_prob)\n",
    "\n",
    "        assert len(states) == num_layers,\\\n",
    "            'Found {} state(s). It should be {} states.'.format(len(states), num_layers)\n",
    "\n",
    "        bad_types = [type(state) for state in states if not isinstance(state, tf.contrib.rnn.LSTMStateTuple)]\n",
    "        assert not bad_types,\\\n",
    "            'Found wrong type: {}'.format(bad_types[0])\n",
    "\n",
    "        bad_shapes = [state_tensor.get_shape()\n",
    "                      for state in states\n",
    "                      for state_tensor in state\n",
    "                      if state_tensor.get_shape().as_list() not in [[None, rnn_size], [batch_size, rnn_size]]]\n",
    "        assert not bad_shapes,\\\n",
    "            'Found wrong shape: {}'.format(bad_shapes[0])\n",
    "\n",
    "    _print_success_message()"
   ]
  },
  {
   "cell_type": "code",
   "execution_count": 7,
   "metadata": {
    "collapsed": true
   },
   "outputs": [],
   "source": [
    "hide_code\n",
    "# https://github.com/udacity/deep-learning/blob/master/language-translation/problem_unittests.py (old version)\n",
    "def test_decoding_layer(decoding_layer):\n",
    "    batch_size = 64\n",
    "    vocab_size = 1000\n",
    "    embedding_size = 200\n",
    "    sequence_length = 22\n",
    "    rnn_size = 512\n",
    "    num_layers = 3\n",
    "    target_vocab_to_int = {'<EOS>': 1, '<GO>': 3}\n",
    "\n",
    "    with tf.Graph().as_default():\n",
    "        dec_embed_input = tf.placeholder(tf.float32, [batch_size, 22, embedding_size])\n",
    "        dec_embeddings = tf.placeholder(tf.float32, [vocab_size, embedding_size])\n",
    "        keep_prob = tf.placeholder(tf.float32)\n",
    "        state = tf.contrib.rnn.LSTMStateTuple(\n",
    "            tf.placeholder(tf.float32, [None, rnn_size]),\n",
    "            tf.placeholder(tf.float32, [None, rnn_size]))\n",
    "        encoder_state = (state, state, state)\n",
    "\n",
    "        train_output, inf_output = decoding_layer(dec_embed_input, dec_embeddings, \n",
    "                                                  encoder_state, vocab_size,\n",
    "                                                  sequence_length, rnn_size, num_layers, \n",
    "                                                  target_vocab_to_int, keep_prob)\n",
    "\n",
    "        assert isinstance(train_output, tf.Tensor),\\\n",
    "            'Train Logits is wrong type: {}'.format(type(train_output))\n",
    "        assert isinstance(inf_output, tf.Tensor), \\\n",
    "            'Inference Logits is wrong type: {}'.format(type(inf_output))\n",
    "\n",
    "        assert train_output.get_shape().as_list() == [batch_size, None, vocab_size],\\\n",
    "            'Train Logits is the wrong shape: {}'.format(train_output.get_shape())\n",
    "        assert inf_output.get_shape().as_list() == [None, None, vocab_size], \\\n",
    "            'Inference Logits is the wrong shape: {}'.format(inf_output.get_shape())\n",
    "\n",
    "    _print_success_message()"
   ]
  },
  {
   "cell_type": "code",
   "execution_count": 8,
   "metadata": {
    "collapsed": true
   },
   "outputs": [],
   "source": [
    "hide_code\n",
    "# https://github.com/udacity/deep-learning/blob/master/language-translation/problem_unittests.py (old version)\n",
    "def test_seq2seq_model(seq2seq_model):\n",
    "    batch_size = 64\n",
    "    target_vocab_size = 300\n",
    "    sequence_length = 22\n",
    "    rnn_size = 512\n",
    "    num_layers = 3\n",
    "    target_vocab_to_int = {'<EOS>': 1, '<GO>': 3}\n",
    "\n",
    "    with tf.Graph().as_default():\n",
    "        input_data = tf.placeholder(tf.int32, [64, 22])\n",
    "        target_data = tf.placeholder(tf.int32, [64, 22])\n",
    "        keep_prob = tf.placeholder(tf.float32)\n",
    "        train_output, inf_output = seq2seq_model(input_data, target_data, keep_prob, \n",
    "                                                 batch_size, sequence_length,\n",
    "                                                 200, target_vocab_size, 64, 80, \n",
    "                                                 rnn_size, num_layers, target_vocab_to_int)\n",
    "\n",
    "        assert isinstance(train_output, tf.Tensor),\\\n",
    "            'Train Logits is wrong type: {}'.format(type(train_output))\n",
    "        assert isinstance(inf_output, tf.Tensor), \\\n",
    "            'Inference Logits is wrong type: {}'.format(type(inf_output))\n",
    "\n",
    "        assert train_output.get_shape().as_list() == [batch_size, None, target_vocab_size],\\\n",
    "            'Train Logits is the wrong shape: {}'.format(train_output.get_shape())\n",
    "        assert inf_output.get_shape().as_list() == [None, None, target_vocab_size], \\\n",
    "            'Inference Logits is the wrong shape: {}'.format(inf_output.get_shape())\n",
    "\n",
    "    _print_success_message()"
   ]
  },
  {
   "cell_type": "code",
   "execution_count": 9,
   "metadata": {
    "collapsed": true
   },
   "outputs": [],
   "source": [
    "hide_code\n",
    "# https://github.com/udacity/deep-learning/blob/master/language-translation/problem_unittests.py (old version)\n",
    "def test_sentence_to_seq(sentence_to_seq):\n",
    "    sentence = 'this is a test sentence'\n",
    "    vocab_to_int = {'<PAD>': 0, '<EOS>': 1, '<UNK>': 2, 'this': 3, 'is': 6, 'a': 5, 'sentence': 4}\n",
    "\n",
    "    output = sentence_to_seq(sentence, vocab_to_int)\n",
    "\n",
    "    assert len(output) == 5,\\\n",
    "        'Wrong length. Found a length of {}'.format(len(output))\n",
    "\n",
    "    assert output[3] == 2,\\\n",
    "        'Missing <UNK> id.'\n",
    "\n",
    "    assert np.array_equal(output, [3, 6, 5, 2, 4]),\\\n",
    "        'Incorrect ouput. Found {}'.format(output)\n",
    "\n",
    "    _print_success_message()"
   ]
  },
  {
   "cell_type": "code",
   "execution_count": 10,
   "metadata": {
    "collapsed": true
   },
   "outputs": [],
   "source": [
    "hide_code\n",
    "# https://github.com/udacity/deep-learning/blob/master/language-translation/problem_unittests.py (old version)\n",
    "def test_process_decoding_input(process_decoding_input):\n",
    "    batch_size = 2\n",
    "    seq_length = 3\n",
    "    target_vocab_to_int = {'<GO>': 3}\n",
    "    with tf.Graph().as_default():\n",
    "        target_data = tf.placeholder(tf.int32, [batch_size, seq_length])\n",
    "        dec_input = process_decoding_input(target_data, target_vocab_to_int, batch_size)\n",
    "\n",
    "        assert dec_input.get_shape() == (batch_size, seq_length),\\\n",
    "            'Wrong shape returned.  Found {}'.format(dec_input.get_shape())\n",
    "\n",
    "        test_target_data = [[10, 20, 30], [40, 18, 23]]\n",
    "        with tf.Session() as sess:\n",
    "            test_dec_input = sess.run(dec_input, {target_data: test_target_data})\n",
    "\n",
    "        assert test_dec_input[0][0] == target_vocab_to_int['<GO>'] and\\\n",
    "               test_dec_input[1][0] == target_vocab_to_int['<GO>'],\\\n",
    "            'Missing GO Id.'\n",
    "\n",
    "    _print_success_message()"
   ]
  },
  {
   "cell_type": "code",
   "execution_count": 11,
   "metadata": {
    "collapsed": true
   },
   "outputs": [],
   "source": [
    "hide_code\n",
    "# https://github.com/udacity/deep-learning/blob/master/language-translation/problem_unittests.py (old version)\n",
    "def test_decoding_layer_train(decoding_layer_train):\n",
    "    batch_size = 64\n",
    "    vocab_size = 1000\n",
    "    embedding_size = 200\n",
    "    sequence_length = 22\n",
    "    rnn_size = 512\n",
    "    num_layers = 3\n",
    "\n",
    "    with tf.Graph().as_default():\n",
    "        with tf.variable_scope(\"decoding\") as decoding_scope:\n",
    "            dec_cell = tf.contrib.rnn.MultiRNNCell([tf.contrib.rnn.BasicLSTMCell(rnn_size)] * num_layers)\n",
    "            output_fn = lambda x: tf.contrib.layers.fully_connected(x, vocab_size, None, scope=decoding_scope)\n",
    "            dec_embed_input = tf.placeholder(tf.float32, [batch_size, 22, embedding_size])\n",
    "            keep_prob = tf.placeholder(tf.float32)\n",
    "            state = tf.contrib.rnn.LSTMStateTuple(\n",
    "                tf.placeholder(tf.float32, [None, rnn_size]),\n",
    "                tf.placeholder(tf.float32, [None, rnn_size]))\n",
    "            encoder_state = (state, state, state)\n",
    "\n",
    "            train_logits = decoding_layer_train(encoder_state, dec_cell, dec_embed_input, sequence_length,\n",
    "                                 decoding_scope, output_fn, keep_prob)\n",
    "\n",
    "            assert train_logits.get_shape().as_list() == [batch_size, None, vocab_size], \\\n",
    "                'Wrong shape returned.  Found {}'.format(train_logits.get_shape())\n",
    "\n",
    "    _print_success_message()"
   ]
  },
  {
   "cell_type": "code",
   "execution_count": 12,
   "metadata": {
    "collapsed": true
   },
   "outputs": [],
   "source": [
    "hide_code\n",
    "# https://github.com/udacity/deep-learning/blob/master/language-translation/problem_unittests.py (old version)\n",
    "def test_decoding_layer_infer(decoding_layer_infer):\n",
    "    vocab_size = 1000\n",
    "    sequence_length = 22\n",
    "    embedding_size = 200\n",
    "    rnn_size = 512\n",
    "    num_layers = 3\n",
    "\n",
    "    with tf.Graph().as_default():\n",
    "        with tf.variable_scope(\"decoding\") as decoding_scope:\n",
    "            dec_cell = tf.contrib.rnn.MultiRNNCell([tf.contrib.rnn.BasicLSTMCell(rnn_size)] * num_layers)\n",
    "            output_fn = lambda x: tf.contrib.layers.fully_connected(x, vocab_size, None, scope=decoding_scope)\n",
    "            dec_embeddings = tf.placeholder(tf.float32, [vocab_size, embedding_size])\n",
    "            keep_prob = tf.placeholder(tf.float32)\n",
    "            state = tf.contrib.rnn.LSTMStateTuple(\n",
    "                tf.placeholder(tf.float32, [None, rnn_size]),\n",
    "                tf.placeholder(tf.float32, [None, rnn_size]))\n",
    "            encoder_state = (state, state, state)\n",
    "\n",
    "            infer_logits = decoding_layer_infer(encoder_state, dec_cell, dec_embeddings, 10, 20,\n",
    "                                sequence_length, vocab_size, decoding_scope, output_fn, keep_prob)\n",
    "\n",
    "            assert infer_logits.get_shape().as_list() == [None, None, vocab_size], \\\n",
    "                 'Wrong shape returned.  Found {}'.format(infer_logits.get_shape())\n",
    "\n",
    "    _print_success_message()"
   ]
  },
  {
   "cell_type": "markdown",
   "metadata": {},
   "source": [
    "## Get the Data\n",
    "Since translating the whole language of English to French will take lots of time to train, we have provided you with a small portion of the English corpus."
   ]
  },
  {
   "cell_type": "code",
   "execution_count": 14,
   "metadata": {
    "collapsed": true
   },
   "outputs": [],
   "source": [
    "hide_code\n",
    "\"\"\"DON'T MODIFY ANYTHING IN THIS CELL\"\"\"\n",
    "\n",
    "source_path = 'data/small_vocab_en'\n",
    "target_path = 'data/small_vocab_fr'\n",
    "source_text = load_data(source_path)\n",
    "target_text = load_data(target_path)"
   ]
  },
  {
   "cell_type": "markdown",
   "metadata": {},
   "source": [
    "## Explore the Data\n",
    "Play around with view_sentence_range to view different parts of the data."
   ]
  },
  {
   "cell_type": "code",
   "execution_count": 15,
   "metadata": {},
   "outputs": [
    {
     "name": "stdout",
     "output_type": "stream",
     "text": [
      "--------------------------------------- \n",
      " Dataset Stats\n",
      "---------------------------------------\n",
      "Roughly the number of unique words: 227\n",
      "Number of sentences: 137860\n",
      "Average number of words in a sentence: 13.225373567387205\n",
      "\n",
      "English sentences 0 to 10:\n",
      "new jersey is sometimes quiet during autumn , and it is snowy in april .\n",
      "the united states is usually chilly during july , and it is usually freezing in november .\n",
      "california is usually quiet during march , and it is usually hot in june .\n",
      "the united states is sometimes mild during june , and it is cold in september .\n",
      "your least liked fruit is the grape , but my least liked is the apple .\n",
      "his favorite fruit is the orange , but my favorite is the grape .\n",
      "paris is relaxing during december , but it is usually chilly in july .\n",
      "new jersey is busy during spring , and it is never hot in march .\n",
      "our least liked fruit is the lemon , but my least liked is the grape .\n",
      "the united states is sometimes busy during january , and it is sometimes warm in november .\n",
      "\n",
      "French sentences 0 to 10:\n",
      "new jersey est parfois calme pendant l' automne , et il est neigeux en avril .\n",
      "les états-unis est généralement froid en juillet , et il gèle habituellement en novembre .\n",
      "california est généralement calme en mars , et il est généralement chaud en juin .\n",
      "les états-unis est parfois légère en juin , et il fait froid en septembre .\n",
      "votre moins aimé fruit est le raisin , mais mon moins aimé est la pomme .\n",
      "son fruit préféré est l'orange , mais mon préféré est le raisin .\n",
      "paris est relaxant en décembre , mais il est généralement froid en juillet .\n",
      "new jersey est occupé au printemps , et il est jamais chaude en mars .\n",
      "notre fruit est moins aimé le citron , mais mon moins aimé est le raisin .\n",
      "les états-unis est parfois occupé en janvier , et il est parfois chaud en novembre .\n"
     ]
    }
   ],
   "source": [
    "hide_code\n",
    "\"\"\"DON'T MODIFY ANYTHING IN THIS CELL\"\"\"\n",
    "view_sentence_range = (0, 10)\n",
    "print('--------------------------------------- \\n', 'Dataset Stats')\n",
    "print('---------------------------------------')\n",
    "print('Roughly the number of unique words: {}'.format(len({word: None for word in source_text.split()})))\n",
    "\n",
    "sentences = source_text.split('\\n')\n",
    "word_counts = [len(sentence.split()) for sentence in sentences]\n",
    "print('Number of sentences: {}'.format(len(sentences)))\n",
    "print('Average number of words in a sentence: {}'.format(np.average(word_counts)))\n",
    "\n",
    "print()\n",
    "print('English sentences {} to {}:'.format(*view_sentence_range))\n",
    "print('\\n'.join(source_text.split('\\n')[view_sentence_range[0]:view_sentence_range[1]]))\n",
    "print()\n",
    "print('French sentences {} to {}:'.format(*view_sentence_range))\n",
    "print('\\n'.join(target_text.split('\\n')[view_sentence_range[0]:view_sentence_range[1]]))"
   ]
  },
  {
   "cell_type": "code",
   "execution_count": 16,
   "metadata": {},
   "outputs": [
    {
     "name": "stdout",
     "output_type": "stream",
     "text": [
      "Minimum number of words in a sentence: 3\n",
      "Maximum number of words in a sentence: 17\n",
      "------------------------------------------------------------ \n",
      " English Vocabulary with Punctuation Signs - 1000 sentences\n",
      "------------------------------------------------------------\n",
      "Number of words in the vocabulary: 194\n",
      "Words: \n",
      " new, jersey, is, sometimes, quiet, during, autumn, ,, and, it, snowy, in, april, ., the, united, states, usually, chilly, july, freezing, november, california, march, hot, june, mild, cold, september, your, least, liked, fruit, grape, but, my, apple, his, favorite, orange, paris, relaxing, december, busy, spring, never, our, lemon, january, warm, lime, her, banana, he, saw, a, old, yellow, truck, india, rainy, that, cat, was, most, loved, animal, dislikes, grapefruit, limes, lemons, february, china, pleasant, october, wonderful, nice, summer, france, may, grapes, mangoes., their, mango, pear, august, beautiful, apples, peaches, feared, shark, wet, dry, we, like, oranges, mangoes, they, pears, she, little, red, winter, disliked, rusty, car, strawberries, i, strawberry, bananas., going, to, next, plan, visit, elephants, were, animals, favorite., are, likes, bananas, dislike, fall, driving, oranges., liked., peach, loved., drives, blue, you, bird, grapefruit., horses, mouse, went, last, peaches., horse, automobile, dogs, white, elephant, lemons., mango., apples., banana., peach., black, think, difficult, translate, between, spanish, portuguese, big, green, strawberries., translating, fun, grapes., lemon., where, ?, dog, why, might, go, this, drove, shiny, orange., pear., sharks, monkey, strawberry., how, weather, lion, plans, bear, pears., apple., rabbit, it's, chinese, when, eiffel, tower, did, grocery, store, wanted .\n"
     ]
    }
   ],
   "source": [
    "hide_code\n",
    "vocabulary = {word: None for word in \"\\n\".join(source_text.split('\\n')[:1000]).split()}\n",
    "min_len = np.min([len(sentence.split()) for sentence in source_text.split('\\n') if sentence != ''])\n",
    "max_len = np.max([len(sentence.split()) for sentence in source_text.split('\\n')])\n",
    "\n",
    "print('Minimum number of words in a sentence: {}'.format(min_len))\n",
    "print('Maximum number of words in a sentence: {}'.format(max_len))\n",
    "print('------------------------------------------------------------ \\n',\n",
    "      'English Vocabulary with Punctuation Signs - 1000 sentences')\n",
    "print('------------------------------------------------------------')\n",
    "print('Number of words in the vocabulary: {}'.format(len(vocabulary.keys())))\n",
    "print('Words: \\n',', '.join(vocabulary),'.')"
   ]
  },
  {
   "cell_type": "markdown",
   "metadata": {},
   "source": [
    "## Implement Preprocessing Function\n",
    "### Text to Word Ids\n",
    "As you did with other RNNs, you must turn the text into a number so the computer can understand it. In the function `text_to_ids()`, you'll turn `source_text` and `target_text` from words to ids.  However, you need to add the `<EOS>` word id at the end of each sentence from `target_text`.  This will help the neural network predict when the sentence should end.\n",
    "\n",
    "You can get the `<EOS>` word id by doing:\n",
    "```python\n",
    "target_vocab_to_int['<EOS>']\n",
    "```\n",
    "You can get other word ids using `source_vocab_to_int` and `target_vocab_to_int`."
   ]
  },
  {
   "cell_type": "code",
   "execution_count": 19,
   "metadata": {},
   "outputs": [
    {
     "name": "stdout",
     "output_type": "stream",
     "text": [
      "Tests Passed\n"
     ]
    }
   ],
   "source": [
    "hide_code\n",
    "def text_to_ids(source_text, target_text, source_vocab_to_int, target_vocab_to_int):\n",
    "    \"\"\"\n",
    "    Convert source and target text to proper word ids\n",
    "    :param source_text: String that contains all the source text.\n",
    "    :param target_text: String that contains all the target text.\n",
    "    :param source_vocab_to_int: Dictionary to go from the source words to an id\n",
    "    :param target_vocab_to_int: Dictionary to go from the target words to an id\n",
    "    :return: A tuple of lists (source_id_text, target_id_text)\n",
    "    \"\"\"    \n",
    "    # TODO: Implement Function\n",
    "\n",
    "    source_id_text = [[source_vocab_to_int[word] for word in sentence.split()] \\\n",
    "                      for sentence in source_text.split('\\n')]\n",
    "    target_id_text = [[target_vocab_to_int[word] for word in (sentence + ' <EOS>').split()]\\\n",
    "                      for sentence in target_text.split('\\n')]\n",
    "    \n",
    "    return source_id_text, target_id_text\n",
    "\n",
    "\"\"\"DON'T MODIFY ANYTHING IN THIS CELL THAT IS BELOW THIS LINE\"\"\"\n",
    "test_text_to_ids(text_to_ids)"
   ]
  },
  {
   "cell_type": "markdown",
   "metadata": {},
   "source": [
    "### Preprocess all the data and save it\n",
    "Running the code cell below will preprocess all the data and save it to file."
   ]
  },
  {
   "cell_type": "code",
   "execution_count": 20,
   "metadata": {
    "collapsed": true
   },
   "outputs": [],
   "source": [
    "hide_code\n",
    "\"\"\"DON'T MODIFY ANYTHING IN THIS CELL\"\"\"\n",
    "\n",
    "preprocess_and_save_data(source_path, target_path, text_to_ids)"
   ]
  },
  {
   "cell_type": "markdown",
   "metadata": {},
   "source": [
    "# Check Point\n",
    "This is your first checkpoint. If you ever decide to come back to this notebook or have to restart the notebook, you can start from here. The preprocessed data has been saved to disk."
   ]
  },
  {
   "cell_type": "code",
   "execution_count": 21,
   "metadata": {
    "collapsed": true
   },
   "outputs": [],
   "source": [
    "hide_code\n",
    "\"\"\"DON'T MODIFY ANYTHING IN THIS CELL\"\"\"\n",
    "\n",
    "(source_int_text, target_int_text), (source_vocab_to_int, target_vocab_to_int), _ = load_preprocess()"
   ]
  },
  {
   "cell_type": "code",
   "execution_count": 23,
   "metadata": {},
   "outputs": [
    {
     "name": "stdout",
     "output_type": "stream",
     "text": [
      "Example of source_int_text: \n",
      " [126, 87, 154, 37, 204, 9, 189, 125, 139, 205, 154, 156, 197, 198, 79] \n",
      "\n",
      "Example of target_int_text: \n",
      " [47, 213, 11, 36, 115, 240, 106, 112, 318, 263, 296, 11, 23, 62, 41, 130, 1] \n",
      "\n",
      "Example of source_vocab_to_int: \n",
      " {'during': 9, 'sometimes': 37, '.': 79, 'jersey': 87, ',': 125, 'new': 126, 'and': 139, 'is': 154, 'snowy': 156, 'autumn': 189, 'in': 197, 'april': 198, 'quiet': 204, 'it': 205} \n",
      "\n",
      "Example of target_vocab_to_int \n",
      " {'<EOS>': 1, 'est': 11, 'neigeux': 23, 'parfois': 36, 'avril': 41, 'new': 47, 'en': 62, \"l'\": 106, 'automne': 112, 'calme': 115, '.': 130, 'jersey': 213, 'pendant': 240, 'et': 263, 'il': 296, ',': 318}\n"
     ]
    }
   ],
   "source": [
    "print('Example of source_int_text: \\n', source_int_text[0], '\\n')\n",
    "print('Example of target_int_text: \\n', target_int_text[0], '\\n')\n",
    "print('Example of source_vocab_to_int: \\n', \\\n",
    "      {k:v for k,v in source_vocab_to_int.items() \\\n",
    "       if v in [126, 87, 154, 37, 204, 9, 189, 125, 139, 205, 154, 156, 197, 198, 79]}, '\\n')\n",
    "print('Example of target_vocab_to_int \\n', \\\n",
    "      {k:v for k,v in target_vocab_to_int.items() \\\n",
    "       if v in [47, 213, 11, 36, 115, 240, 106, 112, 318, 263, 296, 11, 23, 62, 41, 130, 1]})"
   ]
  },
  {
   "cell_type": "markdown",
   "metadata": {},
   "source": [
    "### Check the Version of TensorFlow and Access to GPU\n",
    "This will check to make sure you have the correct version of TensorFlow and access to a GPU"
   ]
  },
  {
   "cell_type": "code",
   "execution_count": 24,
   "metadata": {},
   "outputs": [
    {
     "name": "stdout",
     "output_type": "stream",
     "text": [
      "TensorFlow Version: 1.0.0\n"
     ]
    },
    {
     "name": "stderr",
     "output_type": "stream",
     "text": [
      "/Library/Frameworks/Python.framework/Versions/3.6/lib/python3.6/site-packages/ipykernel_launcher.py:10: UserWarning: No GPU found. Please use a GPU to train your neural network.\n",
      "  # Remove the CWD from sys.path while we load stuff.\n"
     ]
    }
   ],
   "source": [
    "hide_code\n",
    "\"\"\"DON'T MODIFY ANYTHING IN THIS CELL\"\"\"\n",
    "\n",
    "# Check TensorFlow Version\n",
    "assert LooseVersion(tf.__version__) >= LooseVersion('1.0'), 'Please use TensorFlow version 1.0 or newer'\n",
    "print('TensorFlow Version: {}'.format(tf.__version__))\n",
    "\n",
    "# Check for a GPU\n",
    "if not tf.test.gpu_device_name():\n",
    "    warnings.warn('No GPU found. Please use a GPU to train your neural network.')\n",
    "else:\n",
    "    print('Default GPU Device: {}'.format(tf.test.gpu_device_name()))"
   ]
  },
  {
   "cell_type": "markdown",
   "metadata": {},
   "source": [
    "## Build the Neural Network\n",
    "You'll build the components necessary to build a Sequence-to-Sequence model by implementing the following functions below:\n",
    "- `model_inputs`\n",
    "- `process_decoding_input`\n",
    "- `encoding_layer`\n",
    "- `decoding_layer_train`\n",
    "- `decoding_layer_infer`\n",
    "- `decoding_layer`\n",
    "- `seq2seq_model`\n",
    "\n",
    "### Input\n",
    "Implement the `model_inputs()` function to create [`tf.placeholder()`](https://www.tensorflow.org/api_docs/python/tf/placeholder) for the Neural Network. It should create the following placeholders:\n",
    "\n",
    "- Input text placeholder named \"input\" using the TF Placeholder name parameter with rank 2.\n",
    "- Targets placeholder with rank 2.\n",
    "- Learning rate placeholder with rank 0.\n",
    "- Keep probability placeholder named \"keep_prob\" using the TF Placeholder name parameter with rank 0.\n",
    "\n",
    "Return the placeholders in the following the tuple (Input, Targets, Learing Rate, Keep Probability)"
   ]
  },
  {
   "cell_type": "code",
   "execution_count": 28,
   "metadata": {},
   "outputs": [
    {
     "name": "stdout",
     "output_type": "stream",
     "text": [
      "Tests Passed\n"
     ]
    }
   ],
   "source": [
    "hide_code\n",
    "def model_inputs():\n",
    "    \"\"\"\n",
    "    Create TF Placeholders for input, targets, and learning rate.\n",
    "    :return: Tuple (input, targets, learning rate, keep probability)\n",
    "    \"\"\"\n",
    "    # TODO: Implement Function  \n",
    "    \n",
    "    inputs = tf.placeholder(tf.int32, shape=[None,None], name=\"input\") # rank 2\n",
    "    targets = tf.placeholder(tf.int32, shape=[None, None], name=\"target\") # rank 2\n",
    "    \n",
    "    learning_rate = tf.placeholder(tf.float32, shape=[], name=\"learning_rate\") # rank 0\n",
    "    keep_probability = tf.placeholder(tf.float32, shape=[], name=\"keep_prob\") # rank 0\n",
    "    \n",
    "    return inputs, targets, learning_rate, keep_probability\n",
    "\n",
    "\"\"\"DON'T MODIFY ANYTHING IN THIS CELL THAT IS BELOW THIS LINE\"\"\"\n",
    "test_model_inputs(model_inputs)"
   ]
  },
  {
   "cell_type": "markdown",
   "metadata": {},
   "source": [
    "### Process Decoding Input\n",
    "Implement `process_decoding_input` using TensorFlow to remove the last word id from each batch in `target_data` and concat the GO ID to the begining of each batch."
   ]
  },
  {
   "cell_type": "code",
   "execution_count": 29,
   "metadata": {},
   "outputs": [
    {
     "name": "stdout",
     "output_type": "stream",
     "text": [
      "Tests Passed\n"
     ]
    }
   ],
   "source": [
    "hide_code\n",
    "def process_decoding_input(target_data, target_vocab_to_int, batch_size):\n",
    "    \"\"\"\n",
    "    Preprocess target data for dencoding\n",
    "    :param target_data: Target Placehoder\n",
    "    :param target_vocab_to_int: Dictionary to go from the target words to an id\n",
    "    :param batch_size: Batch Size\n",
    "    :return: Preprocessed target data\n",
    "    \"\"\"\n",
    "    # TODO: Implement Function\n",
    "    \n",
    "    target_endings = tf.strided_slice(target_data, [0, 0], [batch_size, -1], [1, 1])\n",
    "    decoded_target_data = tf.concat([tf.fill([batch_size, 1], target_vocab_to_int['<GO>']), \n",
    "                                    target_endings], 1)\n",
    "    return decoded_target_data\n",
    "\n",
    "\"\"\"DON'T MODIFY ANYTHING IN THIS CELL THAT IS BELOW THIS LINE\"\"\"\n",
    "test_process_decoding_input(process_decoding_input)"
   ]
  },
  {
   "cell_type": "markdown",
   "metadata": {},
   "source": [
    "### Encoding\n",
    "Implement `encoding_layer()` to create a Encoder RNN layer using [`tf.nn.dynamic_rnn()`](https://www.tensorflow.org/api_docs/python/tf/nn/dynamic_rnn)."
   ]
  },
  {
   "cell_type": "code",
   "execution_count": 33,
   "metadata": {},
   "outputs": [
    {
     "name": "stdout",
     "output_type": "stream",
     "text": [
      "Tests Passed\n"
     ]
    }
   ],
   "source": [
    "hide_code\n",
    "def encoding_layer(rnn_inputs, rnn_size, num_layers, keep_prob):\n",
    "    \"\"\"\n",
    "    Create encoding layer\n",
    "    :param rnn_inputs: Inputs for the RNN\n",
    "    :param rnn_size: RNN Size\n",
    "    :param num_layers: Number of layers\n",
    "    :param keep_prob: Dropout keep probability\n",
    "    :return: RNN state\n",
    "    \"\"\"\n",
    "    # TODO: Implement Function\n",
    "    \n",
    "    def create_lstm_cell(state_size):\n",
    "        lstm_layer = tf.contrib.rnn.core_rnn_cell.BasicLSTMCell(state_size)\n",
    "        \n",
    "        return tf.contrib.rnn.core_rnn_cell.DropoutWrapper(lstm_layer, \n",
    "                                                           input_keep_prob=1.0,\n",
    "                                                           output_keep_prob=keep_prob)\n",
    "\n",
    "    rnn_cell = tf.contrib.rnn.\\\n",
    "    core_rnn_cell.MultiRNNCell([create_lstm_cell(rnn_size) for _ in range(num_layers)])\n",
    "\n",
    "    enc_outputs, enc_state = tf.nn.dynamic_rnn(rnn_cell, rnn_inputs, dtype=tf.float32)\n",
    "    \n",
    "    return enc_state\n",
    "\n",
    "\"\"\"DON'T MODIFY ANYTHING IN THIS CELL THAT IS BELOW THIS LINE\"\"\"\n",
    "test_encoding_layer(encoding_layer)"
   ]
  },
  {
   "cell_type": "markdown",
   "metadata": {},
   "source": [
    "### Decoding - Training\n",
    "Create training logits using [`tf.contrib.seq2seq.simple_decoder_fn_train()`](https://www.tensorflow.org/versions/r1.0/api_docs/python/tf/contrib/seq2seq/simple_decoder_fn_train) and [`tf.contrib.seq2seq.dynamic_rnn_decoder()`](https://www.tensorflow.org/versions/r1.0/api_docs/python/tf/contrib/seq2seq/dynamic_rnn_decoder).  Apply the `output_fn` to the [`tf.contrib.seq2seq.dynamic_rnn_decoder()`](https://www.tensorflow.org/versions/r1.0/api_docs/python/tf/contrib/seq2seq/dynamic_rnn_decoder) outputs."
   ]
  },
  {
   "cell_type": "code",
   "execution_count": 34,
   "metadata": {},
   "outputs": [
    {
     "name": "stdout",
     "output_type": "stream",
     "text": [
      "Tests Passed\n"
     ]
    }
   ],
   "source": [
    "hide_code\n",
    "def decoding_layer_train(encoder_state, dec_cell, dec_embed_input, sequence_length, \n",
    "                         decoding_scope, output_fn, keep_prob):\n",
    "    \"\"\"\n",
    "    Create a decoding layer for training\n",
    "    :param encoder_state: Encoder State\n",
    "    :param dec_cell: Decoder RNN Cell\n",
    "    :param dec_embed_input: Decoder embedded input\n",
    "    :param sequence_length: Sequence Length\n",
    "    :param decoding_scope: TenorFlow Variable Scope for decoding\n",
    "    :param output_fn: Function to apply the output layer\n",
    "    :param keep_prob: Dropout keep probability\n",
    "    :return: Train Logits\n",
    "    \"\"\"\n",
    "    # TODO: Implement Function\n",
    "    \n",
    "    decoder_fn_train = tf.contrib.seq2seq.simple_decoder_fn_train(encoder_state)\n",
    "    drop_cell  = tf.contrib.rnn.DropoutWrapper(dec_cell, keep_prob)\n",
    "    \n",
    "    outputs, final_state, final_context_state = \\\n",
    "    tf.contrib.seq2seq.dynamic_rnn_decoder(drop_cell, decoder_fn_train, \n",
    "                                           dec_embed_input, sequence_length, \n",
    "                                           scope=decoding_scope)\n",
    "    logits = output_fn(outputs)\n",
    "    return logits\n",
    "\n",
    "\"\"\"DON'T MODIFY ANYTHING IN THIS CELL THAT IS BELOW THIS LINE\"\"\"\n",
    "test_decoding_layer_train(decoding_layer_train)"
   ]
  },
  {
   "cell_type": "markdown",
   "metadata": {},
   "source": [
    "### Decoding - Inference\n",
    "Create inference logits using [`tf.contrib.seq2seq.simple_decoder_fn_inference()`](https://www.tensorflow.org/versions/r1.0/api_docs/python/tf/contrib/seq2seq/simple_decoder_fn_inference) and [`tf.contrib.seq2seq.dynamic_rnn_decoder()`](https://www.tensorflow.org/versions/r1.0/api_docs/python/tf/contrib/seq2seq/dynamic_rnn_decoder). "
   ]
  },
  {
   "cell_type": "code",
   "execution_count": 35,
   "metadata": {},
   "outputs": [
    {
     "name": "stdout",
     "output_type": "stream",
     "text": [
      "Tests Passed\n"
     ]
    }
   ],
   "source": [
    "hide_code\n",
    "def decoding_layer_infer(encoder_state, dec_cell, dec_embeddings, start_of_sequence_id, end_of_sequence_id,\n",
    "                         maximum_length, vocab_size, decoding_scope, output_fn, keep_prob):\n",
    "    \"\"\"\n",
    "    Create a decoding layer for inference\n",
    "    :param encoder_state: Encoder state\n",
    "    :param dec_cell: Decoder RNN Cell\n",
    "    :param dec_embeddings: Decoder embeddings\n",
    "    :param start_of_sequence_id: GO ID\n",
    "    :param end_of_sequence_id: EOS Id\n",
    "    :param maximum_length: Maximum length of \n",
    "    :param vocab_size: Size of vocabulary\n",
    "    :param decoding_scope: TensorFlow Variable Scope for decoding\n",
    "    :param output_fn: Function to apply the output layer\n",
    "    :param keep_prob: Dropout keep probability\n",
    "    :return: Inference Logits\n",
    "    \"\"\"\n",
    "    # TODO: Implement Function  \n",
    "    \n",
    "    decoder_fn_inference = \\\n",
    "    tf.contrib.seq2seq.simple_decoder_fn_inference(output_fn, encoder_state, dec_embeddings, \n",
    "                                                   start_of_sequence_id, end_of_sequence_id,\n",
    "                                                   maximum_length, vocab_size)\n",
    "    drop_cell  = tf.contrib.rnn.DropoutWrapper(dec_cell, keep_prob)\n",
    "    \n",
    "    logits, final_state, final_context_state = \\\n",
    "    tf.contrib.seq2seq.dynamic_rnn_decoder(drop_cell, decoder_fn_inference, \n",
    "                                           scope=decoding_scope)\n",
    "    return logits\n",
    "\n",
    "\"\"\"DON'T MODIFY ANYTHING IN THIS CELL THAT IS BELOW THIS LINE\"\"\"\n",
    "test_decoding_layer_infer(decoding_layer_infer)"
   ]
  },
  {
   "cell_type": "markdown",
   "metadata": {},
   "source": [
    "### Build the Decoding Layer\n",
    "Implement `decoding_layer()` to create a Decoder RNN layer.\n",
    "\n",
    "- Create RNN cell for decoding using `rnn_size` and `num_layers`.\n",
    "- Create the output fuction using [`lambda`](https://docs.python.org/3/tutorial/controlflow.html#lambda-expressions) to transform it's input, logits, to class logits.\n",
    "- Use the your `decoding_layer_train(encoder_state, dec_cell, dec_embed_input, sequence_length, decoding_scope, output_fn, keep_prob)` function to get the training logits.\n",
    "- Use your `decoding_layer_infer(encoder_state, dec_cell, dec_embeddings, start_of_sequence_id, end_of_sequence_id, maximum_length, vocab_size, decoding_scope, output_fn, keep_prob)` function to get the inference logits.\n",
    "\n",
    "Note: You'll need to use [`tf.variable_scope`](https://www.tensorflow.org/api_docs/python/tf/variable_scope) to share variables between training and inference."
   ]
  },
  {
   "cell_type": "code",
   "execution_count": 36,
   "metadata": {},
   "outputs": [
    {
     "name": "stdout",
     "output_type": "stream",
     "text": [
      "Tests Passed\n"
     ]
    }
   ],
   "source": [
    "hide_code\n",
    "def decoding_layer(dec_embed_input, dec_embeddings, encoder_state, \n",
    "                   vocab_size, sequence_length, rnn_size,\n",
    "                   num_layers, target_vocab_to_int, keep_prob):\n",
    "    \"\"\"\n",
    "    Create decoding layer\n",
    "    :param dec_embed_input: Decoder embedded input\n",
    "    :param dec_embeddings: Decoder embeddings\n",
    "    :param encoder_state: The encoded state\n",
    "    :param vocab_size: Size of vocabulary\n",
    "    :param sequence_length: Sequence Length\n",
    "    :param rnn_size: RNN Size\n",
    "    :param num_layers: Number of layers\n",
    "    :param target_vocab_to_int: Dictionary to go from the target words to an id\n",
    "    :param keep_prob: Dropout keep probability\n",
    "    :return: Tuple of (Training Logits, Inference Logits)\n",
    "    \"\"\"\n",
    "    # TODO: Implement Function \n",
    "    \n",
    "    def create_lstm_cell(state_size):\n",
    "        lstm_layer = tf.contrib.rnn.core_rnn_cell.BasicLSTMCell(state_size)\n",
    "        \n",
    "        return tf.contrib.rnn.core_rnn_cell.DropoutWrapper(lstm_layer, \n",
    "                                                           input_keep_prob=1.0,\n",
    "                                                           output_keep_prob=keep_prob)\n",
    "\n",
    "    rnn_cell = tf.contrib.rnn.\\\n",
    "    core_rnn_cell.MultiRNNCell([create_lstm_cell(rnn_size) for _ in range(num_layers)])\n",
    "    \n",
    "    with tf.variable_scope(\"decoding\") as decoding_scope:\n",
    "        output_fn = lambda x: tf.contrib.layers.fully_connected(x, vocab_size, None, scope=decoding_scope)\n",
    "\n",
    "        dec_train_logits = \\\n",
    "        decoding_layer_train(encoder_state, rnn_cell, \n",
    "                             dec_embed_input, sequence_length, \n",
    "                             decoding_scope, output_fn, keep_prob)\n",
    "        \n",
    "    with tf.variable_scope(\"decoding\", reuse=True) as decoding_scope:\n",
    "        start_of_sequence_id = target_vocab_to_int['<GO>']\n",
    "        end_of_sequence_id = target_vocab_to_int['<EOS>']\n",
    "        \n",
    "        dec_inference_logits = \\\n",
    "        decoding_layer_infer(encoder_state, rnn_cell, \n",
    "                             dec_embeddings, start_of_sequence_id, end_of_sequence_id, \n",
    "                             sequence_length - 1, vocab_size,\n",
    "                             decoding_scope, output_fn, keep_prob)\n",
    "        \n",
    "    return dec_train_logits, dec_inference_logits\n",
    "\n",
    "\"\"\"DON'T MODIFY ANYTHING IN THIS CELL THAT IS BELOW THIS LINE\"\"\"\n",
    "test_decoding_layer(decoding_layer)"
   ]
  },
  {
   "cell_type": "markdown",
   "metadata": {},
   "source": [
    "### Build the Neural Network\n",
    "Apply the functions you implemented above to:\n",
    "\n",
    "- Apply embedding to the input data for the encoder.\n",
    "- Encode the input using your `encoding_layer(rnn_inputs, rnn_size, num_layers, keep_prob)`.\n",
    "- Process target data using your `process_decoding_input(target_data, target_vocab_to_int, batch_size)` function.\n",
    "- Apply embedding to the target data for the decoder.\n",
    "- Decode the encoded input using your `decoding_layer(dec_embed_input, dec_embeddings, encoder_state, vocab_size, sequence_length, rnn_size, num_layers, target_vocab_to_int, keep_prob)`."
   ]
  },
  {
   "cell_type": "code",
   "execution_count": 38,
   "metadata": {},
   "outputs": [
    {
     "name": "stdout",
     "output_type": "stream",
     "text": [
      "Tests Passed\n"
     ]
    }
   ],
   "source": [
    "hide_code\n",
    "def seq2seq_model(input_data, target_data, keep_prob, batch_size, \n",
    "                  sequence_length, source_vocab_size, target_vocab_size,\n",
    "                  enc_embedding_size, dec_embedding_size, rnn_size, \n",
    "                  num_layers, target_vocab_to_int):\n",
    "    \"\"\"\n",
    "    Build the Sequence-to-Sequence part of the neural network\n",
    "    :param input_data: Input placeholder\n",
    "    :param target_data: Target placeholder\n",
    "    :param keep_prob: Dropout keep probability placeholder\n",
    "    :param batch_size: Batch Size\n",
    "    :param sequence_length: Sequence Length\n",
    "    :param source_vocab_size: Source vocabulary size\n",
    "    :param target_vocab_size: Target vocabulary size\n",
    "    :param enc_embedding_size: Decoder embedding size\n",
    "    :param dec_embedding_size: Encoder embedding size\n",
    "    :param rnn_size: RNN Size\n",
    "    :param num_layers: Number of layers\n",
    "    :param target_vocab_to_int: Dictionary to go from the target words to an id\n",
    "    :return: Tuple of (Training Logits, Inference Logits)\n",
    "    \"\"\"\n",
    "     # TODO: Implement Function  \n",
    "       \n",
    "    enc_embed_inputs = \\\n",
    "    tf.contrib.layers.embed_sequence(input_data, source_vocab_size, enc_embedding_size)\n",
    "    encoder_state = encoding_layer(enc_embed_inputs, rnn_size, num_layers, keep_prob)\n",
    "    \n",
    "    dec_inputs = process_decoding_input(target_data, target_vocab_to_int, batch_size)\n",
    "    dec_embeddings = tf.Variable(tf.random_uniform([target_vocab_size, dec_embedding_size]))\n",
    "    dec_embed_inputs = tf.nn.embedding_lookup(dec_embeddings, dec_inputs)\n",
    "    \n",
    "    dec_train_logits, dec_inference_logits = \\\n",
    "    decoding_layer(dec_embed_inputs, dec_embeddings, encoder_state, \n",
    "                   target_vocab_size, sequence_length, rnn_size, \n",
    "                   num_layers, target_vocab_to_int, keep_prob)\n",
    "    \n",
    "    return dec_train_logits, dec_inference_logits\n",
    "\n",
    "\"\"\"DON'T MODIFY ANYTHING IN THIS CELL THAT IS BELOW THIS LINE\"\"\"\n",
    "test_seq2seq_model(seq2seq_model)"
   ]
  },
  {
   "cell_type": "markdown",
   "metadata": {},
   "source": [
    "## Neural Network Training\n",
    "### Hyperparameters\n",
    "Tune the following parameters:\n",
    "\n",
    "- Set `epochs` to the number of epochs.\n",
    "- Set `batch_size` to the batch size.\n",
    "- Set `rnn_size` to the size of the RNNs.\n",
    "- Set `num_layers` to the number of layers.\n",
    "- Set `encoding_embedding_size` to the size of the embedding for the encoder.\n",
    "- Set `decoding_embedding_size` to the size of the embedding for the decoder.\n",
    "- Set `learning_rate` to the learning rate.\n",
    "- Set `keep_probability` to the Dropout keep probability"
   ]
  },
  {
   "cell_type": "code",
   "execution_count": 69,
   "metadata": {
    "collapsed": true
   },
   "outputs": [],
   "source": [
    "hide_code\n",
    "\n",
    "epochs = 5\n",
    "batch_size = 128\n",
    "rnn_size = 128\n",
    "num_layers = 2\n",
    "encoding_embedding_size = 32\n",
    "decoding_embedding_size = 32\n",
    "learning_rate = 0.005\n",
    "keep_probability = 0.5"
   ]
  },
  {
   "cell_type": "markdown",
   "metadata": {},
   "source": [
    "### Build the Graph\n",
    "Build the graph using the neural network you implemented."
   ]
  },
  {
   "cell_type": "code",
   "execution_count": 70,
   "metadata": {
    "collapsed": true
   },
   "outputs": [],
   "source": [
    "hide_code\n",
    "\"\"\"DON'T MODIFY ANYTHING IN THIS CELL\"\"\"\n",
    "save_path = 'checkpoints/dev'\n",
    "(source_int_text, target_int_text), (source_vocab_to_int, target_vocab_to_int), _ = load_preprocess()\n",
    "max_source_sentence_length = max([len(sentence) for sentence in source_int_text])\n",
    "\n",
    "train_graph = tf.Graph()\n",
    "with train_graph.as_default():\n",
    "    input_data, targets, lr, keep_prob = model_inputs()\n",
    "    sequence_length = tf.placeholder_with_default(max_source_sentence_length, \n",
    "                                                  None, name='sequence_length')\n",
    "    input_shape = tf.shape(input_data)\n",
    "    \n",
    "    train_logits, inference_logits = \\\n",
    "    seq2seq_model(tf.reverse(input_data, [-1]), targets, keep_prob, batch_size, \n",
    "                  sequence_length, len(source_vocab_to_int), len(target_vocab_to_int),\n",
    "                  encoding_embedding_size, decoding_embedding_size, \n",
    "                  rnn_size, num_layers, target_vocab_to_int)\n",
    "\n",
    "    tf.identity(inference_logits, 'logits')\n",
    "    with tf.name_scope(\"optimization\"):\n",
    "        # Loss function\n",
    "        cost = tf.contrib.seq2seq.sequence_loss(train_logits, targets,\n",
    "                                                tf.ones([input_shape[0], sequence_length]))\n",
    "\n",
    "        tf.summary.scalar('cost', cost)\n",
    "        summary = tf.summary.merge_all()\n",
    "        \n",
    "        # Optimizer\n",
    "        optimizer = tf.train.AdamOptimizer(lr)\n",
    "\n",
    "        # Gradient Clipping\n",
    "        gradients = optimizer.compute_gradients(cost)\n",
    "        capped_gradients = [(tf.clip_by_value(grad, -1., 1.), var) \\\n",
    "                            for grad, var in gradients if grad is not None]\n",
    "        train_op = optimizer.apply_gradients(capped_gradients)"
   ]
  },
  {
   "cell_type": "markdown",
   "metadata": {},
   "source": [
    "### Train\n",
    "Train the neural network on the preprocessed data. If you have a hard time getting a good loss, check the forms to see if anyone is having the same problem."
   ]
  },
  {
   "cell_type": "code",
   "execution_count": 71,
   "metadata": {},
   "outputs": [
    {
     "name": "stdout",
     "output_type": "stream",
     "text": [
      "Epoch   0 | Batch    0/1077 |                 Train Accuracy:  0.295 | Validation Accuracy:  0.305 | Loss:  5.881\n",
      "Epoch   0 | Batch  100/1077 |                 Train Accuracy:  0.409 | Validation Accuracy:  0.467 | Loss:  1.965\n",
      "Epoch   0 | Batch  200/1077 |                 Train Accuracy:  0.436 | Validation Accuracy:  0.514 | Loss:  1.177\n",
      "Epoch   0 | Batch  300/1077 |                 Train Accuracy:  0.478 | Validation Accuracy:  0.557 | Loss:  0.980\n",
      "Epoch   0 | Batch  400/1077 |                 Train Accuracy:  0.597 | Validation Accuracy:  0.582 | Loss:  0.817\n",
      "Epoch   0 | Batch  500/1077 |                 Train Accuracy:  0.575 | Validation Accuracy:  0.602 | Loss:  0.728\n",
      "Epoch   0 | Batch  600/1077 |                 Train Accuracy:  0.633 | Validation Accuracy:  0.611 | Loss:  0.651\n",
      "Epoch   0 | Batch  700/1077 |                 Train Accuracy:  0.568 | Validation Accuracy:  0.610 | Loss:  0.660\n",
      "Epoch   0 | Batch  800/1077 |                 Train Accuracy:  0.582 | Validation Accuracy:  0.631 | Loss:  0.622\n",
      "Epoch   0 | Batch  900/1077 |                 Train Accuracy:  0.624 | Validation Accuracy:  0.611 | Loss:  0.636\n",
      "Epoch   0 | Batch 1000/1077 |                 Train Accuracy:  0.674 | Validation Accuracy:  0.637 | Loss:  0.550\n",
      "Epoch Time:  753.5038158893585\n",
      "Epoch   1 | Batch    0/1077 |                 Train Accuracy:  0.632 | Validation Accuracy:  0.631 | Loss:  0.538\n",
      "Epoch   1 | Batch  100/1077 |                 Train Accuracy:  0.639 | Validation Accuracy:  0.651 | Loss:  0.555\n",
      "Epoch   1 | Batch  200/1077 |                 Train Accuracy:  0.603 | Validation Accuracy:  0.657 | Loss:  0.558\n",
      "Epoch   1 | Batch  300/1077 |                 Train Accuracy:  0.669 | Validation Accuracy:  0.676 | Loss:  0.518\n",
      "Epoch   1 | Batch  400/1077 |                 Train Accuracy:  0.696 | Validation Accuracy:  0.686 | Loss:  0.513\n",
      "Epoch   1 | Batch  500/1077 |                 Train Accuracy:  0.696 | Validation Accuracy:  0.689 | Loss:  0.465\n",
      "Epoch   1 | Batch  600/1077 |                 Train Accuracy:  0.731 | Validation Accuracy:  0.686 | Loss:  0.435\n",
      "Epoch   1 | Batch  700/1077 |                 Train Accuracy:  0.669 | Validation Accuracy:  0.688 | Loss:  0.421\n",
      "Epoch   1 | Batch  800/1077 |                 Train Accuracy:  0.674 | Validation Accuracy:  0.694 | Loss:  0.413\n",
      "Epoch   1 | Batch  900/1077 |                 Train Accuracy:  0.717 | Validation Accuracy:  0.714 | Loss:  0.433\n",
      "Epoch   1 | Batch 1000/1077 |                 Train Accuracy:  0.746 | Validation Accuracy:  0.720 | Loss:  0.368\n",
      "Epoch Time:  731.7220537662506\n",
      "Epoch   2 | Batch    0/1077 |                 Train Accuracy:  0.757 | Validation Accuracy:  0.724 | Loss:  0.349\n",
      "Epoch   2 | Batch  100/1077 |                 Train Accuracy:  0.743 | Validation Accuracy:  0.743 | Loss:  0.372\n",
      "Epoch   2 | Batch  200/1077 |                 Train Accuracy:  0.713 | Validation Accuracy:  0.731 | Loss:  0.379\n",
      "Epoch   2 | Batch  300/1077 |                 Train Accuracy:  0.760 | Validation Accuracy:  0.741 | Loss:  0.349\n",
      "Epoch   2 | Batch  400/1077 |                 Train Accuracy:  0.770 | Validation Accuracy:  0.749 | Loss:  0.341\n",
      "Epoch   2 | Batch  500/1077 |                 Train Accuracy:  0.773 | Validation Accuracy:  0.751 | Loss:  0.310\n",
      "Epoch   2 | Batch  600/1077 |                 Train Accuracy:  0.775 | Validation Accuracy:  0.743 | Loss:  0.309\n",
      "Epoch   2 | Batch  700/1077 |                 Train Accuracy:  0.753 | Validation Accuracy:  0.760 | Loss:  0.302\n",
      "Epoch   2 | Batch  800/1077 |                 Train Accuracy:  0.777 | Validation Accuracy:  0.761 | Loss:  0.294\n",
      "Epoch   2 | Batch  900/1077 |                 Train Accuracy:  0.811 | Validation Accuracy:  0.761 | Loss:  0.299\n",
      "Epoch   2 | Batch 1000/1077 |                 Train Accuracy:  0.808 | Validation Accuracy:  0.805 | Loss:  0.259\n",
      "Epoch Time:  747.9243009090424\n",
      "Epoch   3 | Batch    0/1077 |                 Train Accuracy:  0.809 | Validation Accuracy:  0.771 | Loss:  0.233\n",
      "Epoch   3 | Batch  100/1077 |                 Train Accuracy:  0.804 | Validation Accuracy:  0.779 | Loss:  0.249\n",
      "Epoch   3 | Batch  200/1077 |                 Train Accuracy:  0.777 | Validation Accuracy:  0.752 | Loss:  0.268\n",
      "Epoch   3 | Batch  300/1077 |                 Train Accuracy:  0.849 | Validation Accuracy:  0.792 | Loss:  0.237\n",
      "Epoch   3 | Batch  400/1077 |                 Train Accuracy:  0.825 | Validation Accuracy:  0.785 | Loss:  0.244\n",
      "Epoch   3 | Batch  500/1077 |                 Train Accuracy:  0.821 | Validation Accuracy:  0.794 | Loss:  0.227\n",
      "Epoch   3 | Batch  600/1077 |                 Train Accuracy:  0.836 | Validation Accuracy:  0.821 | Loss:  0.220\n",
      "Epoch   3 | Batch  700/1077 |                 Train Accuracy:  0.845 | Validation Accuracy:  0.825 | Loss:  0.185\n",
      "Epoch   3 | Batch  800/1077 |                 Train Accuracy:  0.851 | Validation Accuracy:  0.841 | Loss:  0.183\n",
      "Epoch   3 | Batch  900/1077 |                 Train Accuracy:  0.874 | Validation Accuracy:  0.850 | Loss:  0.187\n",
      "Epoch   3 | Batch 1000/1077 |                 Train Accuracy:  0.853 | Validation Accuracy:  0.826 | Loss:  0.169\n",
      "Epoch Time:  712.9230072498322\n",
      "Epoch   4 | Batch    0/1077 |                 Train Accuracy:  0.873 | Validation Accuracy:  0.844 | Loss:  0.150\n",
      "Epoch   4 | Batch  100/1077 |                 Train Accuracy:  0.868 | Validation Accuracy:  0.867 | Loss:  0.158\n",
      "Epoch   4 | Batch  200/1077 |                 Train Accuracy:  0.827 | Validation Accuracy:  0.869 | Loss:  0.181\n",
      "Epoch   4 | Batch  300/1077 |                 Train Accuracy:  0.910 | Validation Accuracy:  0.862 | Loss:  0.146\n",
      "Epoch   4 | Batch  400/1077 |                 Train Accuracy:  0.888 | Validation Accuracy:  0.869 | Loss:  0.151\n",
      "Epoch   4 | Batch  500/1077 |                 Train Accuracy:  0.887 | Validation Accuracy:  0.861 | Loss:  0.127\n",
      "Epoch   4 | Batch  600/1077 |                 Train Accuracy:  0.899 | Validation Accuracy:  0.880 | Loss:  0.134\n",
      "Epoch   4 | Batch  700/1077 |                 Train Accuracy:  0.879 | Validation Accuracy:  0.863 | Loss:  0.128\n",
      "Epoch   4 | Batch  800/1077 |                 Train Accuracy:  0.885 | Validation Accuracy:  0.874 | Loss:  0.128\n",
      "Epoch   4 | Batch  900/1077 |                 Train Accuracy:  0.896 | Validation Accuracy:  0.881 | Loss:  0.148\n",
      "Epoch   4 | Batch 1000/1077 |                 Train Accuracy:  0.902 | Validation Accuracy:  0.879 | Loss:  0.121\n",
      "Epoch Time:  714.1572782993317\n",
      "Model Trained and Saved\n"
     ]
    },
    {
     "data": {
      "image/png": "[encoded data removed]",
      "text/plain": [
       "<matplotlib.figure.Figure at 0x127c09710>"
      ]
     },
     "metadata": {
      "image/png": {
       "height": 372,
       "width": 1043
      }
     },
     "output_type": "display_data"
    },
    {
     "data": {
      "image/png": "[encoded data removed]",
      "text/plain": [
       "<matplotlib.figure.Figure at 0x1263fc5f8>"
      ]
     },
     "metadata": {
      "image/png": {
       "height": 263,
       "width": 1033
      }
     },
     "output_type": "display_data"
    }
   ],
   "source": [
    "hide_code\n",
    "summary_writer = tf.summary.FileWriter('output/tb_logs')\n",
    "\"\"\"DON'T MODIFY ANYTHING IN THIS CELL\"\"\"\n",
    "\n",
    "def get_accuracy(target, logits):\n",
    "    \"\"\"Calculate accuracy\"\"\"\n",
    "    max_seq = max(target.shape[1], logits.shape[1])\n",
    "    if max_seq - target.shape[1]:\n",
    "        target = np.pad(target, [(0,0),(0,max_seq - target.shape[1])], 'constant')\n",
    "    if max_seq - logits.shape[1]:\n",
    "        logits = np.pad(logits, [(0,0),(0,max_seq - logits.shape[1]), (0,0)], 'constant')\n",
    "\n",
    "    return np.mean(np.equal(target, np.argmax(logits, 2)))\n",
    "\n",
    "train_source = source_int_text[batch_size:]\n",
    "train_target = target_int_text[batch_size:]\n",
    "\n",
    "valid_source = pad_sentence_batch(source_int_text[:batch_size])\n",
    "valid_target = pad_sentence_batch(target_int_text[:batch_size])\n",
    "TA, VA, L = [], [], []\n",
    "\n",
    "with tf.Session(graph=train_graph) as sess:\n",
    "    sess.run(tf.global_variables_initializer())\n",
    "\n",
    "    for epoch_i in range(epochs):\n",
    "        start = time.time()\n",
    "        for batch_i, (source_batch, target_batch) in \\\n",
    "        enumerate(batch_data(train_source, train_target, batch_size)):\n",
    "            start_time = time.time()\n",
    "            \n",
    "            _, loss, summary_str = sess.run([train_op, cost, summary],\n",
    "                                            {input_data: source_batch,\n",
    "                                             targets: target_batch,\n",
    "                                             lr: learning_rate,\n",
    "                                             sequence_length: target_batch.shape[1],\n",
    "                                             keep_prob: keep_probability})\n",
    "            \n",
    "            if batch_i % 100 == 0:\n",
    "                summary_writer.add_summary(summary_str, batch_i)\n",
    "            \n",
    "            batch_train_logits = sess.run(\n",
    "                inference_logits,\n",
    "                {input_data: source_batch, keep_prob: 1.0})\n",
    "            batch_valid_logits = sess.run(\n",
    "                inference_logits,\n",
    "                {input_data: valid_source, keep_prob: 1.0})\n",
    "                \n",
    "            train_acc = get_accuracy(target_batch, batch_train_logits)\n",
    "            valid_acc = get_accuracy(np.array(valid_target), batch_valid_logits)\n",
    "            end_time = time.time()\n",
    "            if batch_i % 100 == 0:\n",
    "                print('Epoch {:>3} | Batch {:>4}/{} | \\\n",
    "                Train Accuracy: {:>6.3f} | Validation Accuracy: {:>6.3f} | Loss: {:>6.3f}'\\\n",
    "                      .format(epoch_i, batch_i, len(source_int_text) // batch_size, \n",
    "                              train_acc, valid_acc, loss))\n",
    "                TA.append(train_acc)\n",
    "                VA.append(valid_acc)\n",
    "                L.append(loss)\n",
    "        print('Epoch Time: ', time.time() - start)\n",
    "\n",
    "    # Save Model\n",
    "    saver = tf.train.Saver()\n",
    "    saver.save(sess, save_path)\n",
    "    summary_writer.add_graph(sess.graph)\n",
    "    summary_writer.flush()\n",
    "    print('Model Trained and Saved')\n",
    "    \n",
    "    pyplot.figure(figsize=(18, 6))\n",
    "    pyplot.plot(TA, color = '#39d4be', label = 'train')\n",
    "    pyplot.plot(VA, color = '#fea143', label = 'valid')\n",
    "    pyplot.legend()\n",
    "    pyplot.title('Accuracy')\n",
    "    \n",
    "    pyplot.figure(figsize=(18, 4))\n",
    "    pyplot.plot(L, color = '#39d4be', label = 'loss')\n",
    "    pyplot.legend()\n",
    "    pyplot.title('Loss Function');"
   ]
  },
  {
   "cell_type": "markdown",
   "metadata": {},
   "source": [
    "### Save Parameters\n",
    "Save the `batch_size` and `save_path` parameters for inference."
   ]
  },
  {
   "cell_type": "code",
   "execution_count": 72,
   "metadata": {
    "collapsed": true
   },
   "outputs": [],
   "source": [
    "hide_code\n",
    "\"\"\"DON'T MODIFY ANYTHING IN THIS CELL\"\"\"\n",
    "# Save parameters for checkpoint\n",
    "save_params(save_path)"
   ]
  },
  {
   "cell_type": "markdown",
   "metadata": {},
   "source": [
    "# Checkpoint"
   ]
  },
  {
   "cell_type": "code",
   "execution_count": 73,
   "metadata": {
    "collapsed": true
   },
   "outputs": [],
   "source": [
    "hide_code\n",
    "\"\"\"DON'T MODIFY ANYTHING IN THIS CELL\"\"\"\n",
    "\n",
    "_, (source_vocab_to_int, target_vocab_to_int), (source_int_to_vocab, target_int_to_vocab) = load_preprocess()\n",
    "load_path = load_params()"
   ]
  },
  {
   "cell_type": "markdown",
   "metadata": {},
   "source": [
    "## Sentence to Sequence\n",
    "To feed a sentence into the model for translation, you first need to preprocess it.  Implement the function `sentence_to_seq()` to preprocess new sentences.\n",
    "\n",
    "- Convert the sentence to lowercase\n",
    "- Convert words into ids using `vocab_to_int`\n",
    " - Convert words not in the vocabulary, to the `<UNK>` word id."
   ]
  },
  {
   "cell_type": "code",
   "execution_count": 74,
   "metadata": {},
   "outputs": [
    {
     "name": "stdout",
     "output_type": "stream",
     "text": [
      "Tests Passed\n"
     ]
    }
   ],
   "source": [
    "hide_code\n",
    "def sentence_to_seq(sentence, vocab_to_int):\n",
    "    \"\"\"\n",
    "    Convert a sentence to a sequence of ids\n",
    "    :param sentence: String\n",
    "    :param vocab_to_int: Dictionary to go from the words to an id\n",
    "    :return: List of word ids\n",
    "    \"\"\"\n",
    "    seq = [vocab_to_int.get(word, vocab_to_int['<UNK>']) for word in sentence.lower().split()]\n",
    "    return seq\n",
    "\n",
    "\n",
    "\"\"\"DON'T MODIFY ANYTHING IN THIS CELL THAT IS BELOW THIS LINE\"\"\"\n",
    "test_sentence_to_seq(sentence_to_seq)"
   ]
  },
  {
   "cell_type": "markdown",
   "metadata": {},
   "source": [
    "## Translate\n",
    "This will translate `translate_sentence` from English to French."
   ]
  },
  {
   "cell_type": "code",
   "execution_count": 75,
   "metadata": {},
   "outputs": [
    {
     "name": "stdout",
     "output_type": "stream",
     "text": [
      "Input\n",
      "  Word Ids:      [135, 211, 202, 175, 65, 66, 79]\n",
      "  English Words: ['he', 'saw', 'a', 'old', 'yellow', 'truck', '.']\n",
      "\n",
      "Prediction\n",
      "  Word Ids:      [296, 80, 56, 83, 134, 230, 257, 130, 1]\n",
      "  French Words: ['il', 'a', 'vu', 'un', 'vieux', 'camion', 'blanc', '.', '<EOS>']\n"
     ]
    }
   ],
   "source": [
    "hide_code\n",
    "translate_sentence = 'he saw a old yellow truck .'\n",
    "\n",
    "\"\"\"DON'T MODIFY ANYTHING IN THIS CELL\"\"\"\n",
    "translate_sentence = sentence_to_seq(translate_sentence, source_vocab_to_int)\n",
    "\n",
    "loaded_graph = tf.Graph()\n",
    "with tf.Session(graph=loaded_graph) as sess:\n",
    "    # Load saved model\n",
    "    loader = tf.train.import_meta_graph(load_path + '.meta')\n",
    "    loader.restore(sess, load_path)\n",
    "\n",
    "    input_data = loaded_graph.get_tensor_by_name('input:0')\n",
    "    logits = loaded_graph.get_tensor_by_name('logits:0')\n",
    "    keep_prob = loaded_graph.get_tensor_by_name('keep_prob:0')\n",
    "\n",
    "    translate_logits = sess.run(logits, {input_data: [translate_sentence], keep_prob: 1.0})[0]\n",
    "\n",
    "print('Input')\n",
    "print('  Word Ids:      {}'.format([i for i in translate_sentence]))\n",
    "print('  English Words: {}'.format([source_int_to_vocab[i] for i in translate_sentence]))\n",
    "\n",
    "print('\\nPrediction')\n",
    "print('  Word Ids:      {}'.format([i for i in np.argmax(translate_logits, 1)]))\n",
    "print('  French Words: {}'.format([target_int_to_vocab[i] for i in np.argmax(translate_logits, 1)]))"
   ]
  },
  {
   "cell_type": "markdown",
   "metadata": {},
   "source": [
    "## Imperfect Translation\n",
    "You might notice that some sentences translate better than others.  Since the dataset you're using only has a vocabulary of 227 English words of the thousands that you use, you're only going to see good results using these words.  For this project, you don't need a perfect translation. However, if you want to create a better translation model, you'll need better data.\n",
    "\n",
    "You can train on the [WMT10 French-English corpus](http://www.statmt.org/wmt10/training-giga-fren.tar).  This dataset has more vocabulary and richer in topics discussed.  However, this will take you days to train, so make sure you've a GPU and the neural network is performing well on dataset we provided.  Just make sure you play with the WMT10 corpus after you've submitted this project.\n",
    "## Submitting This Project\n",
    "When submitting this project, make sure to run all the cells before saving the notebook. Save the notebook file as \"dlnd_language_translation.ipynb\" and save it as a HTML file under \"File\" -> \"Download as\". Include the \"helper.py\" and \"problem_unittests.py\" files in your submission."
   ]
  }
 ],
 "metadata": {
  "hide_input": false,
  "kernelspec": {
   "display_name": "Python 3",
   "language": "python",
   "name": "python3"
  },
  "language_info": {
   "codemirror_mode": {
    "name": "ipython",
    "version": 3
   },
   "file_extension": ".py",
   "mimetype": "text/x-python",
   "name": "python",
   "nbconvert_exporter": "python",
   "pygments_lexer": "ipython3",
   "version": "3.6.1"
  },
  "latex_envs": {
   "bibliofile": "biblio.bib",
   "cite_by": "apalike",
   "current_citInitial": 1,
   "eqLabelWithNumbers": true,
   "eqNumInitial": 0
  }
 },
 "nbformat": 4,
 "nbformat_minor": 1
}

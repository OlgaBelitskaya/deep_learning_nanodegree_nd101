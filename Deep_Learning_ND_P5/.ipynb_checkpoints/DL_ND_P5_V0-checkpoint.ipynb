{
 "cells": [
  {
   "cell_type": "markdown",
   "metadata": {},
   "source": [
    "# &#x1F4D1; &nbsp; P5: Face Generation\n",
    "In this project, you'll use generative adversarial networks to generate new images of faces.\n",
    "## Code Tools and Links"
   ]
  },
  {
   "cell_type": "code",
   "execution_count": 5,
   "metadata": {},
   "outputs": [
    {
     "data": {
      "text/html": [
       "<style>\n",
       "@import url('https://fonts.googleapis.com/css?family=Orbitron|Roboto');\n",
       "body {background-color: lavender;}\n",
       "a {color: #8A2BE2; font-family: Roboto;}\n",
       "h1, h2 {color: #9370DB; font-family: Orbitron; text-shadow: 4px 4px 4px #aaa;}\n",
       "h3, h4 {color: #663399; font-family: Roboto; text-shadow: 4px 4px 4px #aaa;}\n",
       "span {text-shadow: 4px 4px 4px #ccc;}\n",
       "div.output_prompt, div.output_area pre {color: slategray;}\n",
       "div.input_prompt, div.output_subarea {color: #8A2BE2;}      \n",
       "div.output_stderr pre {background-color: lavender;}  \n",
       "div.output_stderr {background-color: slategrey;}        \n",
       "</style>\n",
       "<script>\n",
       "code_show = true; \n",
       "function code_display() {\n",
       "    if (code_show) {\n",
       "        $('div.input').each(function(id) {\n",
       "            if (id == 0 || $(this).html().indexOf('hide_code') > -1) {$(this).hide();}\n",
       "        });\n",
       "        $('div.output_prompt').css('opacity', 0);\n",
       "    } else {\n",
       "        $('div.input').each(function(id) {$(this).show();});\n",
       "        $('div.output_prompt').css('opacity', 1);\n",
       "    };\n",
       "    code_show = !code_show;\n",
       "} \n",
       "$(document).ready(code_display);\n",
       "</script>\n",
       "<form action=\"javascript: code_display()\">\n",
       "<input style=\"color: #8A2BE2; background: lavender; text-shadow: 4px 4px 4px #aaa;\" \\ \n",
       "type=\"submit\" value=\"Click to display or hide code cells\">\n",
       "</form>"
      ],
      "text/plain": [
       "<IPython.core.display.HTML object>"
      ]
     },
     "metadata": {},
     "output_type": "display_data"
    }
   ],
   "source": [
    "%%html\n",
    "<style>\n",
    "@import url('https://fonts.googleapis.com/css?family=Orbitron|Roboto');\n",
    "body {background-color: lavender;}\n",
    "a {color: #8A2BE2; font-family: Roboto;}\n",
    "h1, h2 {color: #9370DB; font-family: Orbitron; text-shadow: 4px 4px 4px #aaa;}\n",
    "h3, h4 {color: #663399; font-family: Roboto; text-shadow: 4px 4px 4px #aaa;}\n",
    "span {text-shadow: 4px 4px 4px #ccc;}\n",
    "div.output_prompt, div.output_area pre {color: slategray;}\n",
    "div.input_prompt, div.output_subarea {color: #8A2BE2;}      \n",
    "div.output_stderr pre {background-color: lavender;}  \n",
    "div.output_stderr {background-color: slategrey;}        \n",
    "</style>\n",
    "<script>\n",
    "code_show = true; \n",
    "function code_display() {\n",
    "    if (code_show) {\n",
    "        $('div.input').each(function(id) {\n",
    "            if (id == 0 || $(this).html().indexOf('hide_code') > -1) {$(this).hide();}\n",
    "        });\n",
    "        $('div.output_prompt').css('opacity', 0);\n",
    "    } else {\n",
    "        $('div.input').each(function(id) {$(this).show();});\n",
    "        $('div.output_prompt').css('opacity', 1);\n",
    "    };\n",
    "    code_show = !code_show;\n",
    "} \n",
    "$(document).ready(code_display);\n",
    "</script>\n",
    "<form action=\"javascript: code_display()\">\n",
    "<input style=\"color: #8A2BE2; background: lavender; text-shadow: 4px 4px 4px #aaa;\" \\ \n",
    "type=\"submit\" value=\"Click to display or hide code cells\">\n",
    "</form>"
   ]
  },
  {
   "cell_type": "code",
   "execution_count": 6,
   "metadata": {
    "collapsed": true
   },
   "outputs": [],
   "source": [
    "hide_code=''\n",
    "%matplotlib inline\n",
    "%config InlineBackend.figure_format = 'retina'\n",
    "\n",
    "import math\n",
    "import os\n",
    "\n",
    "import hashlib\n",
    "from urllib.request import urlretrieve\n",
    "import zipfile\n",
    "import gzip\n",
    "import shutil\n",
    "\n",
    "import numpy as np\n",
    "from PIL import Image\n",
    "from tqdm import tqdm\n",
    "\n",
    "from copy import deepcopy\n",
    "from unittest import mock\n",
    "\n",
    "from distutils.version import LooseVersion\n",
    "import warnings\n",
    "\n",
    "import tensorflow as tf\n",
    "\n",
    "from glob import glob\n",
    "from matplotlib import pyplot\n",
    "from matplotlib import cm"
   ]
  },
  {
   "cell_type": "code",
   "execution_count": 7,
   "metadata": {
    "collapsed": true
   },
   "outputs": [],
   "source": [
    "hide_code\n",
    "# https://github.com/udacity/deep-learning/blob/master/face_generation/helper.py\n",
    "def _read32(bytestream):\n",
    "    \"\"\"Read 32-bit integer from bytesteam\n",
    "       :param bytestream: A bytestream\n",
    "       :return: 32-bit integer\"\"\"\n",
    "    dt = np.dtype(np.uint32).newbyteorder('>')\n",
    "    return np.frombuffer(bytestream.read(4), dtype=dt)[0]\n",
    "\n",
    "def _unzip(save_path, _, database_name, data_path):\n",
    "    \"\"\"Unzip wrapper with the same interface as _ungzip\n",
    "       :param save_path: The path of the gzip files\n",
    "       :param database_name: Name of database\n",
    "       :param data_path: Path to extract to\n",
    "       :param _: HACK - Used to have to same interface as _ungzip\"\"\"\n",
    "    print('Extracting {}...'.format(database_name))\n",
    "    with zipfile.ZipFile(save_path) as zf:\n",
    "        zf.extractall(data_path)\n",
    "\n",
    "def _ungzip(save_path, extract_path, database_name, _):\n",
    "    \"\"\"Unzip a gzip file and extract it to extract_path\n",
    "       :param save_path: The path of the gzip files\n",
    "       :param extract_path: The location to extract the data to\n",
    "       :param database_name: Name of database\n",
    "       :param _: HACK - Used to have to same interface as _unzip\"\"\"\n",
    "    # Get data from save_path\n",
    "    with open(save_path, 'rb') as f:\n",
    "        with gzip.GzipFile(fileobj=f) as bytestream:\n",
    "            magic = _read32(bytestream)\n",
    "            if magic != 2051:\n",
    "                raise ValueError('Invalid magic number {} in file: {}'.format(magic, f.name))\n",
    "            num_images = _read32(bytestream)\n",
    "            rows = _read32(bytestream)\n",
    "            cols = _read32(bytestream)\n",
    "            buf = bytestream.read(rows * cols * num_images)\n",
    "            data = np.frombuffer(buf, dtype=np.uint8)\n",
    "            data = data.reshape(num_images, rows, cols)\n",
    "\n",
    "    # Save data to extract_path\n",
    "    for image_i, image in enumerate(\n",
    "            tqdm(data, unit='File', unit_scale=True, miniters=1, desc='Extracting {}'.format(database_name))):\n",
    "        Image.fromarray(image, 'L').save(os.path.join(extract_path, 'image_{}.jpg'.format(image_i)))  "
   ]
  },
  {
   "cell_type": "code",
   "execution_count": 8,
   "metadata": {
    "collapsed": true
   },
   "outputs": [],
   "source": [
    "hide_code\n",
    "# https://github.com/udacity/deep-learning/blob/master/face_generation/helper.py\n",
    "def get_image(image_path, width, height, mode):\n",
    "    \"\"\"Read image from image_path\n",
    "       :param image_path: Path of image\n",
    "       :param width: Width of image\n",
    "       :param height: Height of image\n",
    "       :param mode: Mode of image\n",
    "       :return: Image data\"\"\"\n",
    "    image = Image.open(image_path)\n",
    "\n",
    "    if image.size != (width, height):  # HACK - Check if image is from the CELEBA dataset\n",
    "        # Remove most pixels that aren't part of a face\n",
    "        face_width = face_height = 108\n",
    "        j = (image.size[0] - face_width) // 2\n",
    "        i = (image.size[1] - face_height) // 2\n",
    "        image = image.crop([j, i, j + face_width, i + face_height])\n",
    "        image = image.resize([width, height], Image.BILINEAR)\n",
    "\n",
    "    return np.array(image.convert(mode))\n",
    "\n",
    "def get_batch(image_files, width, height, mode):\n",
    "    data_batch = np.array(\n",
    "        [get_image(sample_file, width, height, mode) for sample_file in image_files]).astype(np.float32)\n",
    "\n",
    "    # Make sure the images are in 4 dimensions\n",
    "    if len(data_batch.shape) < 4:\n",
    "        data_batch = data_batch.reshape(data_batch.shape + (1,))\n",
    "\n",
    "    return data_batch"
   ]
  },
  {
   "cell_type": "code",
   "execution_count": 9,
   "metadata": {
    "collapsed": true
   },
   "outputs": [],
   "source": [
    "hide_code\n",
    "# https://github.com/udacity/deep-learning/blob/master/face_generation/helper.py\n",
    "def images_square_grid(images, mode):\n",
    "    \"\"\"Save images as a square grid\n",
    "       :param images: Images to be used for the grid\n",
    "       :param mode: The mode to use for images\n",
    "       :return: Image of images in a square grid\"\"\"\n",
    "    # Get maximum size for square grid of images\n",
    "    save_size = math.floor(np.sqrt(images.shape[0]))\n",
    "\n",
    "    # Scale to 0-255\n",
    "    images = (((images - images.min()) * 255) / (images.max() - images.min())).astype(np.uint8)\n",
    "\n",
    "    # Put images in a square arrangement\n",
    "    images_in_square = np.reshape(\n",
    "            images[:save_size*save_size],\n",
    "            (save_size, save_size, images.shape[1], images.shape[2], images.shape[3]))\n",
    "    if mode == 'L':\n",
    "        images_in_square = np.squeeze(images_in_square, 4)\n",
    "\n",
    "    # Combine images to grid image\n",
    "    new_im = Image.new(mode, (images.shape[1] * save_size, images.shape[2] * save_size))\n",
    "    for col_i, col_images in enumerate(images_in_square):\n",
    "        for image_i, image in enumerate(col_images):\n",
    "            im = Image.fromarray(image, mode)\n",
    "            new_im.paste(im, (col_i * images.shape[1], image_i * images.shape[2]))\n",
    "\n",
    "    return new_im"
   ]
  },
  {
   "cell_type": "code",
   "execution_count": 10,
   "metadata": {
    "collapsed": true
   },
   "outputs": [],
   "source": [
    "hide_code\n",
    "# https://github.com/udacity/deep-learning/blob/master/face_generation/helper.py\n",
    "def download_extract(database_name, data_path):\n",
    "    \"\"\"Download and extract database\n",
    "       :param database_name: Database name\"\"\"\n",
    "    DATASET_CELEBA_NAME = 'celeba'\n",
    "    DATASET_MNIST_NAME = 'mnist'\n",
    "\n",
    "    if database_name == DATASET_CELEBA_NAME:\n",
    "        url = 'https://s3-us-west-1.amazonaws.com/udacity-dlnfd/datasets/celeba.zip'\n",
    "        hash_code = '00d2c5bc6d35e252742224ab0c1e8fcb'\n",
    "        extract_path = os.path.join(data_path, 'img_align_celeba')\n",
    "        save_path = os.path.join(data_path, 'celeba.zip')\n",
    "        extract_fn = _unzip\n",
    "    elif database_name == DATASET_MNIST_NAME:\n",
    "        url = 'http://yann.lecun.com/exdb/mnist/train-images-idx3-ubyte.gz'\n",
    "        hash_code = 'f68b3c2dcbeaaa9fbdd348bbdeb94873'\n",
    "        extract_path = os.path.join(data_path, 'mnist')\n",
    "        save_path = os.path.join(data_path, 'train-images-idx3-ubyte.gz')\n",
    "        extract_fn = _ungzip\n",
    "\n",
    "    if os.path.exists(extract_path):\n",
    "        print('Found {} Data'.format(database_name))\n",
    "        return\n",
    "\n",
    "    if not os.path.exists(data_path):\n",
    "        os.makedirs(data_path)\n",
    "\n",
    "    if not os.path.exists(save_path):\n",
    "        with DLProgress(unit='B', unit_scale=True, miniters=1, desc='Downloading {}'.format(database_name)) as pbar:\n",
    "            urlretrieve(\n",
    "                url,\n",
    "                save_path,\n",
    "                pbar.hook)\n",
    "\n",
    "    assert hashlib.md5(open(save_path, 'rb').read()).hexdigest() == hash_code, \\\n",
    "        '{} file is corrupted.  Remove the file and try again.'.format(save_path)\n",
    "\n",
    "    os.makedirs(extract_path)\n",
    "    try:\n",
    "        extract_fn(save_path, extract_path, database_name, data_path)\n",
    "    except Exception as err:\n",
    "        shutil.rmtree(extract_path)  # Remove extraction folder if there is an error\n",
    "        raise err\n",
    "\n",
    "    # Remove compressed data\n",
    "    os.remove(save_path)"
   ]
  },
  {
   "cell_type": "code",
   "execution_count": 11,
   "metadata": {
    "collapsed": true
   },
   "outputs": [],
   "source": [
    "hide_code\n",
    "# https://github.com/udacity/deep-learning/blob/master/face_generation/helper.py\n",
    "class Dataset(object):\n",
    "    def __init__(self, dataset_name, data_files):\n",
    "        \"\"\"Initalize the class\n",
    "           :param dataset_name: Database name\n",
    "           :param data_files: List of files in the database\"\"\"\n",
    "        DATASET_CELEBA_NAME = 'celeba'\n",
    "        DATASET_MNIST_NAME = 'mnist'\n",
    "        IMAGE_WIDTH = 28\n",
    "        IMAGE_HEIGHT = 28\n",
    "\n",
    "        if dataset_name == DATASET_CELEBA_NAME:\n",
    "            self.image_mode = 'RGB'\n",
    "            image_channels = 3\n",
    "\n",
    "        elif dataset_name == DATASET_MNIST_NAME:\n",
    "            self.image_mode = 'L'\n",
    "            image_channels = 1\n",
    "\n",
    "        self.data_files = data_files\n",
    "        self.shape = len(data_files), IMAGE_WIDTH, IMAGE_HEIGHT, image_channels\n",
    "\n",
    "    def get_batches(self, batch_size):\n",
    "        \"\"\"Generate batches\n",
    "          :param batch_size: Batch Size\n",
    "          :return: Batches of data\"\"\"\n",
    "        IMAGE_MAX_VALUE = 255\n",
    "\n",
    "        current_index = 0\n",
    "        while current_index + batch_size <= self.shape[0]:\n",
    "            data_batch = get_batch(\n",
    "                self.data_files[current_index:current_index + batch_size],\n",
    "                *self.shape[1:3],\n",
    "                self.image_mode)\n",
    "\n",
    "            current_index += batch_size\n",
    "\n",
    "            yield data_batch / IMAGE_MAX_VALUE - 0.5"
   ]
  },
  {
   "cell_type": "code",
   "execution_count": 12,
   "metadata": {
    "collapsed": true
   },
   "outputs": [],
   "source": [
    "hide_code\n",
    "# https://github.com/udacity/deep-learning/blob/master/face_generation/helper.py\n",
    "class DLProgress(tqdm):\n",
    "    \"\"\"Handle Progress Bar while Downloading\"\"\"\n",
    "    last_block = 0\n",
    "\n",
    "    def hook(self, block_num=1, block_size=1, total_size=None):\n",
    "        \"\"\"A hook function that will be called once on establishment of the network connection \n",
    "           and once after each block read thereafter.\n",
    "           :param block_num: A count of blocks transferred so far\n",
    "           :param block_size: Block size in bytes\n",
    "           :param total_size: The total size of the file. This may be -1 on older FTP servers \n",
    "                              which do not return a file size in response to a retrieval request.\"\"\"\n",
    "        self.total = total_size\n",
    "        self.update((block_num - self.last_block) * block_size)\n",
    "        self.last_block = block_num"
   ]
  },
  {
   "cell_type": "code",
   "execution_count": 13,
   "metadata": {
    "collapsed": true
   },
   "outputs": [],
   "source": [
    "hide_code\n",
    "# https://github.com/udacity/deep-learning/blob/master/face_generation/problem_unittests.py\n",
    "def test_safe(func):\n",
    "    \"\"\"\n",
    "    Isolate tests\n",
    "    \"\"\"\n",
    "    def func_wrapper(*args):\n",
    "        with tf.Graph().as_default():\n",
    "            result = func(*args)\n",
    "        print('Tests Passed')\n",
    "        return result\n",
    "\n",
    "    return func_wrapper\n",
    "\n",
    "def _assert_tensor_shape(tensor, shape, display_name):\n",
    "    assert tf.assert_rank(tensor, len(shape), message='{} has wrong rank'.format(display_name))\n",
    "\n",
    "    tensor_shape = tensor.get_shape().as_list() if len(shape) else []\n",
    "\n",
    "    wrong_dimension = [ten_dim for ten_dim, cor_dim in zip(tensor_shape, shape)\n",
    "                       if cor_dim is not None and ten_dim != cor_dim]\n",
    "    assert not wrong_dimension, \\\n",
    "        '{} has wrong shape.  Found {}'.format(display_name, tensor_shape)\n",
    "\n",
    "def _check_input(tensor, shape, display_name, tf_name=None):\n",
    "    assert tensor.op.type == 'Placeholder', \\\n",
    "        '{} is not a Placeholder.'.format(display_name)\n",
    "\n",
    "    _assert_tensor_shape(tensor, shape, 'Real Input')\n",
    "\n",
    "    if tf_name:\n",
    "        assert tensor.name == tf_name, \\\n",
    "            '{} has bad name.  Found name {}'.format(display_name, tensor.name)"
   ]
  },
  {
   "cell_type": "code",
   "execution_count": 14,
   "metadata": {
    "collapsed": true
   },
   "outputs": [],
   "source": [
    "hide_code\n",
    "# https://github.com/udacity/deep-learning/blob/master/face_generation/problem_unittests.py\n",
    "class TmpMock():\n",
    "    \"\"\"Mock a attribute.  Restore attribute when exiting scope.\"\"\"\n",
    "    def __init__(self, module, attrib_name):\n",
    "        self.original_attrib = deepcopy(getattr(module, attrib_name))\n",
    "        setattr(module, attrib_name, mock.MagicMock())\n",
    "        self.module = module\n",
    "        self.attrib_name = attrib_name\n",
    "\n",
    "    def __enter__(self):\n",
    "        return getattr(self.module, self.attrib_name)\n",
    "\n",
    "    def __exit__(self, type, value, traceback):\n",
    "        setattr(self.module, self.attrib_name, self.original_attrib)"
   ]
  },
  {
   "cell_type": "code",
   "execution_count": 15,
   "metadata": {
    "collapsed": true
   },
   "outputs": [],
   "source": [
    "hide_code\n",
    "# https://github.com/udacity/deep-learning/blob/master/face_generation/problem_unittests.py\n",
    "@test_safe\n",
    "def test_model_inputs(model_inputs):\n",
    "    image_width = 28\n",
    "    image_height = 28\n",
    "    image_channels = 3\n",
    "    z_dim = 100\n",
    "    input_real, input_z, learn_rate = model_inputs(image_width, image_height, image_channels, z_dim)\n",
    "\n",
    "    _check_input(input_real, [None, image_width, image_height, image_channels], 'Real Input')\n",
    "    _check_input(input_z, [None, z_dim], 'Z Input')\n",
    "    _check_input(learn_rate, [], 'Learning Rate')\n",
    "\n",
    "@test_safe\n",
    "def test_discriminator(discriminator, tf_module):\n",
    "    with TmpMock(tf_module, 'variable_scope') as mock_variable_scope:\n",
    "        image = tf.placeholder(tf.float32, [None, 28, 28, 3])\n",
    "\n",
    "        output, logits = discriminator(image)\n",
    "        _assert_tensor_shape(output, [None, 1], 'Discriminator Training(reuse=false) output')\n",
    "        _assert_tensor_shape(logits, [None, 1], 'Discriminator Training(reuse=false) Logits')\n",
    "        assert mock_variable_scope.called,\\\n",
    "            'tf.variable_scope not called in Discriminator Training(reuse=false)'\n",
    "        assert mock_variable_scope.call_args == mock.call('discriminator', reuse=False), \\\n",
    "            'tf.variable_scope called with wrong arguments in Discriminator Training(reuse=false)'\n",
    "\n",
    "        mock_variable_scope.reset_mock()\n",
    "\n",
    "        output_reuse, logits_reuse = discriminator(image, True)\n",
    "        _assert_tensor_shape(output_reuse, [None, 1], 'Discriminator Inference(reuse=True) output')\n",
    "        _assert_tensor_shape(logits_reuse, [None, 1], 'Discriminator Inference(reuse=True) Logits')\n",
    "        assert mock_variable_scope.called, \\\n",
    "            'tf.variable_scope not called in Discriminator Inference(reuse=True)'\n",
    "        assert mock_variable_scope.call_args == mock.call('discriminator', reuse=True), \\\n",
    "            'tf.variable_scope called with wrong arguments in Discriminator Inference(reuse=True)'\n",
    "\n",
    "@test_safe\n",
    "def test_generator(generator, tf_module):\n",
    "    with TmpMock(tf_module, 'variable_scope') as mock_variable_scope:\n",
    "        z = tf.placeholder(tf.float32, [None, 100])\n",
    "        out_channel_dim = 5\n",
    "\n",
    "        output = generator(z, out_channel_dim)\n",
    "        _assert_tensor_shape(output, [None, 28, 28, out_channel_dim], 'Generator output (is_train=True)')\n",
    "        assert mock_variable_scope.called, \\\n",
    "            'tf.variable_scope not called in Generator Training(reuse=false)'\n",
    "        assert mock_variable_scope.call_args == mock.call('generator', reuse=False), \\\n",
    "            'tf.variable_scope called with wrong arguments in Generator Training(reuse=false)'\n",
    "\n",
    "        mock_variable_scope.reset_mock()\n",
    "        output = generator(z, out_channel_dim, False)\n",
    "        _assert_tensor_shape(output, [None, 28, 28, out_channel_dim], 'Generator output (is_train=False)')\n",
    "        assert mock_variable_scope.called, \\\n",
    "            'tf.variable_scope not called in Generator Inference(reuse=True)'\n",
    "        assert mock_variable_scope.call_args == mock.call('generator', reuse=True), \\\n",
    "            'tf.variable_scope called with wrong arguments in Generator Inference(reuse=True)'\n",
    "\n",
    "@test_safe\n",
    "def test_model_loss(model_loss):\n",
    "    out_channel_dim = 4\n",
    "    input_real = tf.placeholder(tf.float32, [None, 28, 28, out_channel_dim])\n",
    "    input_z = tf.placeholder(tf.float32, [None, 100])\n",
    "\n",
    "    d_loss, g_loss = model_loss(input_real, input_z, out_channel_dim)\n",
    "\n",
    "    _assert_tensor_shape(d_loss, [], 'Discriminator Loss')\n",
    "    _assert_tensor_shape(d_loss, [], 'Generator Loss')\n",
    "\n",
    "@test_safe\n",
    "def test_model_opt(model_opt, tf_module):\n",
    "    with TmpMock(tf_module, 'trainable_variables') as mock_trainable_variables:\n",
    "        with tf.variable_scope('discriminator'):\n",
    "            discriminator_logits = tf.Variable(tf.zeros([3, 3]))\n",
    "        with tf.variable_scope('generator'):\n",
    "            generator_logits = tf.Variable(tf.zeros([3, 3]))\n",
    "\n",
    "        mock_trainable_variables.return_value = [discriminator_logits, generator_logits]\n",
    "        d_loss = tf.reduce_mean(tf.nn.sigmoid_cross_entropy_with_logits(\n",
    "            logits=discriminator_logits,\n",
    "            labels=[[0.0, 0.0, 1.0], [0.0, 1.0, 0.0], [1.0, 0.0, 0.0]]))\n",
    "        g_loss = tf.reduce_mean(tf.nn.sigmoid_cross_entropy_with_logits(\n",
    "            logits=generator_logits,\n",
    "            labels=[[0.0, 0.0, 1.0], [0.0, 1.0, 0.0], [1.0, 0.0, 0.0]]))\n",
    "        learning_rate = 0.001\n",
    "        beta1 = 0.9\n",
    "\n",
    "        d_train_opt, g_train_opt = model_opt(d_loss, g_loss, learning_rate, beta1)\n",
    "        assert mock_trainable_variables.called,\\\n",
    "            'tf.mock_trainable_variables not called'"
   ]
  },
  {
   "cell_type": "markdown",
   "metadata": {},
   "source": [
    "## Get the Data\n",
    "You'll be using two datasets in this project:\n",
    "- MNIST\n",
    "- CelebA\n",
    "\n",
    "Since the celebA dataset is complex and you're doing GANs in a project for the first time, we want you to test your neural network on MNIST before CelebA.  Running the GANs on MNIST will allow you to see how well your model trains sooner.\n",
    "\n",
    "If you're using [FloydHub](https://www.floydhub.com/), set `data_dir` to \"/input\" and use the [FloydHub data ID](http://docs.floydhub.com/home/using_datasets/) \"R5KrjnANiKVhLWAkpXhNBe\"."
   ]
  },
  {
   "cell_type": "code",
   "execution_count": 16,
   "metadata": {},
   "outputs": [
    {
     "name": "stdout",
     "output_type": "stream",
     "text": [
      "Found mnist Data\n",
      "Found celeba Data\n"
     ]
    }
   ],
   "source": [
    "hide_code\n",
    "data_dir = 'data'\n",
    "# FloydHub - Use with data ID \"R5KrjnANiKVhLWAkpXhNBe\"\n",
    "# data_dir = '/input'\n",
    "\"\"\"DON'T MODIFY ANYTHING IN THIS CELL\"\"\"\n",
    "\n",
    "download_extract('mnist', data_dir)\n",
    "download_extract('celeba', data_dir)"
   ]
  },
  {
   "cell_type": "markdown",
   "metadata": {},
   "source": [
    "## Explore the Data\n",
    "### MNIST\n",
    "As you're aware, the [MNIST](http://yann.lecun.com/exdb/mnist/) dataset contains images of handwritten digits. You can view the first number of examples by changing `show_n_images`. "
   ]
  },
  {
   "cell_type": "code",
   "execution_count": 17,
   "metadata": {},
   "outputs": [
    {
     "data": {
      "image/png": "[encoded data removed]",
      "text/plain": [
       "<matplotlib.figure.Figure at 0x104a81978>"
      ]
     },
     "metadata": {
      "image/png": {
       "height": 251,
       "width": 259
      }
     },
     "output_type": "display_data"
    }
   ],
   "source": [
    "hide_code\n",
    "show_n_images = 25\n",
    "\"\"\"DON'T MODIFY ANYTHING IN THIS CELL\"\"\"\n",
    "\n",
    "mnist_images = get_batch(glob(os.path.join(data_dir, 'mnist/*.jpg'))[:show_n_images], 28, 28, 'L')\n",
    "pyplot.imshow(images_square_grid(mnist_images, 'L'), cmap=cm.bone);"
   ]
  },
  {
   "cell_type": "markdown",
   "metadata": {},
   "source": [
    "### CelebA\n",
    "The [CelebFaces Attributes Dataset (CelebA)](http://mmlab.ie.cuhk.edu.hk/projects/CelebA.html) dataset contains over 200,000 celebrity images with annotations.  Since you're going to be generating faces, you won't need the annotations.  You can view the first number of examples by changing `show_n_images`."
   ]
  },
  {
   "cell_type": "code",
   "execution_count": 18,
   "metadata": {},
   "outputs": [
    {
     "data": {
      "image/png": "[encoded data removed]",
      "text/plain": [
       "<matplotlib.figure.Figure at 0x103265630>"
      ]
     },
     "metadata": {
      "image/png": {
       "height": 251,
       "width": 259
      }
     },
     "output_type": "display_data"
    }
   ],
   "source": [
    "hide_code\n",
    "\"\"\"DON'T MODIFY ANYTHING IN THIS CELL\"\"\"\n",
    "\n",
    "celeba_images = get_batch(glob(os.path.join(data_dir, 'img_align_celeba/*.jpg'))[:show_n_images], 28, 28, 'RGB')\n",
    "pyplot.imshow(images_square_grid(celeba_images, 'RGB'));"
   ]
  },
  {
   "cell_type": "markdown",
   "metadata": {},
   "source": [
    "## Preprocess the Data\n",
    "Since the project's main focus is on building the GANs, we'll preprocess the data for you.\n",
    "\n",
    "- The values of the MNIST and CelebA dataset will be in the range of -0.5 to 0.5 of 28x28 dimensional images.  \n",
    "- The CelebA images will be cropped to remove parts of the image that don't include a face, then resized down to 28x28.\n",
    "\n",
    "The MNIST images are black and white images with a single [color channel](https://en.wikipedia.org/wiki/Channel_(digital_image%29) while the CelebA images have [3 color channels (RGB color channel)](https://en.wikipedia.org/wiki/Channel_(digital_image%29#RGB_Images).\n",
    "## Build the Neural Network\n",
    "You'll build the components necessary to build a GANs by implementing the following functions below:\n",
    "- `model_inputs`\n",
    "- `discriminator`\n",
    "- `generator`\n",
    "- `model_loss`\n",
    "- `model_opt`\n",
    "- `train`\n",
    "\n",
    "### Check the Version of TensorFlow and Access to GPU\n",
    "This will check to make sure you have the correct version of TensorFlow and access to a GPU"
   ]
  },
  {
   "cell_type": "code",
   "execution_count": 19,
   "metadata": {},
   "outputs": [
    {
     "name": "stdout",
     "output_type": "stream",
     "text": [
      "TensorFlow Version: 1.1.0\n"
     ]
    },
    {
     "name": "stderr",
     "output_type": "stream",
     "text": [
      "/Library/Frameworks/Python.framework/Versions/3.6/lib/python3.6/site-packages/ipykernel_launcher.py:10: UserWarning: No GPU found. Please use a GPU to train your neural network.\n",
      "  # Remove the CWD from sys.path while we load stuff.\n"
     ]
    }
   ],
   "source": [
    "hide_code\n",
    "\"\"\"DON'T MODIFY ANYTHING IN THIS CELL\"\"\"\n",
    "\n",
    "# Check TensorFlow Version\n",
    "assert LooseVersion(tf.__version__) >= LooseVersion('1.0'), \\\n",
    "'Please use TensorFlow version 1.0 or newer.  You are using {}'.format(tf.__version__)\n",
    "print('TensorFlow Version: {}'.format(tf.__version__))\n",
    "\n",
    "# Check for a GPU\n",
    "if not tf.test.gpu_device_name():\n",
    "    warnings.warn('No GPU found. Please use a GPU to train your neural network.')\n",
    "else:\n",
    "    print('Default GPU Device: {}'.format(tf.test.gpu_device_name()))"
   ]
  },
  {
   "cell_type": "markdown",
   "metadata": {},
   "source": [
    "### Input\n",
    "Implement the `model_inputs` function to create TF Placeholders for the Neural Network. It should create the following placeholders:\n",
    "- Real input images placeholder with rank 4 using `image_width`, `image_height`, and `image_channels`.\n",
    "- Z input placeholder with rank 2 using `z_dim`.\n",
    "- Learning rate placeholder with rank 0.\n",
    "\n",
    "Return the placeholders in the following the tuple (tensor of real input images, tensor of z data)"
   ]
  },
  {
   "cell_type": "code",
   "execution_count": 22,
   "metadata": {},
   "outputs": [
    {
     "name": "stdout",
     "output_type": "stream",
     "text": [
      "Tests Passed\n"
     ]
    }
   ],
   "source": [
    "hide_code\n",
    "def model_inputs(image_width, image_height, image_channels, z_dim):\n",
    "    \"\"\"\n",
    "    Create the model inputs\n",
    "    :param image_width: The input image width\n",
    "    :param image_height: The input image height\n",
    "    :param image_channels: The number of image channels\n",
    "    :param z_dim: The dimension of Z\n",
    "    :return: Tuple of (tensor of real input images, tensor of z data, learning rate)\n",
    "    \"\"\"\n",
    "    # TODO: Implement Function\n",
    "    \n",
    "    input_images = tf.placeholder(tf.float32, \n",
    "                                  [None, image_width, image_height, image_channels], # rank 4\n",
    "                                  \"Real_Input\") \n",
    "    \n",
    "    z_tensor = tf.placeholder(tf.float32, [None, z_dim], \"Z_Input\") # rank 2    \n",
    "    learning_rate = tf.placeholder(tf.float32, [], \"Learning_Rate\") # rank 0\n",
    "    \n",
    "    return input_images, z_tensor, learning_rate\n",
    "\n",
    "\"\"\"DON'T MODIFY ANYTHING IN THIS CELL THAT IS BELOW THIS LINE\"\"\"\n",
    "test_model_inputs(model_inputs)"
   ]
  },
  {
   "cell_type": "markdown",
   "metadata": {},
   "source": [
    "### Discriminator\n",
    "Implement `discriminator` to create a discriminator neural network that discriminates on `images`.  This function should be able to reuse the variables in the neural network.  Use [`tf.variable_scope`](https://www.tensorflow.org/api_docs/python/tf/variable_scope) with a scope name of \"discriminator\" to allow the variables to be reused.  The function should return a tuple of (tensor output of the discriminator, tensor logits of the discriminator)."
   ]
  },
  {
   "cell_type": "code",
   "execution_count": 33,
   "metadata": {},
   "outputs": [
    {
     "name": "stdout",
     "output_type": "stream",
     "text": [
      "Tests Passed\n"
     ]
    }
   ],
   "source": [
    "hide_code\n",
    "def discriminator(images, reuse=False, alpha=0.05):\n",
    "    \"\"\"\n",
    "    Create the discriminator network\n",
    "    :param images: Tensor of input image(s)\n",
    "    :param reuse: Boolean if the weights should be reused\n",
    "    :return: Tuple of (tensor output of the discriminator, tensor logits of the discriminator)\n",
    "    \"\"\"\n",
    "    # TODO: Implement Function\n",
    "    \n",
    "    initializer = tf.random_normal_initializer(stddev=0.05)\n",
    "    \n",
    "    with tf.variable_scope('discriminator', reuse=reuse):\n",
    "        # image shape [28,28,3]\n",
    "        x = tf.layers.conv2d(images, 32, 5, strides=2, activation=tf.nn.relu,\n",
    "                             kernel_initializer=initializer, padding='same')\n",
    "#        x = tf.maximum(x * alpha, x) # leaky_relu activation \n",
    "        \n",
    "        # input shape [14,14,32]       \n",
    "        x = tf.layers.conv2d(x, 96, 5, strides=2, activation=tf.nn.relu,\n",
    "                             kernel_initializer=initializer, padding='same')\n",
    "#        x = tf.maximum(x * alpha, x) # leaky_relu activation       \n",
    "        x = tf.layers.batch_normalization(x, training=True)\n",
    "\n",
    "        # input shape [7,7,96]        \n",
    "        x = tf.layers.conv2d(x, 128, 5, strides=2, activation=tf.nn.relu,\n",
    "                             kernel_initializer=initializer, padding='same')\n",
    "#        x = tf.maximum(x * alpha, x) # leaky_relu activation       \n",
    "        x = tf.layers.batch_normalization(x, training=True)\n",
    "\n",
    "        # input shape [7,7,128]       \n",
    "        x = tf.reshape(x, (-1, 7*7*128))\n",
    "        \n",
    "        dis_logits = tf.layers.dense(x, 1)\n",
    "        dis_outputs = tf.sigmoid(dis_logits)\n",
    "        \n",
    "    return dis_outputs, dis_logits\n",
    "\n",
    "\"\"\"DON'T MODIFY ANYTHING IN THIS CELL THAT IS BELOW THIS LINE\"\"\"\n",
    "test_discriminator(discriminator, tf)"
   ]
  },
  {
   "cell_type": "markdown",
   "metadata": {},
   "source": [
    "### Generator\n",
    "Implement `generator` to generate an image using `z`. This function should be able to reuse the variables in the neural network.  Use [`tf.variable_scope`](https://www.tensorflow.org/api_docs/python/tf/variable_scope) with a scope name of \"generator\" to allow the variables to be reused. The function should return the generated 28 x 28 x `out_channel_dim` images."
   ]
  },
  {
   "cell_type": "code",
   "execution_count": 31,
   "metadata": {},
   "outputs": [
    {
     "name": "stdout",
     "output_type": "stream",
     "text": [
      "Tests Passed\n"
     ]
    }
   ],
   "source": [
    "hide_code\n",
    "def generator(z, out_channel_dim, is_train=True):\n",
    "    \"\"\"\n",
    "    Create the generator network\n",
    "    :param z: Input z\n",
    "    :param out_channel_dim: The number of channels in the output image\n",
    "    :param is_train: Boolean if generator is being used for training\n",
    "    :return: The tensor output of the generator\n",
    "    \"\"\"\n",
    "    # TODO: Implement Function\n",
    "    initializer = tf.random_normal_initializer(stddev=0.05)\n",
    "    \n",
    "    with tf.variable_scope('generator', reuse=(not is_train)):\n",
    "        \n",
    "        x = tf.layers.dense(z, 7*7*128, activation=tf.nn.relu)\n",
    "        x = tf.reshape(x, (-1, 7, 7, 128))\n",
    "        \n",
    "#        x = tf.maximum(x * alpha, x) # leaky_relu activation \n",
    "        x = tf.layers.batch_normalization(x, training=is_train)\n",
    "        \n",
    "        # input shape [7,7,128]       \n",
    "        x = tf.layers.conv2d_transpose(x, 96, 5, strides=2, activation=tf.nn.relu,\n",
    "                                       kernel_initializer=initializer, padding='same')\n",
    "        \n",
    "#        x = tf.maximum(x * alpha, x) # leaky_relu activation \n",
    "        x = tf.layers.batch_normalization(x, training=is_train)\n",
    "\n",
    "        # input shape [14,14,96]\n",
    "        x = tf.layers.conv2d_transpose(x, 32, 5, strides=2, activation=tf.nn.relu,\n",
    "                                       kernel_initializer=initializer, padding='same')\n",
    "        \n",
    "#        x = tf.maximum(x * alpha, x) # leaky_relu activation \n",
    "        x = tf.layers.batch_normalization(x, training=is_train)\n",
    "\n",
    "        # input shape [28,28,32]        \n",
    "        logits = tf.layers.conv2d_transpose(x, out_channel_dim, 3, strides=1, \n",
    "                                            kernel_initializer=initializer, padding='same')\n",
    "\n",
    "        # input shape [28,28,3]         \n",
    "        output = tf.tanh(logits)\n",
    "    \n",
    "    return output    \n",
    "\n",
    "\"\"\"DON'T MODIFY ANYTHING IN THIS CELL THAT IS BELOW THIS LINE\"\"\"\n",
    "test_generator(generator, tf)"
   ]
  },
  {
   "cell_type": "markdown",
   "metadata": {},
   "source": [
    "### Loss\n",
    "Implement `model_loss` to build the GANs for training and calculate the loss.  The function should return a tuple of (discriminator loss, generator loss).  Use the following functions you implemented:\n",
    "- `discriminator(images, reuse=False)`\n",
    "- `generator(z, out_channel_dim, is_train=True)`"
   ]
  },
  {
   "cell_type": "code",
   "execution_count": null,
   "metadata": {},
   "outputs": [],
   "source": [
    "hide_code\n",
    "def model_loss(input_real, input_z, out_channel_dim):\n",
    "    \"\"\"\n",
    "    Get the loss for the discriminator and generator\n",
    "    :param input_real: Images from the real dataset\n",
    "    :param input_z: Z input\n",
    "    :param out_channel_dim: The number of channels in the output image\n",
    "    :return: A tuple of (discriminator loss, generator loss)\n",
    "    \"\"\"\n",
    "    # TODO: Implement Function\n",
    "    \n",
    "    return None, None\n",
    "\n",
    "\"\"\"DON'T MODIFY ANYTHING IN THIS CELL THAT IS BELOW THIS LINE\"\"\"\n",
    "test_model_loss(model_loss)"
   ]
  },
  {
   "cell_type": "markdown",
   "metadata": {},
   "source": [
    "### Optimization\n",
    "Implement `model_opt` to create the optimization operations for the GANs. Use [`tf.trainable_variables`](https://www.tensorflow.org/api_docs/python/tf/trainable_variables) to get all the trainable variables.  Filter the variables with names that are in the discriminator and generator scope names.  The function should return a tuple of (discriminator training operation, generator training operation)."
   ]
  },
  {
   "cell_type": "code",
   "execution_count": null,
   "metadata": {},
   "outputs": [],
   "source": [
    "hide_code\n",
    "def model_opt(d_loss, g_loss, learning_rate, beta1):\n",
    "    \"\"\"\n",
    "    Get optimization operations\n",
    "    :param d_loss: Discriminator loss Tensor\n",
    "    :param g_loss: Generator loss Tensor\n",
    "    :param learning_rate: Learning Rate Placeholder\n",
    "    :param beta1: The exponential decay rate for the 1st moment in the optimizer\n",
    "    :return: A tuple of (discriminator training operation, generator training operation)\n",
    "    \"\"\"\n",
    "    # TODO: Implement Function\n",
    "    \n",
    "    return None, None\n",
    "\n",
    "\"\"\"DON'T MODIFY ANYTHING IN THIS CELL THAT IS BELOW THIS LINE\"\"\"\n",
    "test_model_opt(model_opt, tf)"
   ]
  },
  {
   "cell_type": "markdown",
   "metadata": {},
   "source": [
    "## Neural Network Training\n",
    "### Show Output\n",
    "Use this function to show the current output of the generator during training. It will help you determine how well the GANs is training."
   ]
  },
  {
   "cell_type": "code",
   "execution_count": 26,
   "metadata": {
    "collapsed": true
   },
   "outputs": [],
   "source": [
    "hide_code\n",
    "\"\"\"DON'T MODIFY ANYTHING IN THIS CELL\"\"\"\n",
    "\n",
    "def show_generator_output(sess, n_images, input_z, out_channel_dim, image_mode):\n",
    "    \"\"\"\n",
    "    Show example output for the generator\n",
    "    :param sess: TensorFlow session\n",
    "    :param n_images: Number of Images to display\n",
    "    :param input_z: Input Z Tensor\n",
    "    :param out_channel_dim: The number of channels in the output image\n",
    "    :param image_mode: The mode to use for images (\"RGB\" or \"L\")\n",
    "    \"\"\"\n",
    "    cmap = None if image_mode == 'RGB' else 'gray'\n",
    "    z_dim = input_z.get_shape().as_list()[-1]\n",
    "    example_z = np.random.uniform(-1, 1, size=[n_images, z_dim])\n",
    "\n",
    "    samples = sess.run(\n",
    "        generator(input_z, out_channel_dim, False),\n",
    "        feed_dict={input_z: example_z})\n",
    "\n",
    "    images_grid = helper.images_square_grid(samples, image_mode)\n",
    "    pyplot.imshow(images_grid, cmap=cmap)\n",
    "    pyplot.show()"
   ]
  },
  {
   "cell_type": "markdown",
   "metadata": {},
   "source": [
    "### Train\n",
    "Implement `train` to build and train the GANs.  Use the following functions you implemented:\n",
    "- `model_inputs(image_width, image_height, image_channels, z_dim)`\n",
    "- `model_loss(input_real, input_z, out_channel_dim)`\n",
    "- `model_opt(d_loss, g_loss, learning_rate, beta1)`\n",
    "\n",
    "Use the `show_generator_output` to show `generator` output while you train. Running `show_generator_output` for every batch will drastically increase training time and increase the size of the notebook.  It's recommended to print the `generator` output every 100 batches."
   ]
  },
  {
   "cell_type": "code",
   "execution_count": null,
   "metadata": {
    "collapsed": true
   },
   "outputs": [],
   "source": [
    "hide_code\n",
    "def train(epoch_count, batch_size, z_dim, learning_rate, beta1, get_batches, data_shape, data_image_mode):\n",
    "    \"\"\"\n",
    "    Train the GAN\n",
    "    :param epoch_count: Number of epochs\n",
    "    :param batch_size: Batch Size\n",
    "    :param z_dim: Z dimension\n",
    "    :param learning_rate: Learning Rate\n",
    "    :param beta1: The exponential decay rate for the 1st moment in the optimizer\n",
    "    :param get_batches: Function to get batches\n",
    "    :param data_shape: Shape of the data\n",
    "    :param data_image_mode: The image mode to use for images (\"RGB\" or \"L\")\n",
    "    \"\"\"\n",
    "    # TODO: Build Model\n",
    "    \n",
    "    \n",
    "    with tf.Session() as sess:\n",
    "        sess.run(tf.global_variables_initializer())\n",
    "        for epoch_i in range(epoch_count):\n",
    "            for batch_images in get_batches(batch_size):\n",
    "                # TODO: Train Model                              "
   ]
  },
  {
   "cell_type": "markdown",
   "metadata": {},
   "source": [
    "### MNIST\n",
    "Test your GANs architecture on MNIST.  After 2 epochs, the GANs should be able to generate images that look like handwritten digits.  Make sure the loss of the generator is lower than the loss of the discriminator or close to 0."
   ]
  },
  {
   "cell_type": "code",
   "execution_count": null,
   "metadata": {
    "scrolled": true
   },
   "outputs": [],
   "source": [
    "hide_code\n",
    "batch_size = None\n",
    "z_dim = None\n",
    "learning_rate = None\n",
    "beta1 = None\n",
    "\n",
    "\"\"\"DON'T MODIFY ANYTHING IN THIS CELL THAT IS BELOW THIS LINE\"\"\"\n",
    "epochs = 2\n",
    "\n",
    "mnist_dataset = helper.Dataset('mnist', glob(os.path.join(data_dir, 'mnist/*.jpg')))\n",
    "with tf.Graph().as_default():\n",
    "    train(epochs, batch_size, z_dim, learning_rate, beta1, mnist_dataset.get_batches,\n",
    "          mnist_dataset.shape, mnist_dataset.image_mode)"
   ]
  },
  {
   "cell_type": "markdown",
   "metadata": {},
   "source": [
    "### CelebA\n",
    "Run your GANs on CelebA.  It will take around 20 minutes on the average GPU to run one epoch.  You can run the whole epoch or stop when it starts to generate realistic faces."
   ]
  },
  {
   "cell_type": "code",
   "execution_count": null,
   "metadata": {
    "scrolled": true
   },
   "outputs": [],
   "source": [
    "hide_code\n",
    "batch_size = None\n",
    "z_dim = None\n",
    "learning_rate = None\n",
    "beta1 = None\n",
    "\n",
    "\"\"\"DON'T MODIFY ANYTHING IN THIS CELL THAT IS BELOW THIS LINE\"\"\"\n",
    "epochs = 1\n",
    "\n",
    "celeba_dataset = helper.Dataset('celeba', glob(os.path.join(data_dir, 'img_align_celeba/*.jpg')))\n",
    "with tf.Graph().as_default():\n",
    "    train(epochs, batch_size, z_dim, learning_rate, beta1, celeba_dataset.get_batches,\n",
    "          celeba_dataset.shape, celeba_dataset.image_mode)"
   ]
  },
  {
   "cell_type": "markdown",
   "metadata": {},
   "source": [
    "## Submitting This Project\n",
    "When submitting this project, make sure to run all the cells before saving the notebook. Save the notebook file as \"dlnd_face_generation.ipynb\" and save it as a HTML file under \"File\" -> \"Download as\". Include the \"helper.py\" and \"problem_unittests.py\" files in your submission."
   ]
  }
 ],
 "metadata": {
  "hide_input": false,
  "kernelspec": {
   "display_name": "Python 3",
   "language": "python",
   "name": "python3"
  },
  "language_info": {
   "codemirror_mode": {
    "name": "ipython",
    "version": 3
   },
   "file_extension": ".py",
   "mimetype": "text/x-python",
   "name": "python",
   "nbconvert_exporter": "python",
   "pygments_lexer": "ipython3",
   "version": "3.6.1"
  },
  "latex_envs": {
   "bibliofile": "biblio.bib",
   "cite_by": "apalike",
   "current_citInitial": 1,
   "eqLabelWithNumbers": true,
   "eqNumInitial": 0
  }
 },
 "nbformat": 4,
 "nbformat_minor": 1
}
